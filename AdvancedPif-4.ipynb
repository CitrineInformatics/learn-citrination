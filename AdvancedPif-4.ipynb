{
 "cells": [
  {
   "cell_type": "markdown",
   "metadata": {
    "slideshow": {
     "slide_type": "slide"
    }
   },
   "source": [
    "# The PIF structure\n",
    "The Physical Information File (PIF) is a __general__, __flexible__, and __hierachical__ schema for representing infomation about physical devices and materials. This enables the PIF to store a wide range of information on many kinds of physical systems, but requires more careful thought on where to store information within the schema.\n",
    "\n",
    "\n",
    "Full documentation is available at [citrine.io/pif](citrine.io/pif)"
   ]
  },
  {
   "cell_type": "markdown",
   "metadata": {
    "slideshow": {
     "slide_type": "skip"
    }
   },
   "source": [
    "* The PIF focuses on information specific to physical systems, but is sufficiently __general__ to handle a wide range of systems.\n",
    "* The PIF does not impose a rigid schema, and instead is __flexible__ in exactly where data is stored\n",
    "* The PIF has a __hierarchical__ structure can store information on multiple levels"
   ]
  },
  {
   "cell_type": "markdown",
   "metadata": {
    "slideshow": {
     "slide_type": "slide"
    }
   },
   "source": [
    "## System\n",
    "\n",
    "A system is the primary building block in a PIF record. Systems contain three general categories of information relevant to physical systems:\n",
    "\n",
    "* Identifiers - What is this?\n",
    "\n",
    "* Preparation - How was this made?\n",
    "\n",
    "* Properties - How does this perform and what are its characteristics?"
   ]
  },
  {
   "cell_type": "code",
   "execution_count": 1,
   "metadata": {
    "slideshow": {
     "slide_type": "fragment"
    }
   },
   "outputs": [
    {
     "name": "stdout",
     "output_type": "stream",
     "text": [
      "{\n",
      "    \"category\": \"system.chemical\"\n",
      "}\n"
     ]
    }
   ],
   "source": [
    "from pypif import pif\n",
    "from pypif.obj import *\n",
    "\n",
    "my_pif = ChemicalSystem()\n",
    "\n",
    "print( pif.dumps(my_pif, indent=4))"
   ]
  },
  {
   "cell_type": "markdown",
   "metadata": {
    "slideshow": {
     "slide_type": "slide"
    }
   },
   "source": [
    "## Identifiers\n",
    "What is this?\n",
    "* Formula, composition, name\n"
   ]
  },
  {
   "cell_type": "code",
   "execution_count": 2,
   "metadata": {
    "slideshow": {
     "slide_type": "fragment"
    }
   },
   "outputs": [
    {
     "name": "stdout",
     "output_type": "stream",
     "text": [
      "{\n",
      "    \"category\": \"system.chemical\",\n",
      "    \"chemicalFormula\": \"Li0.0024Ni0.9976O\"\n",
      "}\n"
     ]
    }
   ],
   "source": [
    "my_pif.chemical_formula = \"Li0.0024Ni0.9976O\"\n",
    "\n",
    "print( pif.dumps(my_pif, indent=4))"
   ]
  },
  {
   "cell_type": "markdown",
   "metadata": {
    "slideshow": {
     "slide_type": "slide"
    }
   },
   "source": [
    "## Preparation\n",
    "How was this made?\n",
    "* Processing information"
   ]
  },
  {
   "cell_type": "code",
   "execution_count": 3,
   "metadata": {
    "slideshow": {
     "slide_type": "fragment"
    }
   },
   "outputs": [
    {
     "name": "stdout",
     "output_type": "stream",
     "text": [
      "{\n",
      "    \"category\": \"system.chemical\",\n",
      "    \"chemicalFormula\": \"Li0.0024Ni0.9976O\",\n",
      "    \"processing\": [\n",
      "        {\n",
      "            \"name\": \"Route\",\n",
      "            \"details\": [\n",
      "                {\n",
      "                    \"name\": \"Solid state reaction\"\n",
      "                }\n",
      "            ]\n",
      "        }\n",
      "    ]\n",
      "}\n"
     ]
    }
   ],
   "source": [
    "route = ProcessStep(name=\"Route\")\n",
    "route.details = [Value(name=\"Solid state reaction\")]\n",
    "\n",
    "my_pif.processing = [route]\n",
    "\n",
    "print( pif.dumps(my_pif, indent=4))"
   ]
  },
  {
   "cell_type": "markdown",
   "metadata": {
    "slideshow": {
     "slide_type": "slide"
    }
   },
   "source": [
    "## Properties\n",
    "How does this perform and what are its characteristics?\n",
    "* Properties, measurement conditions\n"
   ]
  },
  {
   "cell_type": "code",
   "execution_count": 4,
   "metadata": {
    "slideshow": {
     "slide_type": "fragment"
    }
   },
   "outputs": [
    {
     "name": "stdout",
     "output_type": "stream",
     "text": [
      "{\n",
      "    \"properties\": [\n",
      "        {\n",
      "            \"name\": \"Crystallinity\",\n",
      "            \"scalars\": \"Polycrystalline\"\n",
      "        },\n",
      "        {\n",
      "            \"name\": \"Resistivity\",\n",
      "            \"scalars\": [\n",
      "                28.8677,\n",
      "                0.2629,\n",
      "                0.0466\n",
      "            ],\n",
      "            \"units\": \"\\\\Ohm*cm\",\n",
      "            \"conditions\": [\n",
      "                {\n",
      "                    \"name\": \"Temperature\",\n",
      "                    \"scalars\": [\n",
      "                        400,\n",
      "                        700,\n",
      "                        1000\n",
      "                    ],\n",
      "                    \"units\": \"K\"\n",
      "                }\n",
      "            ]\n",
      "        },\n",
      "        {\n",
      "            \"name\": \"Power factor\",\n",
      "            \"scalars\": [\n",
      "                0.000121,\n",
      "                0.0166,\n",
      "                0.148\n",
      "            ],\n",
      "            \"units\": \"W/mK\",\n",
      "            \"conditions\": [\n",
      "                {\n",
      "                    \"name\": \"Temperature\",\n",
      "                    \"scalars\": [\n",
      "                        400,\n",
      "                        700,\n",
      "                        1000\n",
      "                    ],\n",
      "                    \"units\": \"K\"\n",
      "                }\n",
      "            ]\n",
      "        }\n",
      "    ],\n",
      "    \"category\": \"system.chemical\",\n",
      "    \"chemicalFormula\": \"Li0.0024Ni0.9976O\",\n",
      "    \"processing\": [\n",
      "        {\n",
      "            \"name\": \"Route\",\n",
      "            \"details\": [\n",
      "                {\n",
      "                    \"name\": \"Solid state reaction\"\n",
      "                }\n",
      "            ]\n",
      "        }\n",
      "    ]\n",
      "}\n"
     ]
    }
   ],
   "source": [
    "crystallinity = Property(name=\"Crystallinity\", scalars=\"Polycrystalline\")\n",
    "resistivity = Property(name=\"Resistivity\", units=\"\\Ohm*cm\", scalars=[28.8677, 0.2629, 0.0466])\n",
    "resistivity.conditions = [Value(name=\"Temperature\", units=\"K\", scalars=[400, 700, 1000])]\n",
    "\n",
    "power_factor = Property(name=\"Power factor\", units=\"W/mK\", scalars=[1.21E-4, 1.66E-2, 1.48E-1])\n",
    "power_factor.conditions = [Value(name=\"Temperature\", units=\"K\", scalars=[400, 700, 1000])]\n",
    "\n",
    "my_pif.properties = [crystallinity, resistivity, power_factor]\n",
    "\n",
    "print( pif.dumps(my_pif, indent=4))"
   ]
  },
  {
   "cell_type": "markdown",
   "metadata": {
    "slideshow": {
     "slide_type": "slide"
    }
   },
   "source": [
    "## Reference information\n"
   ]
  },
  {
   "cell_type": "code",
   "execution_count": 5,
   "metadata": {
    "slideshow": {
     "slide_type": "fragment"
    }
   },
   "outputs": [
    {
     "name": "stdout",
     "output_type": "stream",
     "text": [
      "{\n",
      "    \"references\": [\n",
      "        {\n",
      "            \"doi\": \"10.1143/JJAP.38.L1336\"\n",
      "        }\n",
      "    ],\n",
      "    \"properties\": [\n",
      "        {\n",
      "            \"name\": \"Crystallinity\",\n",
      "            \"scalars\": \"Polycrystalline\"\n",
      "        },\n",
      "        {\n",
      "            \"name\": \"Resistivity\",\n",
      "            \"scalars\": [\n",
      "                28.8677,\n",
      "                0.2629,\n",
      "                0.0466\n",
      "            ],\n",
      "            \"units\": \"\\\\Ohm*cm\",\n",
      "            \"conditions\": [\n",
      "                {\n",
      "                    \"name\": \"Temperature\",\n",
      "                    \"scalars\": [\n",
      "                        400,\n",
      "                        700,\n",
      "                        1000\n",
      "                    ],\n",
      "                    \"units\": \"K\"\n",
      "                }\n",
      "            ]\n",
      "        },\n",
      "        {\n",
      "            \"name\": \"Power factor\",\n",
      "            \"scalars\": [\n",
      "                0.000121,\n",
      "                0.0166,\n",
      "                0.148\n",
      "            ],\n",
      "            \"units\": \"W/mK\",\n",
      "            \"conditions\": [\n",
      "                {\n",
      "                    \"name\": \"Temperature\",\n",
      "                    \"scalars\": [\n",
      "                        400,\n",
      "                        700,\n",
      "                        1000\n",
      "                    ],\n",
      "                    \"units\": \"K\"\n",
      "                }\n",
      "            ]\n",
      "        }\n",
      "    ],\n",
      "    \"category\": \"system.chemical\",\n",
      "    \"chemicalFormula\": \"Li0.0024Ni0.9976O\",\n",
      "    \"processing\": [\n",
      "        {\n",
      "            \"name\": \"Route\",\n",
      "            \"details\": [\n",
      "                {\n",
      "                    \"name\": \"Solid state reaction\"\n",
      "                }\n",
      "            ]\n",
      "        }\n",
      "    ]\n",
      "}\n"
     ]
    }
   ],
   "source": [
    "my_pif.references = [Reference(doi=\"10.1143/JJAP.38.L1336\")]\n",
    "\n",
    "print( pif.dumps(my_pif, indent=4))"
   ]
  },
  {
   "cell_type": "markdown",
   "metadata": {
    "slideshow": {
     "slide_type": "slide"
    }
   },
   "source": [
    "## Hierarchical\n",
    "* Subsystems"
   ]
  },
  {
   "cell_type": "code",
   "execution_count": 6,
   "metadata": {
    "slideshow": {
     "slide_type": "fragment"
    }
   },
   "outputs": [
    {
     "name": "stdout",
     "output_type": "stream",
     "text": [
      "{\n",
      "    \"name\": \"Thermoelectric module\",\n",
      "    \"category\": \"system\",\n",
      "    \"subsystems\": [\n",
      "        {\n",
      "            \"references\": [\n",
      "                {\n",
      "                    \"doi\": \"10.1143/JJAP.38.L1336\"\n",
      "                }\n",
      "            ],\n",
      "            \"properties\": [\n",
      "                {\n",
      "                    \"name\": \"Crystallinity\",\n",
      "                    \"scalars\": \"Polycrystalline\"\n",
      "                },\n",
      "                {\n",
      "                    \"name\": \"Resistivity\",\n",
      "                    \"scalars\": [\n",
      "                        28.8677,\n",
      "                        0.2629,\n",
      "                        0.0466\n",
      "                    ],\n",
      "                    \"units\": \"\\\\Ohm*cm\",\n",
      "                    \"conditions\": [\n",
      "                        {\n",
      "                            \"name\": \"Temperature\",\n",
      "                            \"scalars\": [\n",
      "                                400,\n",
      "                                700,\n",
      "                                1000\n",
      "                            ],\n",
      "                            \"units\": \"K\"\n",
      "                        }\n",
      "                    ]\n",
      "                },\n",
      "                {\n",
      "                    \"name\": \"Power factor\",\n",
      "                    \"scalars\": [\n",
      "                        0.000121,\n",
      "                        0.0166,\n",
      "                        0.148\n",
      "                    ],\n",
      "                    \"units\": \"W/mK\",\n",
      "                    \"conditions\": [\n",
      "                        {\n",
      "                            \"name\": \"Temperature\",\n",
      "                            \"scalars\": [\n",
      "                                400,\n",
      "                                700,\n",
      "                                1000\n",
      "                            ],\n",
      "                            \"units\": \"K\"\n",
      "                        }\n",
      "                    ]\n",
      "                }\n",
      "            ],\n",
      "            \"category\": \"system.chemical\",\n",
      "            \"chemicalFormula\": \"Li0.0024Ni0.9976O\",\n",
      "            \"processing\": [\n",
      "                {\n",
      "                    \"name\": \"Route\",\n",
      "                    \"details\": [\n",
      "                        {\n",
      "                            \"name\": \"Solid state reaction\"\n",
      "                        }\n",
      "                    ]\n",
      "                }\n",
      "            ]\n",
      "        }\n",
      "    ]\n",
      "}\n"
     ]
    }
   ],
   "source": [
    "thermoelectric_module = System(name=\"Thermoelectric module\")\n",
    "thermoelectric_module.subsystems = [my_pif]\n",
    "\n",
    "print( pif.dumps(thermoelectric_module, indent=4))"
   ]
  },
  {
   "cell_type": "markdown",
   "metadata": {
    "slideshow": {
     "slide_type": "slide"
    }
   },
   "source": [
    "## Citrination metadata\n",
    "Citrination identifiers for querying and navigation\n",
    "* UID, Tags"
   ]
  },
  {
   "cell_type": "code",
   "execution_count": 7,
   "metadata": {
    "slideshow": {
     "slide_type": "fragment"
    }
   },
   "outputs": [
    {
     "name": "stdout",
     "output_type": "stream",
     "text": [
      "{\n",
      "    \"tags\": [\n",
      "        \"my_second_upload\"\n",
      "    ],\n",
      "    \"references\": [\n",
      "        {\n",
      "            \"doi\": \"10.1143/JJAP.38.L1336\"\n",
      "        }\n",
      "    ],\n",
      "    \"uid\": \"my-pif\",\n",
      "    \"properties\": [\n",
      "        {\n",
      "            \"name\": \"Crystallinity\",\n",
      "            \"scalars\": \"Polycrystalline\"\n",
      "        },\n",
      "        {\n",
      "            \"name\": \"Resistivity\",\n",
      "            \"scalars\": [\n",
      "                28.8677,\n",
      "                0.2629,\n",
      "                0.0466\n",
      "            ],\n",
      "            \"units\": \"\\\\Ohm*cm\",\n",
      "            \"conditions\": [\n",
      "                {\n",
      "                    \"name\": \"Temperature\",\n",
      "                    \"scalars\": [\n",
      "                        400,\n",
      "                        700,\n",
      "                        1000\n",
      "                    ],\n",
      "                    \"units\": \"K\"\n",
      "                }\n",
      "            ]\n",
      "        },\n",
      "        {\n",
      "            \"name\": \"Power factor\",\n",
      "            \"scalars\": [\n",
      "                0.000121,\n",
      "                0.0166,\n",
      "                0.148\n",
      "            ],\n",
      "            \"units\": \"W/mK\",\n",
      "            \"conditions\": [\n",
      "                {\n",
      "                    \"name\": \"Temperature\",\n",
      "                    \"scalars\": [\n",
      "                        400,\n",
      "                        700,\n",
      "                        1000\n",
      "                    ],\n",
      "                    \"units\": \"K\"\n",
      "                }\n",
      "            ]\n",
      "        }\n",
      "    ],\n",
      "    \"category\": \"system.chemical\",\n",
      "    \"chemicalFormula\": \"Li0.0024Ni0.9976O\",\n",
      "    \"processing\": [\n",
      "        {\n",
      "            \"name\": \"Route\",\n",
      "            \"details\": [\n",
      "                {\n",
      "                    \"name\": \"Solid state reaction\"\n",
      "                }\n",
      "            ]\n",
      "        }\n",
      "    ]\n",
      "}\n"
     ]
    }
   ],
   "source": [
    "my_pif.uid = \"my-pif\"\n",
    "my_pif.tags = [\"my_second_upload\"]\n",
    "\n",
    "print( pif.dumps(my_pif, indent=4))"
   ]
  },
  {
   "cell_type": "markdown",
   "metadata": {
    "slideshow": {
     "slide_type": "fragment"
    }
   },
   "source": [
    "### creating a dataset\n",
    "\n",
    "If you have been completing the API Example tutorials in the order in which they're presented on [Citrination.org/learn](https://citrination.org/learn/api-examples/), feel free to use the dataset id you created previously. Otherwise, the cell below will use the `citrination_client` to create a new dataset and corresponding `dataset_id`."
   ]
  },
  {
   "cell_type": "code",
   "execution_count": 29,
   "metadata": {},
   "outputs": [
    {
     "name": "stdout",
     "output_type": "stream",
     "text": [
      "160722\n"
     ]
    }
   ],
   "source": [
    "#comment this cell if you have an ID from a dataset you created via the website\n",
    "\n",
    "import random\n",
    "import string\n",
    "import json\n",
    "\n",
    "from citrination_client import CitrinationClient\n",
    "from os import environ\n",
    "\n",
    "client = CitrinationClient(environ['CITRINATION_API_KEY'], 'https://citrination.com')\n",
    "\n",
    "\n",
    "#the following lines create a dataset to use throughout the tutorial notebooks\n",
    "random_string = ''.join([random.choice(string.ascii_uppercase + string.digits) for i in range(5)])\n",
    "dataset_name = \"Tutorial dataset \" + random_string\n",
    "\n",
    "dataset = client.data.create_dataset(name=dataset_name, description=\"Dataset for tutorial\", public=False)\n",
    "\n",
    "#your dataset_id will be stored here\n",
    "dataset_id = dataset._id\n",
    "print(dataset_id)"
   ]
  },
  {
   "cell_type": "code",
   "execution_count": 34,
   "metadata": {
    "slideshow": {
     "slide_type": "slide"
    }
   },
   "outputs": [
    {
     "data": {
      "text/plain": [
       "{'_failures': [], '_successes': [{'path': 'example_data/pif.json'}]}"
      ]
     },
     "execution_count": 34,
     "metadata": {},
     "output_type": "execute_result"
    }
   ],
   "source": [
    "\n",
    "filename = \"example_data/pif.json\"\n",
    "with open(filename, 'w') as fp:\n",
    "    pif.dump(my_pif, fp)\n",
    "result = client.data.upload(dataset_id, filename)\n",
    "result.__dict__"
   ]
  },
  {
   "cell_type": "markdown",
   "metadata": {
    "slideshow": {
     "slide_type": "fragment"
    }
   },
   "source": [
    "Once uploaded, a PIF can be viewed at the url http://citrination.com/pifs/{dataset_id}/{version_number}/{uid}"
   ]
  },
  {
   "cell_type": "code",
   "execution_count": null,
   "metadata": {},
   "outputs": [],
   "source": []
  }
 ],
 "metadata": {
  "celltoolbar": "Slideshow",
  "kernelspec": {
   "display_name": "Python 3",
   "language": "python",
   "name": "python3"
  },
  "language_info": {
   "codemirror_mode": {
    "name": "ipython",
    "version": 3
   },
   "file_extension": ".py",
   "mimetype": "text/x-python",
   "name": "python",
   "nbconvert_exporter": "python",
   "pygments_lexer": "ipython3",
   "version": "3.6.4"
  }
 },
 "nbformat": 4,
 "nbformat_minor": 2
}
