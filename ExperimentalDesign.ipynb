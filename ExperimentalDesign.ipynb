{
 "cells": [
  {
   "cell_type": "code",
   "execution_count": 1,
   "metadata": {
    "collapsed": true,
    "slideshow": {
     "slide_type": "skip"
    }
   },
   "outputs": [],
   "source": [
    "from citrination_client import CitrinationClient\n",
    "from os import environ\n",
    "\n",
    "from citrination_client import PifSystemQuery, PifSystemReturningQuery\n",
    "from citrination_client import FieldQuery, ValueQuery, NameQuery\n",
    "from citrination_client import PropertyQuery,DataQuery, DatasetQuery, ChemicalFieldQuery, Filter\n",
    "client = CitrinationClient(environ['CITRINATION_API_KEY'], 'https://citrination.com')"
   ]
  },
  {
   "cell_type": "markdown",
   "metadata": {
    "slideshow": {
     "slide_type": "slide"
    }
   },
   "source": [
    "# Experimental design with Citrination\n",
    "\n",
    "In this notebook, we demonstrate how to use Citrination to select experiments (or simulations, or literature searches) to maximize the impact on an optimization problem."
   ]
  },
  {
   "cell_type": "markdown",
   "metadata": {
    "slideshow": {
     "slide_type": "subslide"
    }
   },
   "source": [
    "## Case study: thermoelectrics\n",
    "\n",
    "Given a list of thermoelectric candidates, how many experiments do we need to find the best one?"
   ]
  },
  {
   "cell_type": "markdown",
   "metadata": {
    "slideshow": {
     "slide_type": "fragment"
    }
   },
   "source": [
    "Here, _best_ will be with respect to the thermoelecric figure of merit, ZT:\n",
    "    $$ ZT = \\frac{\\sigma S^2 T}{\\lambda}, $$\n",
    "where $\\sigma$ is the electrical conductivity, $S$ is the Seebeck coefficient, $T$ is the temperature, and $\\lambda$ is the thermal conductivity.  Higher is better."
   ]
  },
  {
   "cell_type": "markdown",
   "metadata": {
    "slideshow": {
     "slide_type": "slide"
    }
   },
   "source": [
    "# Getting the data\n",
    "\n",
    "We begin by querying for the thermoelectric dataset, which is on Citrination [here](https://citrination.com/datasets/150888).  We want the formula and zT"
   ]
  },
  {
   "cell_type": "code",
   "execution_count": 2,
   "metadata": {
    "collapsed": true,
    "slideshow": {
     "slide_type": "fragment"
    }
   },
   "outputs": [],
   "source": [
    "dataset_id = 150888\n",
    "\n",
    "system_query = PifSystemQuery(\n",
    "    chemical_formula=ChemicalFieldQuery(\n",
    "        extract_as=\"formula\"\n",
    "    ),\n",
    "    properties=PropertyQuery(\n",
    "        name=FieldQuery(\n",
    "            filter=[Filter(equal=\"ZT\")]\n",
    "        ),\n",
    "        value=FieldQuery(\n",
    "            extract_as=\"ZT\"\n",
    "        )\n",
    "    )\n",
    ")\n",
    "thermoelectric_query = PifSystemReturningQuery(\n",
    "                        random_seed=0,\n",
    "                        query=DataQuery(\n",
    "                            dataset=DatasetQuery(\n",
    "                                id=[Filter(equal='150888')]\n",
    "                            ),\n",
    "                        system=system_query))"
   ]
  },
  {
   "cell_type": "markdown",
   "metadata": {
    "slideshow": {
     "slide_type": "subslide"
    }
   },
   "source": [
    "Let's run this query and see what we get:"
   ]
  },
  {
   "cell_type": "code",
   "execution_count": 3,
   "metadata": {
    "slideshow": {
     "slide_type": "fragment"
    }
   },
   "outputs": [
    {
     "name": "stdout",
     "output_type": "stream",
     "text": [
      "We found 165 records\n",
      "[{u'ZT': u'0.026234732', u'formula': u'La0.98Sr0.02CoO3'}, {u'ZT': u'0.030958179', u'formula': u'Zr0.4Hf0.4Ti0.2NiSn'}]\n"
     ]
    }
   ],
   "source": [
    "search_result = client.search(thermoelectric_query)\n",
    "print(\"We found {} records\".format(search_result.total_num_hits))\n",
    "print([x.extracted for x in search_result.hits[0:2]])"
   ]
  },
  {
   "cell_type": "markdown",
   "metadata": {
    "slideshow": {
     "slide_type": "subslide"
    }
   },
   "source": [
    "This dataset has all the ZT values already, so we want to drop most of them before trying to design an experiment:"
   ]
  },
  {
   "cell_type": "code",
   "execution_count": 4,
   "metadata": {
    "collapsed": true,
    "slideshow": {
     "slide_type": "fragment"
    }
   },
   "outputs": [],
   "source": [
    "from random import shuffle, seed\n",
    "seed(1)\n",
    "full_data = [x.extracted.copy() for x in search_result.hits]\n",
    "shuffle(full_data)\n",
    "known_subset = full_data[:20]\n",
    "unknown_subset = full_data[20:]\n",
    "for x in unknown_subset: \n",
    "    del x['ZT']"
   ]
  },
  {
   "cell_type": "code",
   "execution_count": 5,
   "metadata": {},
   "outputs": [
    {
     "data": {
      "text/plain": [
       "[{u'formula': u'Sr0.147Ga0.298Ge0.555'}, {u'formula': u'Ca2.4Na0.3Bi0.3Co4O9'}]"
      ]
     },
     "execution_count": 5,
     "metadata": {},
     "output_type": "execute_result"
    }
   ],
   "source": [
    "unknown_subset[:2]"
   ]
  },
  {
   "cell_type": "markdown",
   "metadata": {
    "slideshow": {
     "slide_type": "fragment"
    }
   },
   "source": [
    "Our goal is to pick the best material to measure next from `unknown_subset`."
   ]
  },
  {
   "cell_type": "markdown",
   "metadata": {
    "slideshow": {
     "slide_type": "slide"
    }
   },
   "source": [
    "# Training a model on known data"
   ]
  },
  {
   "cell_type": "markdown",
   "metadata": {
    "slideshow": {
     "slide_type": "fragment"
    }
   },
   "source": [
    "We train a model using the csv -> dataset -> data_view workflow described in the [modeling tutorial](https://github.com/CitrineInformatics/learn-citrination/blob/master/MLonCitrination.ipynb)."
   ]
  },
  {
   "cell_type": "markdown",
   "metadata": {
    "slideshow": {
     "slide_type": "subslide"
    }
   },
   "source": [
    "## Create a csv\n",
    "\n",
    "The csv needs headers that conform to our [CSV template](http://help.citrination.com/knowledgebase/articles/1188136-citrine-template-csv-csv)."
   ]
  },
  {
   "cell_type": "code",
   "execution_count": 5,
   "metadata": {
    "collapsed": true,
    "slideshow": {
     "slide_type": "fragment"
    }
   },
   "outputs": [],
   "source": [
    "def write_csv(name, rows):\n",
    "    with open(name, \"w\") as f:\n",
    "        f.write(\"FORMULA, PROPERTY: ZT \\n\")\n",
    "        for row in rows:\n",
    "            f.write(\"{formula:s}, {ZT:s}\\n\".format(**row))\n",
    "write_csv('known_thermoelectrics.csv', known_subset)"
   ]
  },
  {
   "cell_type": "markdown",
   "metadata": {
    "slideshow": {
     "slide_type": "subslide"
    }
   },
   "source": [
    "The rest of the model building process is on the website:\n",
    " 1. Go to the [Add Datasets](https://citrination.com/add_data) page and upload `known_thermoelectrics.csv` using the `Citrine: Template CSV` ingester from the drop down menu.\n",
    " 1. Go to the [data views page](https://citrination.com/data_views) and click \"Create new data view\"\n",
    " 1. Search for the property name \"ZT\" and select the dataset you created before.  Advance with the \"NEXT >\" button in the top right corner\n",
    " 1. Follow the guide to create a data view that has `formula` as an input and `ZT` as an output"
   ]
  },
  {
   "cell_type": "markdown",
   "metadata": {
    "slideshow": {
     "slide_type": "slide"
    }
   },
   "source": [
    "# Apply the model to unknown data"
   ]
  },
  {
   "cell_type": "markdown",
   "metadata": {
    "slideshow": {
     "slide_type": "fragment"
    }
   },
   "source": [
    "First, we'll use the trained model to make predictions via the API.  Change the `view_id` below to point to your view."
   ]
  },
  {
   "cell_type": "code",
   "execution_count": 5,
   "metadata": {
    "slideshow": {
     "slide_type": "fragment"
    }
   },
   "outputs": [
    {
     "name": "stdout",
     "output_type": "stream",
     "text": [
      "TiO2\n",
      "We predict the ZT of TiO2 (@ 300K) to be 0.0081437469375 +/- 0.00769787935683\n"
     ]
    }
   ],
   "source": [
    "view_id = \"3904\"\n",
    "\n",
    "inputs = [{\"formula\": \"TiO2\"}]\n",
    "resp = client.predict(view_id, inputs, method=\"scalar\")\n",
    "prediction = resp['candidates']\n",
    "\n",
    "print(inputs[0]['formula'])\n",
    "print(\"We predict the ZT of {} (@ 300K) to be {} +/- {}\".format(inputs[0]['formula'], prediction[0]['Property ZT'][0], prediction[0]['Property ZT'][1]))\n"
   ]
  },
  {
   "cell_type": "markdown",
   "metadata": {
    "slideshow": {
     "slide_type": "subslide"
    }
   },
   "source": [
    "## Maximum likelihood of improvement\n",
    "\n",
    "This tutorial is about _experimental design_, so we need to pick a criterion for experimental selection.\n",
    "\n",
    "There are many, but a straight forward and powerful one is \"maximum likelihood of improvement\", which is easy to compute if we assume the output distribution is normal."
   ]
  },
  {
   "cell_type": "code",
   "execution_count": 6,
   "metadata": {
    "collapsed": true,
    "slideshow": {
     "slide_type": "fragment"
    }
   },
   "outputs": [],
   "source": [
    "from scipy.special import erf\n",
    "from math import sqrt\n",
    "\n",
    "def probability_improvement(mean, sigma, baseline):\n",
    "    return float(0.5 * (1.0 + erf((mean - baseline) / (sigma * sqrt(2.0)))))"
   ]
  },
  {
   "cell_type": "markdown",
   "metadata": {
    "slideshow": {
     "slide_type": "subslide"
    }
   },
   "source": [
    "What is the baseline?  The largest value in the known data:"
   ]
  },
  {
   "cell_type": "code",
   "execution_count": 7,
   "metadata": {
    "slideshow": {
     "slide_type": "fragment"
    }
   },
   "outputs": [
    {
     "name": "stdout",
     "output_type": "stream",
     "text": [
      "The highest ZT value in the known subset is 0.293999426\n"
     ]
    }
   ],
   "source": [
    "baseline_ZT = max(float(x['ZT']) for x in known_subset)\n",
    "print(\"The highest ZT value in the known subset is {}\".format(baseline_ZT))"
   ]
  },
  {
   "cell_type": "markdown",
   "metadata": {
    "slideshow": {
     "slide_type": "subslide"
    }
   },
   "source": [
    "Now let's screen the unknown materials for likelihood of improvement:"
   ]
  },
  {
   "cell_type": "code",
   "execution_count": 8,
   "metadata": {
    "slideshow": {
     "slide_type": "fragment"
    }
   },
   "outputs": [],
   "source": [
    "predictions = client.predict(view_id, unknown_subset)['candidates']\n",
    "for p in predictions:\n",
    "    p['LI'] = probability_improvement(float(p['Property ZT'][0]), float(p['Property ZT'][1]), baseline_ZT)"
   ]
  },
  {
   "cell_type": "markdown",
   "metadata": {
    "slideshow": {
     "slide_type": "subslide"
    }
   },
   "source": [
    "Pandas can help us look at the result.  The top values for \"LI\" are the ones we should try next."
   ]
  },
  {
   "cell_type": "code",
   "execution_count": 9,
   "metadata": {},
   "outputs": [
    {
     "data": {
      "text/html": [
       "<div>\n",
       "<style scoped>\n",
       "    .dataframe tbody tr th:only-of-type {\n",
       "        vertical-align: middle;\n",
       "    }\n",
       "\n",
       "    .dataframe tbody tr th {\n",
       "        vertical-align: top;\n",
       "    }\n",
       "\n",
       "    .dataframe thead th {\n",
       "        text-align: right;\n",
       "    }\n",
       "</style>\n",
       "<table border=\"1\" class=\"dataframe\">\n",
       "  <thead>\n",
       "    <tr style=\"text-align: right;\">\n",
       "      <th></th>\n",
       "      <th>formula</th>\n",
       "      <th>Property ZT</th>\n",
       "      <th>LI</th>\n",
       "    </tr>\n",
       "  </thead>\n",
       "  <tbody>\n",
       "    <tr>\n",
       "      <th>25</th>\n",
       "      <td>In0.15Co4Sb12</td>\n",
       "      <td>0.28 +/-  0.15</td>\n",
       "      <td>0.473</td>\n",
       "    </tr>\n",
       "    <tr>\n",
       "      <th>17</th>\n",
       "      <td>In0.3Co4Sb12</td>\n",
       "      <td>0.28 +/-  0.15</td>\n",
       "      <td>0.473</td>\n",
       "    </tr>\n",
       "    <tr>\n",
       "      <th>10</th>\n",
       "      <td>In0.25Co4Sb12</td>\n",
       "      <td>0.28 +/-  0.15</td>\n",
       "      <td>0.473</td>\n",
       "    </tr>\n",
       "    <tr>\n",
       "      <th>12</th>\n",
       "      <td>In0.2Co4Sb12</td>\n",
       "      <td>0.28 +/-  0.15</td>\n",
       "      <td>0.473</td>\n",
       "    </tr>\n",
       "    <tr>\n",
       "      <th>23</th>\n",
       "      <td>LaFe3CoSb12</td>\n",
       "      <td>0.20 +/-  0.12</td>\n",
       "      <td>0.221</td>\n",
       "    </tr>\n",
       "  </tbody>\n",
       "</table>\n",
       "</div>"
      ],
      "text/plain": [
       "          formula      Property ZT     LI\n",
       "25  In0.15Co4Sb12   0.28 +/-  0.15  0.473\n",
       "17   In0.3Co4Sb12   0.28 +/-  0.15  0.473\n",
       "10  In0.25Co4Sb12   0.28 +/-  0.15  0.473\n",
       "12   In0.2Co4Sb12   0.28 +/-  0.15  0.473\n",
       "23    LaFe3CoSb12   0.20 +/-  0.12  0.221"
      ]
     },
     "execution_count": 9,
     "metadata": {},
     "output_type": "execute_result"
    }
   ],
   "source": [
    "import pandas as pd\n",
    "\n",
    "top_predictions = []\n",
    "for p in predictions:\n",
    "    li, form, zt = p['LI'], p['formula'], p['Property ZT']\n",
    "    if li > 1e-03:\n",
    "        top_predictions.append((form[0], zt, li))\n",
    "        \n",
    "df = pd.DataFrame(top_predictions, columns=['formula', 'Property ZT', 'LI'])\n",
    "df['Property ZT'] = df['Property ZT'].map(lambda x: \"{:5.2f} +/- {:5.2f}\".format(*x))\n",
    "df['LI'] = df['LI'].map(lambda x: \"{:5.3f}\".format(x))\n",
    "\n",
    "df.sort_values('LI', axis=0, ascending=False)[0:5]\n"
   ]
  },
  {
   "cell_type": "markdown",
   "metadata": {
    "slideshow": {
     "slide_type": "fragment"
    }
   },
   "source": [
    "These materials have a likelihood of improvement below 50%, i.e. their expected ZT value is below the highest value in the dataset.  Therefore, they are biased towards materials with high model uncertainty as well."
   ]
  }
 ],
 "metadata": {
  "anaconda-cloud": {},
  "celltoolbar": "Slideshow",
  "kernelspec": {
   "display_name": "Python 2",
   "language": "python",
   "name": "python2"
  },
  "language_info": {
   "codemirror_mode": {
    "name": "ipython",
    "version": 2
   },
   "file_extension": ".py",
   "mimetype": "text/x-python",
   "name": "python",
   "nbconvert_exporter": "python",
   "pygments_lexer": "ipython2",
   "version": "2.7.14"
  }
 },
 "nbformat": 4,
 "nbformat_minor": 2
}
