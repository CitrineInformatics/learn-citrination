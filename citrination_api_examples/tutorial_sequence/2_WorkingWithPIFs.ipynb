{
 "cells": [
  {
   "cell_type": "markdown",
   "metadata": {},
   "source": [
    "![Banner logo](https://raw.githubusercontent.com/CitrineInformatics/community-tools/master/templates/fig/citrine_banner_2.png)"
   ]
  },
  {
   "cell_type": "markdown",
   "metadata": {},
   "source": [
    "# Working with PIFs\n",
    "*Authors: Max Hutchinson, Carena Church, Enze Chen*\n",
    "\n",
    "In this notebook, we introduce the Physical Information File, or **PIF**. We give a brief overview of the `pypif` Python package for interfacing with PIFs and motivate the topic with a real example of phase stability diagrams."
   ]
  },
  {
   "cell_type": "markdown",
   "metadata": {},
   "source": [
    "## Python package imports"
   ]
  },
  {
   "cell_type": "code",
   "execution_count": null,
   "metadata": {},
   "outputs": [],
   "source": [
    "# Standard packages\n",
    "import re\n",
    "import os\n",
    "\n",
    "# Third-party packages\n",
    "from pypif import pif\n",
    "from dfttopif import directory_to_pif\n",
    "from pypif_sdk.readview import ReadView\n",
    "import matplotlib.pyplot as plt\n",
    "%matplotlib inline"
   ]
  },
  {
   "cell_type": "markdown",
   "metadata": {
    "slideshow": {
     "slide_type": "slide"
    }
   },
   "source": [
    "## What is a PIF?\n",
    "\n",
    "The PIF is a __general__, __flexible__, and __hierachical__ schema, stored in JSON format, for representing infomation about physical devices and materials. This enables the PIF to store a wide range of information on many kinds of physical systems, but requires more careful thought on where to store information within the schema.\n",
    "\n",
    "Writing analysis and post-processing on top of PIFs lets us:\n",
    " 1. Pull in data from collaborators and published sources.\n",
    " 1. Share our methodology with other researchers with data in PIFs."
   ]
  },
  {
   "cell_type": "markdown",
   "metadata": {
    "slideshow": {
     "slide_type": "slide"
    }
   },
   "source": [
    "## [`pypif`](https://github.com/CitrineInformatics/pypif/tree/master/pypif) package\n",
    "\n",
    "The `pypif` package provides two APIs:\n",
    " 1. Low level read/write API\n",
    " 1. High[er] level read-only API"
   ]
  },
  {
   "cell_type": "markdown",
   "metadata": {
    "nbpresent": {
     "id": "c41a4f53-9a6a-435e-b554-90780aa20fcd"
    },
    "slideshow": {
     "slide_type": "subslide"
    }
   },
   "source": [
    "### Low level API\n",
    "\n",
    "The low level API closely mirrors the [PIF schema definition](http://citrineinformatics.github.io/pif-documentation/schema_definition/index.html)."
   ]
  },
  {
   "cell_type": "code",
   "execution_count": null,
   "metadata": {
    "nbpresent": {
     "id": "45a1cd9a-989f-44e6-8753-79a4abcfbe28"
    },
    "slideshow": {
     "slide_type": "fragment"
    }
   },
   "outputs": [],
   "source": [
    "# Use helper method to import PIF object from JSON\n",
    "pif = directory_to_pif(\"./example_data/Al.cF4\")\n",
    "print(\"The total energy is {} eV.\".format(\n",
    "        next(x for x in pif.properties if x.name == \"Total Energy\")\n",
    "        .scalars[0].value\n",
    "     ))"
   ]
  },
  {
   "cell_type": "markdown",
   "metadata": {
    "nbpresent": {
     "id": "261197d6-24ad-4083-8df9-33ba39ff56b7"
    },
    "slideshow": {
     "slide_type": "fragment"
    }
   },
   "source": [
    "Note that the `name` is a field in a properties object, so we are searching for the first [Property](http://citrineinformatics.github.io/pif-documentation/schema_definition/common/Property.html) with the `name` \"Total Energy\"."
   ]
  },
  {
   "cell_type": "markdown",
   "metadata": {
    "nbpresent": {
     "id": "541a3e94-b942-48a9-9ec7-64f58c7b5eb2"
    },
    "slideshow": {
     "slide_type": "subslide"
    }
   },
   "source": [
    "### High[er] level API: ReadView\n",
    "\n",
    "It might be more natural to index the property by its name.  We provide a `ReadView` that wraps the PIF and provides such an index:"
   ]
  },
  {
   "cell_type": "code",
   "execution_count": null,
   "metadata": {},
   "outputs": [],
   "source": [
    "rv = ReadView(pif)\n",
    "print(rv.keys())"
   ]
  },
  {
   "cell_type": "markdown",
   "metadata": {},
   "source": [
    "We can easy obtain the chemical formula of the system as follows:"
   ]
  },
  {
   "cell_type": "code",
   "execution_count": null,
   "metadata": {
    "nbpresent": {
     "id": "1e988e62-3569-4e24-8d77-4b642d52aee2"
    },
    "slideshow": {
     "slide_type": "fragment"
    }
   },
   "outputs": [],
   "source": [
    "print(\"The chemical formula for this PIF is {}.\".format(\n",
    "        rv.chemical_formula))"
   ]
  },
  {
   "cell_type": "markdown",
   "metadata": {
    "nbpresent": {
     "id": "2fa01a20-bcb5-483a-b120-eaa228fc1278"
    },
    "slideshow": {
     "slide_type": "fragment"
    }
   },
   "source": [
    "The `scalars` member of the [Property](http://citrineinformatics.github.io/pif-documentation/schema_definition/common/Property.html) contains the value of the property.  We also have access to metadata associated with that value, e.g. units:"
   ]
  },
  {
   "cell_type": "code",
   "execution_count": null,
   "metadata": {
    "nbpresent": {
     "id": "1c4dbdb4-bb65-41d1-898f-9fdfe88703a1"
    },
    "slideshow": {
     "slide_type": "fragment"
    }
   },
   "outputs": [],
   "source": [
    "print(\"The total energy is {} {}.\".format(\n",
    "        rv[\"Total Energy\"].scalars[0].value,\n",
    "        rv[\"Total Energy\"].units)\n",
    "     )"
   ]
  },
  {
   "cell_type": "markdown",
   "metadata": {
    "slideshow": {
     "slide_type": "slide"
    }
   },
   "source": [
    "## Real example: Phase stability diagram\n",
    "\n",
    "Let's make the `AlCu` phase diagram!  "
   ]
  },
  {
   "cell_type": "markdown",
   "metadata": {
    "slideshow": {
     "slide_type": "fragment"
    }
   },
   "source": [
    "### `enthalpy_of_formation`\n",
    "\n",
    "First, we define the enthalpy of formation under ideal conditions:"
   ]
  },
  {
   "cell_type": "code",
   "execution_count": null,
   "metadata": {
    "slideshow": {
     "slide_type": "fragment"
    }
   },
   "outputs": [],
   "source": [
    "def enthalpy_of_formation(energy, n_Al, n_Cu, energy_Al, energy_Cu):\n",
    "    return (energy - n_Al * energy_Al - n_Cu * energy_Cu) / (n_Al + n_Cu)"
   ]
  },
  {
   "cell_type": "markdown",
   "metadata": {
    "slideshow": {
     "slide_type": "subslide"
    }
   },
   "source": [
    "### `get_stoich`\n",
    "Next, a little chemical formula parser:"
   ]
  },
  {
   "cell_type": "code",
   "execution_count": null,
   "metadata": {
    "slideshow": {
     "slide_type": "fragment"
    }
   },
   "outputs": [],
   "source": [
    "def get_stoich(AlCu_formula):\n",
    "    m = re.match(r\"Al([0-9]*)Cu([0-9]*)\", AlCu_formula)\n",
    "    if m is None:\n",
    "        return (0, 0)\n",
    "    \n",
    "    n_Al = float(m.group(1)) if len(m.group(1)) > 0 else 1\n",
    "    n_Cu = float(m.group(2)) if len(m.group(2)) > 0 else 1\n",
    "    return (n_Al, n_Cu)"
   ]
  },
  {
   "cell_type": "markdown",
   "metadata": {
    "slideshow": {
     "slide_type": "subslide"
    }
   },
   "source": [
    "Next, we pull the values from some PIFs (the following code takes ~30 seconds):"
   ]
  },
  {
   "cell_type": "code",
   "execution_count": null,
   "metadata": {
    "slideshow": {
     "slide_type": "fragment"
    }
   },
   "outputs": [],
   "source": [
    "Cu_pif = directory_to_pif(\"./example_data/Cu.cF4\")\n",
    "Al_pif = directory_to_pif(\"./example_data/Al.cF4\")\n",
    "AlCu_pifs = [directory_to_pif(os.path.join(\"./example_data/\", x)) \n",
    "             for x in os.listdir(\"./example_data/\") if \"Al\" in x]\n",
    "\n",
    "energy_Al = ReadView(Al_pif)[\"Total Energy\"].scalars[0].value / 4\n",
    "energy_Cu = ReadView(Cu_pif)[\"Total Energy\"].scalars[0].value\n",
    "\n",
    "points = [(0.0, 0.0), (1.0, 0.0)]\n",
    "for pif in AlCu_pifs:\n",
    "    rv = ReadView(pif)\n",
    "    energy = rv[\"Total Energy\"].scalars[0].value\n",
    "    n_Al, n_Cu = get_stoich(rv.chemical_formula)\n",
    "    if n_Al == 0 and n_Cu == 0: continue\n",
    "    points.append((\n",
    "            n_Cu / (n_Cu + n_Al),\n",
    "            enthalpy_of_formation(energy, n_Al, n_Cu, energy_Al, energy_Cu)\n",
    "        ))"
   ]
  },
  {
   "cell_type": "markdown",
   "metadata": {
    "slideshow": {
     "slide_type": "subslide"
    }
   },
   "source": [
    "Finally, we plot the results:"
   ]
  },
  {
   "cell_type": "code",
   "execution_count": null,
   "metadata": {
    "slideshow": {
     "slide_type": "fragment"
    }
   },
   "outputs": [],
   "source": [
    "plt.rcParams.update({'font.size': 18, 'figure.figsize':(8, 6), 'lines.markersize':10})\n",
    "plt.scatter(*zip(*points))\n",
    "plt.xlim(0, 1)\n",
    "plt.xlabel(\"Cu fraction\")\n",
    "plt.ylabel(\"$\\Delta H$ (eV/atom)\")\n",
    "plt.show()"
   ]
  },
  {
   "cell_type": "markdown",
   "metadata": {
    "collapsed": true
   },
   "source": [
    "## Conclusion\n",
    "\n",
    "This notebook gave a very brief introduction to the PIF structure and what kinds of data can be stored. A lot of details were kept hidden through the use of extra Python packages like [`pypif-sdk`](https://github.com/CitrineInformatics/pypif-sdk) and [`dfttopif`](http://citrineinformatics.github.io/pif-dft/dfttopif.html). For a more detailed breakdown of the PIF hierarchical format and [`pypif`](https://github.com/CitrineInformatics/pypif/tree/master/pypif) package, see the [Advanced tutorial on PIFs](AdvancedPif.ipynb)."
   ]
  }
 ],
 "metadata": {
  "anaconda-cloud": {},
  "kernelspec": {
   "display_name": "Python 3",
   "language": "python",
   "name": "python3"
  },
  "language_info": {
   "codemirror_mode": {
    "name": "ipython",
    "version": 3
   },
   "file_extension": ".py",
   "mimetype": "text/x-python",
   "name": "python",
   "nbconvert_exporter": "python",
   "pygments_lexer": "ipython3",
   "version": "3.7.2"
  },
  "nbpresent": {
   "slides": {
    "5c8082ad-f7f3-497a-91a5-b82f1bfa6d0e": {
     "id": "5c8082ad-f7f3-497a-91a5-b82f1bfa6d0e",
     "layout": "grid",
     "prev": null,
     "regions": {
      "3fdabdaa-d1a7-4289-8161-39096a883c62": {
       "attrs": {
        "height": 1,
        "pad": 0.01,
        "treemap:weight": 1,
        "width": 1,
        "x": 0,
        "y": 0
       },
       "content": {
        "cell": "f2f733dc-95c8-4751-a337-7bba7fcbe4d7",
        "part": "whole"
       },
       "id": "3fdabdaa-d1a7-4289-8161-39096a883c62"
      }
     }
    },
    "8e99069f-4d09-4e7b-8dbb-b8cf82a67ae2": {
     "id": "8e99069f-4d09-4e7b-8dbb-b8cf82a67ae2",
     "prev": "5c8082ad-f7f3-497a-91a5-b82f1bfa6d0e",
     "regions": {
      "1dabf2fc-3b38-4a0d-a95c-c4574fd5354f": {
       "attrs": {
        "height": 0.6,
        "width": 0.8,
        "x": 0.1,
        "y": 0.1
       },
       "content": {
        "cell": "c41a4f53-9a6a-435e-b554-90780aa20fcd",
        "part": "whole"
       },
       "id": "1dabf2fc-3b38-4a0d-a95c-c4574fd5354f"
      },
      "ab4f31d7-8029-4c39-854f-edaad678b711": {
       "attrs": {
        "height": 0.2,
        "width": 0.4,
        "x": 0.5,
        "y": 0.7
       },
       "id": "ab4f31d7-8029-4c39-854f-edaad678b711"
      },
      "b3bd2bc4-2c69-4998-8fe0-a09a6c579492": {
       "attrs": {
        "height": 0.2,
        "width": 0.4,
        "x": 0.1,
        "y": 0.7
       },
       "id": "b3bd2bc4-2c69-4998-8fe0-a09a6c579492"
      }
     }
    }
   },
   "themes": {}
  }
 },
 "nbformat": 4,
 "nbformat_minor": 1
}
