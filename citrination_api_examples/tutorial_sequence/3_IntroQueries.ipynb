{
 "cells": [
  {
   "cell_type": "markdown",
   "metadata": {},
   "source": [
    "![Banner logo](https://raw.githubusercontent.com/CitrineInformatics/community-tools/master/templates/fig/citrine_banner_2.png)"
   ]
  },
  {
   "cell_type": "markdown",
   "metadata": {},
   "source": [
    "# Introduction to Queries\n",
    "*Authors: Max Hutchinson, Carena Church, Enze Chen*\n",
    "\n",
    "In this notebook, we will introduce the query language and [`SearchClient`](http://citrineinformatics.github.io/python-citrination-client/tutorial/search_examples.html) that allows you to search and download PIFs from Citrination. By basing scripts on queries instead of local files, you can:   \n",
    "1. Share data with your group without running internal infrastructure or worrying about portability.\n",
    "1. Expand your queries to include data uploaded by other groups in your field.\n",
    "1. Publish post-processing scripts backed by Citrination data to improve reproducibility.\n",
    "\n",
    "*Note*: The query language is quite sophisticated, and we cannot cover every use case here."
   ]
  },
  {
   "cell_type": "markdown",
   "metadata": {},
   "source": [
    "## Learning outcomes\n",
    "By the end of this notebook, you will know how to:\n",
    "* Search for and return PIFs using PyCC.\n",
    "* Include filters and extract data from queries."
   ]
  },
  {
   "cell_type": "markdown",
   "metadata": {},
   "source": [
    "## Background knowledge\n",
    "In order to get the most of out of this notebook, you should already be familiar with:\n",
    "* The structure of the Physical Information File, or **PIF** (see the [Intro](WorkingWithPIFs.ipynb) and [Advanced](AdvancedPIF.ipynb) tutorials).\n",
    "* The basics of the **Python Citrination Client (PyCC)** (see [docs](http://citrineinformatics.github.io/python-citrination-client/tutorial/tutorial.html))."
   ]
  },
  {
   "cell_type": "markdown",
   "metadata": {},
   "source": [
    "## Python package imports"
   ]
  },
  {
   "cell_type": "code",
   "execution_count": 1,
   "metadata": {
    "slideshow": {
     "slide_type": "skip"
    }
   },
   "outputs": [],
   "source": [
    "# Standard packages\n",
    "import os\n",
    "import re\n",
    "\n",
    "# Third-party packages\n",
    "from citrination_client import CitrinationClient\n",
    "from citrination_client import PifSystemReturningQuery, PifSystemQuery\n",
    "from citrination_client import DataQuery, DatasetQuery, ChemicalFieldQuery\n",
    "from citrination_client import PropertyQuery, FieldQuery\n",
    "from citrination_client import ChemicalFilter, Filter\n",
    "\n",
    "from pypif import pif\n",
    "from dfttopif import directory_to_pif\n",
    "from pypif_sdk.readview import ReadView\n",
    "import matplotlib.pyplot as plt\n",
    "%matplotlib inline"
   ]
  },
  {
   "cell_type": "markdown",
   "metadata": {
    "slideshow": {
     "slide_type": "subslide"
    }
   },
   "source": [
    "## Query interfaces\n",
    "\n",
    "There are multiple interfaces to a unified backend based on elastic search:\n",
    "1. The [Citrination website](https://citrination.com/).\n",
    "1. The Python and Java Citrination Clients.\n",
    "1. A REST API.\n",
    " \n",
    "This tutorial will focus on the **Python Citrination Client**. See our [API docs](https://citrineinformatics.github.io/api-documentation/#tag/search) for more information."
   ]
  },
  {
   "cell_type": "markdown",
   "metadata": {},
   "source": [
    "### Client initialization\n",
    "We will assume you're already familiar with the standard procedure of storing API Keys in your environment variables. After the main Python client is initialized, the `SearchClient` is easily accessed as an attribute."
   ]
  },
  {
   "cell_type": "code",
   "execution_count": 2,
   "metadata": {},
   "outputs": [],
   "source": [
    "site = 'https://citrination.com' # public\n",
    "client = CitrinationClient(api_key=os.environ['CITRINATION_API_KEY'], site=site)\n",
    "search_client = client.search"
   ]
  },
  {
   "cell_type": "markdown",
   "metadata": {},
   "source": [
    "### `PifSystemReturningQuery`\n",
    "\n",
    "Each search and download request is stored in a query object: the `PifSystemReturningQuery`. As an example, a `PifSystemReturningQuery` can be structured in the following hierarchical way:\n",
    "\n",
    "```\n",
    "PifSystemReturningQuery(\n",
    "    size=0,\n",
    "    query=DataQuery(\n",
    "        dataset=DatasetQuery(\n",
    "            id=Filter(equal='151278')),\n",
    "            system=PifSystemQuery(\n",
    "                chemical_formula=ChemicalFieldQuery(\n",
    "                    filter=ChemicalFilter(\n",
    "                        equal='C22H15NSSi')))))\n",
    "```"
   ]
  },
  {
   "cell_type": "markdown",
   "metadata": {},
   "source": [
    "### `pif_search`\n",
    "The query object created above can be passed into the `pif_search()` method, which returns a `PifSearchResult` object with the following properties:\n",
    "* `took`: Number of milliseconds the query took to execute.\n",
    "* `total_num_hits`: Total number of hits.\n",
    "* `max_score`: The maximum score.\n",
    "* `hits`: List of `PifSearchHit` objects."
   ]
  },
  {
   "cell_type": "markdown",
   "metadata": {},
   "source": [
    "If you are working through the notebooks in the order they are presented in our [README](README.md), use the `dataset_id` from the previous Importing VASP calculations notebook in the query below. \n",
    "\n",
    "Otherwise, we can start with the [Band gaps from Strehlow and Cook dataset](https://citrination.com/datasets/1160/show_search) (ID: 1160), but feel free to use any public dataset."
   ]
  },
  {
   "cell_type": "code",
   "execution_count": 3,
   "metadata": {
    "slideshow": {
     "slide_type": "fragment"
    }
   },
   "outputs": [
    {
     "name": "stdout",
     "output_type": "stream",
     "text": [
      "Found 1449 PIFs in dataset 1160.\n"
     ]
    }
   ],
   "source": [
    "# Change dataset id below\n",
    "dataset_id = 1160\n",
    "system_query = PifSystemReturningQuery(size=5, \n",
    "                                       query=DataQuery(\n",
    "                                           dataset=DatasetQuery(\n",
    "                                               id=Filter(\n",
    "                                                   equal=str(dataset_id)))))\n",
    "\n",
    "query_result = search_client.pif_search(system_query)\n",
    "print(\"Found {} PIFs in dataset {}.\".format(query_result.total_num_hits, dataset_id))"
   ]
  },
  {
   "cell_type": "markdown",
   "metadata": {
    "slideshow": {
     "slide_type": "subslide"
    }
   },
   "source": [
    "The result contains the matching PIFs, which can be extracted from the `system` field in each `PifSearchHit`:"
   ]
  },
  {
   "cell_type": "code",
   "execution_count": 4,
   "metadata": {
    "slideshow": {
     "slide_type": "fragment"
    }
   },
   "outputs": [
    {
     "name": "stdout",
     "output_type": "stream",
     "text": [
      "{\n",
      "  \"category\": \"system.chemical\",\n",
      "  \"references\": [\n",
      "    {\n",
      "      \"doi\": \"10.1063/1.3253115\"\n",
      "    }\n",
      "  ],\n",
      "  \"uid\": \"005C55AA25FC107362DB3D17F7A2B30F\",\n",
      "  \"properties\": [\n",
      "    {\n",
      "      \"name\": \"Crystallinity\",\n",
      "      \"scalars\": [\n",
      "        {\n",
      "          \"value\": \"Single crystalline\"\n",
      "        }\n",
      "      ]\n",
      "    },\n",
      "    {\n",
      "      \"name\": \"Band gap\",\n",
      "      \"scalars\": [\n",
      "        {\n",
      "          \"value\": \"0.153\"\n",
      "        }\n",
      "      ],\n",
      "      \"units\": \"eV\",\n",
      "      \"conditions\": [\n",
      "        {\n",
      "          \"name\": \"Temperature\",\n",
      "          \n",
      "... ommitted for space ...\n"
     ]
    }
   ],
   "source": [
    "pifs = [x.system for x in query_result.hits]\n",
    "print(pif.dumps(pifs[0], indent=2)[:500])\n",
    "print('... ommitted for space ...')"
   ]
  },
  {
   "cell_type": "markdown",
   "metadata": {
    "slideshow": {
     "slide_type": "subslide"
    }
   },
   "source": [
    "### Simple chemical search\n",
    "The `generate_simple_chemical_query()` method can accept lists of datasets to aggregate data from collaborators and generate a `PifSystemReturningQuery` object."
   ]
  },
  {
   "cell_type": "code",
   "execution_count": 5,
   "metadata": {
    "slideshow": {
     "slide_type": "fragment"
    }
   },
   "outputs": [
    {
     "name": "stdout",
     "output_type": "stream",
     "text": [
      "Found 1451 PIFs in datasets 154987 and 1160.\n"
     ]
    }
   ],
   "source": [
    "my_dataset_id = 154987\n",
    "another_dataset_id = 1160\n",
    "simple_query = search_client.generate_simple_chemical_query(include_datasets=[my_dataset_id, another_dataset_id], \n",
    "                                                            size=500)\n",
    "query_result = search_client.pif_search(simple_query)\n",
    "print(\"Found {} PIFs in datasets {} and {}.\".format(query_result.total_num_hits, \n",
    "                                                    my_dataset_id, another_dataset_id))"
   ]
  },
  {
   "cell_type": "markdown",
   "metadata": {
    "slideshow": {
     "slide_type": "subslide"
    }
   },
   "source": [
    "## Real example: Phase stability diagram\n",
    "We return to the running example through the tutorial sequence. There are surely more Al-Cu binaries on Citrination.  We will:\n",
    "1. Find relevant data via the web interface.\n",
    "1. Filter the data programatically with the query.\n",
    "1. Extract the data using query extractions.\n",
    "1. Add the data to our plot from before."
   ]
  },
  {
   "cell_type": "markdown",
   "metadata": {
    "slideshow": {
     "slide_type": "subslide"
    }
   },
   "source": [
    "## Search for relevant data: The power of filters\n",
    "Now that we are querying beyond just our data, we need to filter down to records that contain Al-Cu energies. The exploratory search is usually best done on the website.  Tips and tricks:\n",
    " * \"AlxCuy\" searches for any Al-Cu binary in any stoichiometry.\n",
    " * \"energy\" searches for properties with \"energy\" in their name."
   ]
  },
  {
   "cell_type": "markdown",
   "metadata": {},
   "source": [
    "### Filter by chemical formula\n",
    "We will try two different types of queries, the first one where we filter compounds in a specific dataset that have the formula `AlxCuy`. To do this, we will use the `ChemicalFilter`. You'll also notice that we have used a `Filter` on the `id` field, as we did previously, to restrict our search to a specific dataset."
   ]
  },
  {
   "cell_type": "code",
   "execution_count": 6,
   "metadata": {},
   "outputs": [
    {
     "name": "stdout",
     "output_type": "stream",
     "text": [
      "The query in dataset 1160 with filter formula AlxCuy returned 0 hits.\n"
     ]
    }
   ],
   "source": [
    "# Filtering over a known dataset by chemical formula AlxCuy\n",
    "filter_formula = 'AlxCuy'\n",
    "dataset_id = 1160\n",
    "system_query = PifSystemReturningQuery(\n",
    "                size=0,\n",
    "                query=DataQuery(\n",
    "                    dataset=DatasetQuery(\n",
    "                        id=Filter(equal=dataset_id)),\n",
    "                    system=PifSystemQuery(\n",
    "                        chemical_formula=ChemicalFieldQuery(\n",
    "                            filter=ChemicalFilter(equal=filter_formula)))))\n",
    "query_result = search_client.pif_search(system_query)\n",
    "print('The query in dataset {} with filter formula {} returned {} hits.'.format(dataset_id,\n",
    "                                                                                filter_formula,\n",
    "                                                                                query_result.total_num_hits))"
   ]
  },
  {
   "cell_type": "markdown",
   "metadata": {},
   "source": [
    "We will then try to find `AlxCuy` compounds in all public datasets on Citrination."
   ]
  },
  {
   "cell_type": "code",
   "execution_count": 7,
   "metadata": {
    "slideshow": {
     "slide_type": "fragment"
    }
   },
   "outputs": [
    {
     "name": "stdout",
     "output_type": "stream",
     "text": [
      "The query found 241 PIFs with the formula AlxCuy.\n"
     ]
    }
   ],
   "source": [
    "# Filtering over all datasets by chemical formula AlxCuy\n",
    "system_query = PifSystemReturningQuery(\n",
    "            size=10,\n",
    "            query=DataQuery(simple=filter_formula))\n",
    "query_result = client.search.pif_search(system_query)\n",
    "print('The query found {} PIFs with the formula {}.'.format(query_result.total_num_hits, filter_formula))"
   ]
  },
  {
   "cell_type": "markdown",
   "metadata": {
    "slideshow": {
     "slide_type": "subslide"
    }
   },
   "source": [
    "### Filter by property\n",
    "We can do quick, filtered searches with the `generate_simple_chemical_query()`. It returns a `PifSearchResult` object as before, but with useful filter flags. See the docs for more info."
   ]
  },
  {
   "cell_type": "code",
   "execution_count": 8,
   "metadata": {
    "slideshow": {
     "slide_type": "fragment"
    }
   },
   "outputs": [
    {
     "name": "stdout",
     "output_type": "stream",
     "text": [
      "Found 21 PIFs.\n",
      "Found 32 PIFs.\n"
     ]
    }
   ],
   "source": [
    "simple_query1 = search_client.generate_simple_chemical_query(property_name='Formation Energy', \n",
    "                                                             chemical_formula='AlxCuy', size=500)\n",
    "quick_search1 = search_client.pif_search(simple_query1)\n",
    "print(\"Found {} PIFs.\".format(quick_search1.total_num_hits))\n",
    "\n",
    "simple_query2 = search_client.generate_simple_chemical_query(property_name=['Formation Energy', 'Enthalpy of Formation'], \n",
    "                                                             chemical_formula='AlxCuy', size=500)\n",
    "quick_search2 = search_client.pif_search(simple_query2)\n",
    "print(\"Found {} PIFs.\".format(quick_search2.total_num_hits))"
   ]
  },
  {
   "cell_type": "code",
   "execution_count": 9,
   "metadata": {
    "nbpresent": {
     "id": "45a1cd9a-989f-44e6-8753-79a4abcfbe28"
    },
    "slideshow": {
     "slide_type": "skip"
    }
   },
   "outputs": [
    {
     "name": "stdout",
     "output_type": "stream",
     "text": [
      "{\n",
      "    \"category\": \"system.chemical\",\n",
      "    \"references\": [\n",
      "        {\n",
      "            \"doi\": \"10.1016/j.commatsci.2012.02.002\"\n",
      "        },\n",
      "        {\n",
      "            \"doi\": \"10.1016/j.commatsci.2012.02.005\"\n",
      "        }\n",
      "    ],\n",
      "    \"uid\": \"0736FD37BB740E1887922CDE86239C43\",\n",
      "    \"properties\": [\n",
      "        {\n",
      "            \n",
      "... ommitted for space ...\n"
     ]
    }
   ],
   "source": [
    "print(pif.dumps(quick_search1.hits[0].system, indent=4)[:300])\n",
    "print('... ommitted for space ...')"
   ]
  },
  {
   "cell_type": "markdown",
   "metadata": {
    "slideshow": {
     "slide_type": "slide"
    }
   },
   "source": [
    "## Extract data from results using the query language\n",
    "Multiple sources typically use multiple internal formats. The query language is smart about crawling the PIFs for properties with the right names, while `pypif` is not. Fortunately, you can use the query language to do data extraction as well!"
   ]
  },
  {
   "cell_type": "markdown",
   "metadata": {
    "nbpresent": {
     "id": "261197d6-24ad-4083-8df9-33ba39ff56b7"
    },
    "slideshow": {
     "slide_type": "subslide"
    }
   },
   "source": [
    "### Using `extract_as`\n",
    "The `extract_as` parameter in `FieldQuery` is a string representing the alias to save the field under. It is helpful when searching across multiple datasets that use different names for the same property."
   ]
  },
  {
   "cell_type": "code",
   "execution_count": 10,
   "metadata": {
    "slideshow": {
     "slide_type": "fragment"
    }
   },
   "outputs": [
    {
     "name": "stdout",
     "output_type": "stream",
     "text": [
      "Found 32 PIFs.\n",
      "[{'formation_enthalpy': '-0.1889', 'formula': 'Cu3Al'}, {'formation_enthalpy': '-0.1799', 'formula': 'CuAl2'}]\n"
     ]
    }
   ],
   "source": [
    "system_query = PifSystemReturningQuery(\n",
    "            size=500,\n",
    "            query=DataQuery(\n",
    "                system=PifSystemQuery(\n",
    "                    chemical_formula=ChemicalFieldQuery(\n",
    "                        extract_as=\"formula\",\n",
    "                        filter=ChemicalFilter(equal='AlxCuy')),\n",
    "                    properties=PropertyQuery(\n",
    "                        name=FieldQuery(\n",
    "                            filter=[Filter(equal=\"Formation energy\"), \n",
    "                                    Filter(equal=\"Enthalpy of Formation\")]),\n",
    "                        value=FieldQuery(\n",
    "                            extract_as=\"formation_enthalpy\")))))\n",
    "\n",
    "query_result = client.search.pif_search(system_query)\n",
    "print(\"Found {} PIFs.\".format(query_result.total_num_hits))\n",
    "print([x.extracted for x in query_result.hits][0:2])"
   ]
  },
  {
   "cell_type": "markdown",
   "metadata": {
    "slideshow": {
     "slide_type": "subslide"
    }
   },
   "source": [
    "A few notes:\n",
    " * `extract_as` extracts the field it is on (why we need value).\n",
    " * `extracted` is a dictionary from String keys to values; no units or uncertainty."
   ]
  },
  {
   "cell_type": "markdown",
   "metadata": {
    "slideshow": {
     "slide_type": "slide"
    }
   },
   "source": [
    "## Real example: Phase stability diagram\n",
    "\n",
    "Let's create an Al-Cu phase diagram and add these points."
   ]
  },
  {
   "cell_type": "markdown",
   "metadata": {
    "slideshow": {
     "slide_type": "subslide"
    }
   },
   "source": [
    "We'll start with some sample DFT data and create PIFs out of the samples. Then, we'll add the new points found in our query above."
   ]
  },
  {
   "cell_type": "code",
   "execution_count": 11,
   "metadata": {},
   "outputs": [],
   "source": [
    "# Use helper function to get data (might take a minute to finishing running)\n",
    "Cu_pif = directory_to_pif(\"./example_data/Cu.cF4\")\n",
    "Al_pif = directory_to_pif(\"./example_data/Al.cF4\")\n",
    "AlCu_pifs = [directory_to_pif(os.path.join(\"./example_data/\", x))\n",
    "             for x in os.listdir(\"./example_data/\") if \"Al\" in x]"
   ]
  },
  {
   "cell_type": "code",
   "execution_count": 12,
   "metadata": {},
   "outputs": [],
   "source": [
    "def enthalpy_of_formation(energy, n_Al, n_Cu, energy_Al, energy_Cu):\n",
    "    return (energy - n_Al * energy_Al - n_Cu * energy_Cu) / (n_Al + n_Cu)"
   ]
  },
  {
   "cell_type": "code",
   "execution_count": 13,
   "metadata": {},
   "outputs": [],
   "source": [
    "def get_stoich(AlCu_formula):\n",
    "    m = re.match(r\"Al([0-9]*)Cu([0-9]*)\", AlCu_formula)\n",
    "    if m is not None:\n",
    "        n_Al = float(m.group(1)) if len(m.group(1)) > 0 else 1\n",
    "        n_Cu = float(m.group(2)) if len(m.group(2)) > 0 else 1\n",
    "        return (n_Al, n_Cu)\n",
    "    m = re.match(r\"Cu([0-9]*)Al([0-9]*)\", AlCu_formula)\n",
    "    if m is not None:\n",
    "        n_Cu = float(m.group(1)) if len(m.group(1)) > 0 else 1\n",
    "        n_Al = float(m.group(2)) if len(m.group(2)) > 0 else 1\n",
    "        return (n_Al, n_Cu)\n",
    "    return (0, 0)"
   ]
  },
  {
   "cell_type": "markdown",
   "metadata": {},
   "source": [
    "`ReadView` is a dictionary-like read-only view into a PIF that indexes members by name and elevates keys up the PIF hierarchy as long as they are unambiguous. For more information, see the [source code](https://github.com/CitrineInformatics/pypif-sdk/blob/develop/pypif_sdk/readview/core.py).\n",
    "\n",
    "Here, we'll use `ReadView` to populate an array of `(Energy, formula)` tuples to build our phase diagram."
   ]
  },
  {
   "cell_type": "code",
   "execution_count": 14,
   "metadata": {},
   "outputs": [],
   "source": [
    "energy_Al = ReadView(Al_pif)[\"Total Energy\"].scalars[0].value / 4\n",
    "energy_Cu = ReadView(Cu_pif)[\"Total Energy\"].scalars[0].value\n",
    "\n",
    "points = [(0.0, 0.0), (1.0, 0.0)]\n",
    "for pif in AlCu_pifs:\n",
    "    rv = ReadView(pif)\n",
    "    energy = rv[\"Total Energy\"].scalars[0].value\n",
    "    n_Al, n_Cu = get_stoich(rv.chemical_formula)\n",
    "    if n_Al == 0 and n_Cu == 0: continue\n",
    "    data_point = (n_Cu / (n_Cu + n_Al), enthalpy_of_formation(energy, n_Al, n_Cu, energy_Al, energy_Cu))\n",
    "    points.append(data_point)"
   ]
  },
  {
   "cell_type": "markdown",
   "metadata": {
    "slideshow": {
     "slide_type": "subslide"
    }
   },
   "source": [
    "Now, let's add the new points from our queries above. "
   ]
  },
  {
   "cell_type": "code",
   "execution_count": 15,
   "metadata": {
    "slideshow": {
     "slide_type": "fragment"
    }
   },
   "outputs": [],
   "source": [
    "new_points = []\n",
    "for hit in query_result.hits:\n",
    "    n_Al, n_Cu = get_stoich(hit.extracted[\"formula\"])\n",
    "    new_points.append((n_Cu / (n_Cu + n_Al), float(hit.extracted[\"formation_enthalpy\"])))"
   ]
  },
  {
   "cell_type": "markdown",
   "metadata": {},
   "source": [
    "And then we will plot both sets of points, distinguishing them using different colors and labels."
   ]
  },
  {
   "cell_type": "code",
   "execution_count": 16,
   "metadata": {
    "slideshow": {
     "slide_type": "subslide"
    }
   },
   "outputs": [
    {
     "data": {
      "image/png": "[encoded data removed]",
      "text/plain": [
       "<Figure size 576x432 with 1 Axes>"
      ]
     },
     "metadata": {
      "needs_background": "light"
     },
     "output_type": "display_data"
    }
   ],
   "source": [
    "plt.rcParams.update({'font.size': 18, 'figure.figsize': (8, 6), 'lines.markersize':10})\n",
    "plt.scatter(*zip(*points), color='blue', marker='o', label='alloyDB')\n",
    "plt.scatter(*zip(*new_points), color='red', marker='x', label='citrination')\n",
    "plt.legend(loc=\"best\")\n",
    "plt.xlim(0, 1)\n",
    "plt.xlabel(\"Cu fraction\")\n",
    "plt.ylabel(\"$\\Delta H$ (eV/atom)\")\n",
    "plt.show()"
   ]
  },
  {
   "cell_type": "markdown",
   "metadata": {
    "slideshow": {
     "slide_type": "subslide"
    }
   },
   "source": [
    "### Filter by value\n",
    "A few of the values in the data are mislabeled: They are called \"Enthalpy of Formation,\" but are actually total energies (per atom). We can filter them out by recognizing that all the Al-Cu binaries have enthalpy of formation above $-1.0$ eV/atom."
   ]
  },
  {
   "cell_type": "code",
   "execution_count": 17,
   "metadata": {
    "slideshow": {
     "slide_type": "fragment"
    }
   },
   "outputs": [],
   "source": [
    "system_query = PifSystemReturningQuery(\n",
    "            size=500,\n",
    "            query=DataQuery(\n",
    "                system=PifSystemQuery(\n",
    "                    chemical_formula=ChemicalFieldQuery(\n",
    "                        extract_as=\"formula\",\n",
    "                        filter=ChemicalFilter(equal='AlxCuy')),\n",
    "                    properties=PropertyQuery(\n",
    "                        name=FieldQuery(\n",
    "                            filter=[Filter(equal=\"Formation energy\"), Filter(equal=\"Enthalpy of Formation\")]),\n",
    "                        value=FieldQuery(\n",
    "                            extract_as=\"formation_enthalpy\",\n",
    "                            filter=[Filter(min=-1.0)])))))\n",
    "\n",
    "query_result = search_client.pif_search(system_query)"
   ]
  },
  {
   "cell_type": "code",
   "execution_count": 18,
   "metadata": {
    "slideshow": {
     "slide_type": "skip"
    }
   },
   "outputs": [],
   "source": [
    "new_points = []\n",
    "for hit in query_result.hits:\n",
    "    n_Al, n_Cu = get_stoich(hit.extracted[\"formula\"])\n",
    "    new_points.append((n_Cu / (n_Cu + n_Al), float(hit.extracted[\"formation_enthalpy\"])))"
   ]
  },
  {
   "cell_type": "markdown",
   "metadata": {
    "slideshow": {
     "slide_type": "subslide"
    }
   },
   "source": [
    "This looks much better:"
   ]
  },
  {
   "cell_type": "code",
   "execution_count": 19,
   "metadata": {
    "slideshow": {
     "slide_type": "fragment"
    }
   },
   "outputs": [
    {
     "data": {
      "image/png": "[encoded data removed]",
      "text/plain": [
       "<Figure size 576x432 with 1 Axes>"
      ]
     },
     "metadata": {
      "needs_background": "light"
     },
     "output_type": "display_data"
    }
   ],
   "source": [
    "plt.rcParams.update({'font.size': 18, 'figure.figsize': (8, 6), 'lines.markersize':10})\n",
    "plt.scatter(*zip(*points), color='blue', marker='o', label='alloyDB')\n",
    "plt.scatter(*zip(*new_points), color='red', marker='x', label='citrination (filtered)')\n",
    "plt.legend()\n",
    "plt.xlim(0, 1)\n",
    "plt.xlabel(\"Cu fraction\")\n",
    "plt.ylabel(\"$\\Delta H (eV/atom)$\")\n",
    "plt.show()"
   ]
  },
  {
   "cell_type": "markdown",
   "metadata": {},
   "source": [
    "## Conclusion\n",
    "This concludes the introduction to the query language and the `SearchClient`. We discussed how to return PIF systems from queries, and how to filter and extract the relevant content. At this point, you should be comfortable with:\n",
    "* Searching for PIFs using the PyCC.\n",
    "* Using filters to limit the scope of searches.\n",
    "* Extracting data from queries across multiple datasets.\n",
    "\n",
    "As a next step, check out our [Advanced tutorial on queries](AdvancedQueries.ipynb)."
   ]
  }
 ],
 "metadata": {
  "anaconda-cloud": {},
  "kernelspec": {
   "display_name": "Python 3",
   "language": "python",
   "name": "python3"
  },
  "language_info": {
   "codemirror_mode": {
    "name": "ipython",
    "version": 3
   },
   "file_extension": ".py",
   "mimetype": "text/x-python",
   "name": "python",
   "nbconvert_exporter": "python",
   "pygments_lexer": "ipython3",
   "version": "3.7.2"
  },
  "nbpresent": {
   "slides": {
    "5c8082ad-f7f3-497a-91a5-b82f1bfa6d0e": {
     "id": "5c8082ad-f7f3-497a-91a5-b82f1bfa6d0e",
     "layout": "grid",
     "prev": null,
     "regions": {
      "3fdabdaa-d1a7-4289-8161-39096a883c62": {
       "attrs": {
        "height": 1,
        "pad": 0.01,
        "treemap:weight": 1,
        "width": 1,
        "x": 0,
        "y": 0
       },
       "content": {
        "cell": "f2f733dc-95c8-4751-a337-7bba7fcbe4d7",
        "part": "whole"
       },
       "id": "3fdabdaa-d1a7-4289-8161-39096a883c62"
      }
     }
    },
    "8e99069f-4d09-4e7b-8dbb-b8cf82a67ae2": {
     "id": "8e99069f-4d09-4e7b-8dbb-b8cf82a67ae2",
     "prev": "5c8082ad-f7f3-497a-91a5-b82f1bfa6d0e",
     "regions": {
      "1dabf2fc-3b38-4a0d-a95c-c4574fd5354f": {
       "attrs": {
        "height": 0.6,
        "width": 0.8,
        "x": 0.1,
        "y": 0.1
       },
       "content": {
        "cell": "c41a4f53-9a6a-435e-b554-90780aa20fcd",
        "part": "whole"
       },
       "id": "1dabf2fc-3b38-4a0d-a95c-c4574fd5354f"
      },
      "ab4f31d7-8029-4c39-854f-edaad678b711": {
       "attrs": {
        "height": 0.2,
        "width": 0.4,
        "x": 0.5,
        "y": 0.7
       },
       "id": "ab4f31d7-8029-4c39-854f-edaad678b711"
      },
      "b3bd2bc4-2c69-4998-8fe0-a09a6c579492": {
       "attrs": {
        "height": 0.2,
        "width": 0.4,
        "x": 0.1,
        "y": 0.7
       },
       "id": "b3bd2bc4-2c69-4998-8fe0-a09a6c579492"
      }
     }
    }
   },
   "themes": {}
  }
 },
 "nbformat": 4,
 "nbformat_minor": 2
}
