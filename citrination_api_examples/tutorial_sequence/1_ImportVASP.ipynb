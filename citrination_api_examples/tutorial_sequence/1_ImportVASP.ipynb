{
 "cells": [
  {
   "cell_type": "markdown",
   "metadata": {},
   "source": [
    "![Banner logo](https://raw.githubusercontent.com/CitrineInformatics/community-tools/master/templates/fig/citrine_banner_2.png)"
   ]
  },
  {
   "cell_type": "markdown",
   "metadata": {
    "nbpresent": {
     "id": "f2f733dc-95c8-4751-a337-7bba7fcbe4d7"
    },
    "slideshow": {
     "slide_type": "slide"
    }
   },
   "source": [
    "# Importing data from VASP calculations into Citrination\n",
    "\n",
    "*Authors: Max Hutchinson, Carena Church, Enze Chen*\n",
    "\n",
    "This is the first tutorial in a sequence that teaches you how to import DFT data onto Citrination. [Citrination](https://citrination.com) is a public, un-siloed repository of materials data coupled to analysis and modeling tools.\n",
    "\n",
    "By putting data on Citrination, you can:\n",
    " 1. Share incremental results within your group.\n",
    " 1. Supplement your data with similar published data.\n",
    " 1. Release your data to the public as you publish associated papers.\n",
    " 1. Recieve feedback on the quality of your DFT calculations.\n",
    " 1. View statistical analyses of the data as it comes in.\n",
    " 1. Build machine learning models on the data that update as data comes in."
   ]
  },
  {
   "cell_type": "markdown",
   "metadata": {
    "slideshow": {
     "slide_type": "subslide"
    }
   },
   "source": [
    "There are two steps for getting data from any format onto Citrination:\n",
    "1. Formatting the data as a [Physical Information File (PIF)](http://citrineinformatics.github.io/pif-documentation/schema_definition/index.html).\n",
    "1. Uploading the PIF to Citrination.\n",
    "\n",
    "## Python package imports"
   ]
  },
  {
   "cell_type": "code",
   "execution_count": null,
   "metadata": {},
   "outputs": [],
   "source": [
    "# Standard packages\n",
    "import os\n",
    "import uuid\n",
    "\n",
    "# Third-party packages\n",
    "from dfttopif import directory_to_pif\n",
    "from pypif import pif\n",
    "from pypif.obj import *\n",
    "from citrination_client import CitrinationClient"
   ]
  },
  {
   "cell_type": "markdown",
   "metadata": {
    "nbpresent": {
     "id": "c41a4f53-9a6a-435e-b554-90780aa20fcd"
    },
    "slideshow": {
     "slide_type": "slide"
    }
   },
   "source": [
    "## Formatting VASP outputs as PIFs\n",
    "\n",
    "We provide scripts to extract common conditions and properties from VASP calculations.  You just pass in a path to the calculation and it returns a PIF!"
   ]
  },
  {
   "cell_type": "code",
   "execution_count": null,
   "metadata": {
    "nbpresent": {
     "id": "802a8008-2cc3-4892-8bb9-3ddc26885a40"
    },
    "slideshow": {
     "slide_type": "fragment"
    }
   },
   "outputs": [],
   "source": [
    "os.chdir(\"./example_data\")\n",
    "rundir = \"./Al.cF4\"\n",
    "my_pif = directory_to_pif(rundir, quality_report=True)"
   ]
  },
  {
   "cell_type": "markdown",
   "metadata": {
    "nbpresent": {
     "id": "38c67c58-1de7-47f1-a50a-25cc55fe7729"
    },
    "slideshow": {
     "slide_type": "subslide"
    }
   },
   "source": [
    "The PIF is a lightweight schema on top of the JSON format:"
   ]
  },
  {
   "cell_type": "code",
   "execution_count": null,
   "metadata": {
    "nbpresent": {
     "id": "b49a5a35-061c-44fa-9a7f-275007109106"
    },
    "slideshow": {
     "slide_type": "fragment"
    }
   },
   "outputs": [],
   "source": [
    "print(pif.dumps(my_pif, indent=4)[:200])"
   ]
  },
  {
   "cell_type": "markdown",
   "metadata": {
    "slideshow": {
     "slide_type": "fragment"
    }
   },
   "source": [
    "We'll dig into PIFs more later."
   ]
  },
  {
   "cell_type": "markdown",
   "metadata": {
    "slideshow": {
     "slide_type": "slide"
    }
   },
   "source": [
    "## Uploading files to Citrination\n",
    "\n",
    "PIFs and other files can be uploaded to Citrination via the `citrination_client` package."
   ]
  },
  {
   "cell_type": "markdown",
   "metadata": {
    "slideshow": {
     "slide_type": "subslide"
    }
   },
   "source": [
    "### Setting up the client\n",
    "\n",
    "The client authenticates with your API key, which is located on the \"Account\" page on Citrination.  Please keep these keys out of your source code.  Placing them in and referencing them from environment variables is a best practice. "
   ]
  },
  {
   "cell_type": "code",
   "execution_count": null,
   "metadata": {
    "slideshow": {
     "slide_type": "fragment"
    }
   },
   "outputs": [],
   "source": [
    "site = 'https://citrination.com' # public site\n",
    "client = CitrinationClient(api_key=os.environ['CITRINATION_API_KEY'], \n",
    "                           site=site)"
   ]
  },
  {
   "cell_type": "markdown",
   "metadata": {
    "slideshow": {
     "slide_type": "fragment"
    }
   },
   "source": [
    "We'll use the same client to query and download from Citrination later."
   ]
  },
  {
   "cell_type": "markdown",
   "metadata": {
    "slideshow": {
     "slide_type": "subslide"
    }
   },
   "source": [
    "### Creating a dataset\n",
    "\n",
    "To upload data, we'll need to specify a dataset for it to live in. You'll only need to do this once. There are two ways to proceed.\n",
    "\n",
    "First: This notebook uses the `citrination_client` to create a dataset for you to use in this and other tutorials. \n",
    "\n",
    "Second: you can create a dataset on the website using the directions below. You can also share datasets via the Teams tab.\n",
    "\n",
    "1. Login to https://citrination.com\n",
    "1. Navigate to **Add Data**.\n",
    "1. Enter a name (e.g. \"Tutorial dataset\").\n",
    "1. Select `dummy_csv.csv` from the `example_data` folder and upload it.\n",
    "1. If successful, the page should automatically reload with your **dataset_id** in the URL:\n",
    "     * https://citrination.com/datasets/**dataset_id**/show_files\n",
    "1. Comment the cell below and set `dataset_id` to the **dataset_id** found in step 5 above."
   ]
  },
  {
   "cell_type": "code",
   "execution_count": null,
   "metadata": {},
   "outputs": [],
   "source": [
    "# Comment this cell if you have an ID from a dataset you created via the website\n",
    "dataset_name = \"Tutorial dataset \" + str(uuid.uuid4())[:6]\n",
    "dataset = client.data.create_dataset(name=dataset_name, \n",
    "                                     description=\"Dataset for VASP tutorial.\", \n",
    "                                     public=False)\n",
    "dataset_id = dataset.id\n",
    "print('Dataset created! {}/datasets/{}'.format(site, dataset_id))"
   ]
  },
  {
   "cell_type": "markdown",
   "metadata": {
    "slideshow": {
     "slide_type": "subslide"
    }
   },
   "source": [
    "### Uploading a PIF to a dataset\n",
    "\n",
    "The client uploads files, so we write the file to `pif.json`.\n",
    "\n",
    "We may also want to add a tag to the PIF, which will make it easier to search and filter PIFs later."
   ]
  },
  {
   "cell_type": "code",
   "execution_count": null,
   "metadata": {
    "slideshow": {
     "slide_type": "fragment"
    }
   },
   "outputs": [],
   "source": [
    "my_pif.tags = [\"my_first_upload\",]\n",
    "with open(os.path.join(rundir, \"pif.json\"), \"w\") as fp:\n",
    "    pif.dump(my_pif, fp)\n",
    "res = client.data.upload(dataset_id, rundir)"
   ]
  },
  {
   "cell_type": "markdown",
   "metadata": {
    "slideshow": {
     "slide_type": "slide"
    }
   },
   "source": [
    "## Hands-on: Upload your DFT calculations\n",
    "\n",
    "* If you have your own DFT calculations, try formatting and uploading them.\n",
    "* If you don't, you can use the `Al-Cu` data in `example_data`."
   ]
  }
 ],
 "metadata": {
  "anaconda-cloud": {},
  "kernelspec": {
   "display_name": "Python 3",
   "language": "python",
   "name": "python3"
  },
  "language_info": {
   "codemirror_mode": {
    "name": "ipython",
    "version": 3
   },
   "file_extension": ".py",
   "mimetype": "text/x-python",
   "name": "python",
   "nbconvert_exporter": "python",
   "pygments_lexer": "ipython3",
   "version": "3.7.2"
  },
  "nbpresent": {
   "slides": {
    "5c8082ad-f7f3-497a-91a5-b82f1bfa6d0e": {
     "id": "5c8082ad-f7f3-497a-91a5-b82f1bfa6d0e",
     "layout": "grid",
     "prev": null,
     "regions": {
      "3fdabdaa-d1a7-4289-8161-39096a883c62": {
       "attrs": {
        "height": 1,
        "pad": 0.01,
        "treemap:weight": 1,
        "width": 1,
        "x": 0,
        "y": 0
       },
       "content": {
        "cell": "f2f733dc-95c8-4751-a337-7bba7fcbe4d7",
        "part": "whole"
       },
       "id": "3fdabdaa-d1a7-4289-8161-39096a883c62"
      }
     }
    },
    "8e99069f-4d09-4e7b-8dbb-b8cf82a67ae2": {
     "id": "8e99069f-4d09-4e7b-8dbb-b8cf82a67ae2",
     "prev": "5c8082ad-f7f3-497a-91a5-b82f1bfa6d0e",
     "regions": {
      "1dabf2fc-3b38-4a0d-a95c-c4574fd5354f": {
       "attrs": {
        "height": 0.6,
        "width": 0.8,
        "x": 0.1,
        "y": 0.1
       },
       "content": {
        "cell": "c41a4f53-9a6a-435e-b554-90780aa20fcd",
        "part": "whole"
       },
       "id": "1dabf2fc-3b38-4a0d-a95c-c4574fd5354f"
      },
      "ab4f31d7-8029-4c39-854f-edaad678b711": {
       "attrs": {
        "height": 0.2,
        "width": 0.4,
        "x": 0.5,
        "y": 0.7
       },
       "id": "ab4f31d7-8029-4c39-854f-edaad678b711"
      },
      "b3bd2bc4-2c69-4998-8fe0-a09a6c579492": {
       "attrs": {
        "height": 0.2,
        "width": 0.4,
        "x": 0.1,
        "y": 0.7
       },
       "id": "b3bd2bc4-2c69-4998-8fe0-a09a6c579492"
      }
     }
    }
   },
   "themes": {}
  }
 },
 "nbformat": 4,
 "nbformat_minor": 1
}
