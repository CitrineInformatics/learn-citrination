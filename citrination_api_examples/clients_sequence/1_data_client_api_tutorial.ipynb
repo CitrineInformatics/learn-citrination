{
 "cells": [
  {
   "cell_type": "markdown",
   "metadata": {},
   "source": [
    "![Banner logo](https://raw.githubusercontent.com/CitrineInformatics/community-tools/master/templates/fig/citrine_banner_2.png)"
   ]
  },
  {
   "cell_type": "markdown",
   "metadata": {},
   "source": [
    "# PyCC Data Client Tutorial\n",
    "\n",
    "*Authors: Enze Chen, Max Gallant*\n",
    "\n",
    "In this notebook, we will cover how to use the [Citrination API](http://citrineinformatics.github.io/python-citrination-client/) to upload and manage datasets on Citrination. Getting your data on Citrination will allow you to keep your data organized in one place and enable you to perform machine learning (ML) on the data. The application program interface (API) aims to facilitate the process for those who prefer writing Python scripts. "
   ]
  },
  {
   "cell_type": "markdown",
   "metadata": {},
   "source": [
    "## Table of contents\n",
    "1. [Learning outcomes](#Learning-outcomes)\n",
    "1. [Background knowledge](#Background-knowledge)\n",
    "1. [Imports](#Python-package-imports)\n",
    "1. [Initialization](#Initialize-the-PyCC)\n",
    "1. [Data Client](#Data-client)\n",
    "1. [Conclusion](#Conclusion)\n",
    "1. [Additional resources](#Additional-resources)"
   ]
  },
  {
   "cell_type": "markdown",
   "metadata": {},
   "source": [
    "## Learning outcomes\n",
    "\n",
    "[Back to ToC](#Table-of-contents)\n",
    "\n",
    "By the end of this tutorial, you will know how to:\n",
    "* Initialize the Python Citrination Client (PyCC).\n",
    "* Create a new dataset and upload data to that dataset using the [`DataClient`](http://citrineinformatics.github.io/python-citrination-client/tutorial/data_examples.html) sub-client.\n",
    "* Retrieve data from a dataset and update dataset properties using the `DataClient`."
   ]
  },
  {
   "cell_type": "markdown",
   "metadata": {},
   "source": [
    "## Background knowledge\n",
    "\n",
    "[Back to ToC](#Table-of-contents)\n",
    "\n",
    "In order to get the most out of this tutorial, you should already be familiar with the following:\n",
    "* The Physical Information File (PIF) schema. \n",
    "  * [Documentation](http://citrineinformatics.github.io/pif-documentation/schema_definition/index.html)\n",
    "  * [Publication](https://www.cambridge.org/core/journals/mrs-bulletin/article/beyond-bulk-single-crystals-a-data-format-for-all-materials-structurepropertyprocessing-relationships/AADBAEDA62B0391D708CF02269989E8B)\n",
    "  * [Example](https://github.com/CitrineInformatics/learn-citrination/blob/master/AdvancedPif.ipynb)\n",
    "* What the datasets [front-end UI](https://citrination.com/datasets) looks like."
   ]
  },
  {
   "cell_type": "markdown",
   "metadata": {},
   "source": [
    "## Python package imports\n",
    "\n",
    "[Back to ToC](#Table-of-contents)"
   ]
  },
  {
   "cell_type": "code",
   "execution_count": null,
   "metadata": {},
   "outputs": [],
   "source": [
    "# Standard packages\n",
    "from os import environ  # get environment variables\n",
    "from time import sleep  # wait time\n",
    "from uuid import uuid4  # generating random IDs\n",
    "\n",
    "# Third-party packages\n",
    "from citrination_client import *"
   ]
  },
  {
   "cell_type": "markdown",
   "metadata": {},
   "source": [
    "## Initialize the PyCC\n",
    "\n",
    "[Back to ToC](#Table-of-contents)\n",
    "\n",
    "Assuming that this is the very first time you're interacting with the Citrination API, we will first go over how to properly initialize the client that handles all communication. Most APIs require a key for access, and the PyCC is no exception. You can find your API key by navigating to [Citrination](https://citrination.com), clicking your username in the top-right corner, clicking \"Account Settings,\" and then looking under your Email. Copy this key to your clipboard (`Ctrl+C`).\n",
    "\n",
    "Since the key is linked to your specific user profile, *you should never hard-code or expose your API key in your code.* Instead, first store the API key in your [environment variables](https://medium.com/@himanshuagarwal1395/setting-up-environment-variables-in-macos-sierra-f5978369b255) like so (for Macs):\n",
    "* In Terminal, type `vim ~/.bash_profile` (or use an editor of your choice).\n",
    "* In that file, press `i` (edit mode) and add the line `export CITRINATION_API_KEY=\"paste_your_api_key\"`.\n",
    "* Save and exit (`Esc`, `:wq`, `Enter`).\n",
    "* Open up a new Terminal and load this notebook one more time.\n",
    "\n",
    "Instructions for setting environment variables in Windows can be found online such as [this site](https://www.computerhope.com/issues/ch000549.htm).\n",
    "\n",
    "Now when you're coding, you can initialize the PyCC using the following syntax:"
   ]
  },
  {
   "cell_type": "code",
   "execution_count": null,
   "metadata": {},
   "outputs": [],
   "source": [
    "site = \"https://citrination.com\"  # site you want to access; we'll use the public site\n",
    "client = CitrinationClient(api_key=environ.get('CITRINATION_API_KEY'), \n",
    "                           site=site)\n",
    "client # reveal the attributes"
   ]
  },
  {
   "cell_type": "markdown",
   "metadata": {},
   "source": [
    "The first argument is your API key, which you've stored in your system, and the second argument is your site URL. This example uses the public Citrination site, and different sites have different API keys, so pay attention to what you have listed in your `~/.bash_profile`. \n",
    "\n",
    "**Key takeaway**: Never expose your API key in your code."
   ]
  },
  {
   "cell_type": "markdown",
   "metadata": {},
   "source": [
    "## Data client\n",
    "\n",
    "[Back to ToC](#Table-of-contents)\n",
    "\n",
    "Once the base client is initialized, the [`DataClient`](http://citrineinformatics.github.io/python-citrination-client/tutorial/data_examples.html) can be easily accessed using the `.data` attribute."
   ]
  },
  {
   "cell_type": "code",
   "execution_count": null,
   "metadata": {},
   "outputs": [],
   "source": [
    "data_client = client.data\n",
    "data_client  # reveal the methods"
   ]
  },
  {
   "cell_type": "markdown",
   "metadata": {},
   "source": [
    "### Create a dataset\n",
    "Before you can upload data, you have to create an empty dataset to store the files in. The `create_dataset()` method of the `DataClient` does exactly this and returns a [`Dataset`](http://citrineinformatics.github.io/python-citrination-client/modules/data/datasets.html) object. The method has the following inputs:\n",
    "* `name`: A string for the name of the dataset. It cannot be the same as that of an existing dataset that you own.\n",
    "* `description`: A string for the description of the dataset.\n",
    "* `public`: A Boolean indicating whether to make the dataset public (`default=False`)."
   ]
  },
  {
   "cell_type": "code",
   "execution_count": null,
   "metadata": {
    "scrolled": true
   },
   "outputs": [],
   "source": [
    "data_name = 'PyCC Dataset ' + str(uuid4())[:6]\n",
    "data_desc = 'This dataset was created by the PyCC API tutorial.'\n",
    "dataset = data_client.create_dataset(name=data_name, \n",
    "                                     description=data_desc)"
   ]
  },
  {
   "cell_type": "markdown",
   "metadata": {},
   "source": [
    "Once you've created the `Dataset` object, you can obtain the dataset ID from the `.id` attribute of a `Dataset`. You will need this ID for subsequent operations."
   ]
  },
  {
   "cell_type": "code",
   "execution_count": null,
   "metadata": {},
   "outputs": [],
   "source": [
    "dataset_id = dataset.id\n",
    "dataset_time = dataset.created_at\n",
    "print('Dataset {} was created at {}.'.format(dataset_id, dataset_time))\n",
    "print('It can be accessed at {}/datasets/{}'.format(site, dataset_id))"
   ]
  },
  {
   "cell_type": "markdown",
   "metadata": {},
   "source": [
    "If you click on the above URL, it will take you to the dataset on Citrination, which at this point should be empty."
   ]
  },
  {
   "cell_type": "markdown",
   "metadata": {},
   "source": [
    "### Upload data to a dataset\n",
    "The `upload()` method of the `DataClient` allows you to upload a file or a directory to a dataset. The method has the following inputs:\n",
    "* `dataset_id`: The integer value of the ID of the dataset to which you will be uploading data.\n",
    "* `source_path`: The path to the file or directory you want to upload.\n",
    "* `dest_path`: The name of the file or directory as it should appear on Citrination (`default=None`).\n",
    "\n",
    "The returned [`UploadResult`](http://citrineinformatics.github.io/python-citrination-client/modules/data/data_client.html#citrination_client.data.upload_result.UploadResult) object tracks the number of successful and failed uploads. You can also use the function `get_ingest_status()` to check the status of ingest.\n",
    "\n",
    "*Note*: Any file format can be uploaded, but the current CitrinationClient (v5.0.1) only supports the [ingestion](https://help.citrination.com/knowledgebase/articles/1195249-citrination-file-ingesters) (i.e. \"processing\") of PIF files. "
   ]
  },
  {
   "cell_type": "code",
   "execution_count": null,
   "metadata": {},
   "outputs": [],
   "source": [
    "# Upload a single file\n",
    "upload_result = data_client.upload(dataset_id=dataset_id, \n",
    "                                   source_path='test_pif.json')\n",
    "print('Successful upload? {}'.format(upload_result.successful())) # Boolean; True if none fail\n",
    "\n",
    "# Upload a directory; each file is recursively added and has the folder name as a prefix\n",
    "upload_result = data_client.upload(dataset_id=dataset_id, \n",
    "                                   source_path='test_pif_dir/')\n",
    "print('Number of successful uploads: {}'.format(len(upload_result.successes))) # list of successful files\n",
    "\n",
    "# Check ingest status with loop\n",
    "while True:\n",
    "    ingest_status = data_client.get_ingest_status(dataset_id=dataset_id)\n",
    "    if (ingest_status == 'Finished'):\n",
    "        print('Ingestion complete!')\n",
    "        print('Dataset URL: {}/datasets/{}'.format(site, dataset_id))\n",
    "        break\n",
    "    else:\n",
    "        print('Waiting for data ingest...')\n",
    "        sleep(10)"
   ]
  },
  {
   "cell_type": "markdown",
   "metadata": {},
   "source": [
    "**Verify**: If you go back to the dataset in the UI and refresh the page, you should find it populated with PIF records!"
   ]
  },
  {
   "cell_type": "markdown",
   "metadata": {},
   "source": [
    "### Retrieving data: File download URLs\n",
    "The more common way to retrieve data from datasets on Citrination is to request download URLs. The `get_dataset_files()` function can be used to get a list of [`DatasetFile`](http://citrineinformatics.github.io/python-citrination-client/modules/data/datasets.html#citrination_client.data.dataset_file.DatasetFile) objects from a dataset. The method has the following inputs:\n",
    "* `dataset_id`: The integer value of the ID of the dataset that you're retrieving data from.\n",
    "* `glob`: A [regex](https://ryanstutorials.net/regular-expressions-tutorial/) used to select one or more files in the dataset (`default='.'`).\n",
    "* `is_dir`: A Boolean indicating whether or not the supplied pattern should be treated as a directory to search in (`default=False`).\n",
    "* `version_number`: The integer value of the version number of the dataset to retrieve files from (`default=None`)."
   ]
  },
  {
   "cell_type": "code",
   "execution_count": null,
   "metadata": {},
   "outputs": [],
   "source": [
    "regex = 'pif'  # matches files with 'pif' in the name\n",
    "dataset_files = data_client.get_dataset_files(dataset_id=dataset_id, \n",
    "                                              glob=regex)\n",
    "print('The regex \\'{}\\' matched {} files in dataset {}.'.format(regex, \n",
    "                                                                len(dataset_files), \n",
    "                                                                dataset_id))"
   ]
  },
  {
   "cell_type": "markdown",
   "metadata": {},
   "source": [
    "[`DatasetFile`](http://citrineinformatics.github.io/python-citrination-client/modules/data/datasets.html#citrination_client.data.dataset_file.DatasetFile) objects have `path` and `url` attributes that can then be accessed. There is also a `download_files()` method with the following parameters:\n",
    "* `dataset_files`: A list of `DatasetFile` objects.\n",
    "* `destination`: The path to the desired local download destination (`default='.'`)."
   ]
  },
  {
   "cell_type": "code",
   "execution_count": null,
   "metadata": {},
   "outputs": [],
   "source": [
    "print('The first file in the dataset is \"{}\"'.format(dataset_files[0].path))\n",
    "\n",
    "# Download all files, preserving the same file organization\n",
    "data_client.download_files(dataset_files=dataset_files, \n",
    "                           destination='./downloads/')"
   ]
  },
  {
   "cell_type": "markdown",
   "metadata": {},
   "source": [
    "### Retrieving data: PIF retrieval\n",
    "Another way to retrieve data is to request the contents of a single PIF record in JSON format. The `get_pif()` method takes in the following parameters and returns a [pypif](https://github.com/CitrineInformatics/pypif) [`pif`](http://citrineinformatics.github.io/pif-documentation/schema_definition/index.html) object.\n",
    "* `dataset_id`: The integer value of the ID of the dataset that you're retrieving data from.\n",
    "* `uid`: A string representing the uid of the PIF to retrieve.\n",
    "* `dataset_version`: The integer value of the version number of the dataset to retrieve files from (`default=None`).\n",
    "\n",
    "*Note*: Because the `uid` is only revealed through the web UI and [`SearchClient`](http://citrineinformatics.github.io/python-citrination-client/tutorial/search_examples.html), `get_pif()` is not commonly used when working solely with the `DataClient`."
   ]
  },
  {
   "cell_type": "code",
   "execution_count": null,
   "metadata": {},
   "outputs": [],
   "source": [
    "pif_uid = 'test_uid'  # this UID was set in the PIF\n",
    "my_pif = data_client.get_pif(dataset_id=dataset_id, \n",
    "                             uid=pif_uid)\n",
    "print('The chemical formula of this PIF is {}.'.format(my_pif.chemical_formula))"
   ]
  },
  {
   "cell_type": "markdown",
   "metadata": {},
   "source": [
    "### Modify a dataset\n",
    "You can easily modify datasets on Citrination with the `update_dataset()` function. It takes as inputs:\n",
    "* `dataset_id`: The integer value of the ID of the dataset that you're retrieving data from.\n",
    "* `name`: A string for the new name of the dataset (`default=None`).\n",
    "* `description`: A string for the new description of the dataset (`default=None`).\n",
    "* `public`: A Boolean indicating whether the dataset should be public (`default=None`)."
   ]
  },
  {
   "cell_type": "code",
   "execution_count": null,
   "metadata": {},
   "outputs": [],
   "source": [
    "new_name = 'PyCC Dataset New Name ' + str(uuid4())[:6]\n",
    "public_flag = False\n",
    "new_dataset = data_client.update_dataset(dataset_id=dataset_id, \n",
    "                                         name=new_name, \n",
    "                                         public=public_flag)\n",
    "print('Dataset {} is now named \"{}.\"'.format(dataset_id, new_dataset.name))"
   ]
  },
  {
   "cell_type": "markdown",
   "metadata": {},
   "source": [
    "If you just wanted to see all the files in a dataset that contain a particular pattern, you can use the `list_files()` method. It takes in the first three arguments of the `get_dataset_files()` method and returns a list of file paths."
   ]
  },
  {
   "cell_type": "code",
   "execution_count": null,
   "metadata": {},
   "outputs": [],
   "source": [
    "print('Files list: {0}.'.format(data_client.list_files(dataset_id=dataset_id, \n",
    "                                                       glob='.')))"
   ]
  },
  {
   "cell_type": "markdown",
   "metadata": {},
   "source": [
    "The `create_dataset_version()` method of the `DataClient` creates a new version of a data set. Note that creating a new version deletes all records from the old version, so handle with care!"
   ]
  },
  {
   "cell_type": "code",
   "execution_count": null,
   "metadata": {},
   "outputs": [],
   "source": [
    "dataset_version = data_client.create_dataset_version(dataset_id=dataset_id)\n",
    "print('Dataset {} is now version {}.'.format(dataset_id, dataset_version.number))"
   ]
  },
  {
   "cell_type": "markdown",
   "metadata": {},
   "source": [
    "### Delete a dataset\n",
    "\n",
    "Finally, if you wish to delete a dataset that you own, you can use the `delete_dataset()` method of the `DataClient`. As this is a permanent deletion, please handle with care!"
   ]
  },
  {
   "cell_type": "code",
   "execution_count": null,
   "metadata": {},
   "outputs": [],
   "source": [
    "# data_client.delete_dataset(dataset_id=dataset_id)"
   ]
  },
  {
   "cell_type": "markdown",
   "metadata": {},
   "source": [
    "## Conclusion\n",
    "\n",
    "[Back to ToC](#Table-of-contents)\n",
    "\n",
    "To recap, this notebook went through the steps for managing data on Citrination using the `DataClient`. The topics covered included:\n",
    "* How to properly initialize the Python Citrination Client with your API key.\n",
    "* How to create a new dataset.\n",
    "* How to upload data to the dataset.\n",
    "* How to retrieve data from the dataset.\n",
    "* How to modify the properties of the dataset.\n",
    "* How to delete a dataset."
   ]
  },
  {
   "cell_type": "markdown",
   "metadata": {},
   "source": [
    "## Additional resources\n",
    "\n",
    "[Back to ToC](#Table-of-contents)\n",
    "\n",
    "It's now possible to conduct the major aspects of the Citrination workflow through the API, which should increase the speed and flexibility of informatics approaches. Some other topics that might interest you include:\n",
    "* [DataViewsClient](http://citrineinformatics.github.io/python-citrination-client/tutorial/view_examples.html) - This allows you to build views (i.e. train ML models) using the API.\n",
    "  * There is also a corresponding [tutorial](2_data_views_client_api_tutorial.ipynb).\n",
    "* [SearchClient](http://citrineinformatics.github.io/python-citrination-client/tutorial/search_examples.html) - This gives you a flexible and fast way to access PIF data on Citrination.\n",
    "  * There is also a corresponding [tutorial](4_search_client_api_tutorial.ipynb)."
   ]
  }
 ],
 "metadata": {
  "kernelspec": {
   "display_name": "Python 3",
   "language": "python",
   "name": "python3"
  },
  "language_info": {
   "codemirror_mode": {
    "name": "ipython",
    "version": 3
   },
   "file_extension": ".py",
   "mimetype": "text/x-python",
   "name": "python",
   "nbconvert_exporter": "python",
   "pygments_lexer": "ipython3",
   "version": "3.7.2"
  }
 },
 "nbformat": 4,
 "nbformat_minor": 2
}
