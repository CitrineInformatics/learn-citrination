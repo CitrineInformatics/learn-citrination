{
 "cells": [
  {
   "cell_type": "markdown",
   "metadata": {},
   "source": [
    "![Banner logo](https://raw.githubusercontent.com/CitrineInformatics/community-tools/master/templates/fig/citrine_banner_2.png)"
   ]
  },
  {
   "cell_type": "markdown",
   "metadata": {},
   "source": [
    "# PyCC Data Views API Tutorial\n",
    "\n",
    "*Authors: Enze Chen, Eric Lundberg*\n",
    "\n",
    "In this notebook, we will cover how to *create* a data view using the [Citrination API](http://citrineinformatics.github.io/python-citrination-client/). Data views provide the configuration necessary in order to perform machine learning and data analysis. We will demonstrate this functionality using the [Band gaps from Strehlow and Cook](https://citrination.com/datasets/1160/show_search?searchMatchOption=fuzzyMatch) dataset, where we will create a view mapping: \n",
    "\n",
    "$$\\text{Chemical formula (inorganic) + Crystallinity (categorical)} \\longrightarrow \\boxed{\\text{ML model}} \\longrightarrow \\text{Band gap (real)}$$"
   ]
  },
  {
   "cell_type": "markdown",
   "metadata": {},
   "source": [
    "## Table of contents\n",
    "1. [Learning outcomes](#Learning-outcomes)\n",
    "1. [Background knowledge](#Background-knowledge)\n",
    "1. [Imports](#Python-package-imports)\n",
    "1. [DataViewBuilder](#DataViewBuilder)\n",
    "1. [DataViewsClient](#DataViewsClient)\n",
    "1. [View properties](#Data-view-properties-and-analysis)\n",
    "1. [ModelsClient](#ModelsClient-methods)\n",
    "1. [Conclusion](#Conclusion)\n",
    "1. [Additional resources](#Additional-resources)"
   ]
  },
  {
   "cell_type": "markdown",
   "metadata": {},
   "source": [
    "## Learning outcomes\n",
    "\n",
    "[Back to ToC](#Table-of-contents)\n",
    "\n",
    "By the end of this tutorial, you will know how to:\n",
    "* Create [`DataViewBuilder`](http://citrineinformatics.github.io/python-citrination-client/modules/views/ml_config_builder.html) objects.\n",
    "* Create new data views from existing data using the [`DataViewsClient`](http://citrineinformatics.github.io/python-citrination-client/tutorial/view_examples.html).\n",
    "* Perform operations on views using the `DataViewsClient`."
   ]
  },
  {
   "cell_type": "markdown",
   "metadata": {},
   "source": [
    "## Background knowledge\n",
    "\n",
    "[Back to ToC](#Table-of-contents)\n",
    "\n",
    "In order to get the most out of this tutorial, you should already be familiar with the following:\n",
    "* Create and access datasets through the API ([documentation](http://citrineinformatics.github.io/python-citrination-client/tutorial/data_examples.html) and [tutorial](1_data_client_api_tutorial.ipynb)).\n",
    "* What the data views [front-end UI](https://citrination.com/data_views) looks like."
   ]
  },
  {
   "cell_type": "markdown",
   "metadata": {},
   "source": [
    "## Python package imports\n",
    "\n",
    "[Back to ToC](#Table-of-contents)\n"
   ]
  },
  {
   "cell_type": "code",
   "execution_count": null,
   "metadata": {},
   "outputs": [],
   "source": [
    "# Standard packages\n",
    "from os import environ  # get environment variables\n",
    "from time import sleep  # wait time\n",
    "from uuid import uuid4  # generating random IDs\n",
    "\n",
    "# Third-party packages\n",
    "from citrination_client import *\n",
    "from citrination_client.views.data_view_builder import DataViewBuilder"
   ]
  },
  {
   "cell_type": "markdown",
   "metadata": {},
   "source": [
    "## DataViewBuilder\n",
    "\n",
    "[Back to ToC](#Table-of-contents)\n",
    "\n",
    "The [`DataViewBuilder`](http://citrineinformatics.github.io/python-citrination-client/modules/views/ml_config_builder.html) class handles the configuration for data views and returns a **configuration** object that is an input for the `DataViewsClient`. The configuration specifies:\n",
    "* The datasets you want to include.\n",
    "* The ML model you want to use.\n",
    "* Which properties you want to use as descriptors. \n",
    "\n",
    "Some of the important parameters to note are:\n",
    "* `dataset_ids`: An array of strings, one for each dataset ID that should be included in the view.\n",
    "* `descriptors`: A descriptor instance, which is one of `{RealDescriptor, InorganicDescriptor, OrganicDescriptor, CategoricalDescriptor,` or `AlloyCompositionDescriptor}`.\n",
    "    * *Note 1*: Chemical formulas for the API take the key `\"formula\"`.\n",
    "    * *Note 2*: Properties take the key `\"Property [property name]\"`.\n",
    "    * *Note 3*: Strings are **Case-sensitive!**\n",
    "* `roles`: A role for each descriptor, as a string, which is one of `{'input', 'output', 'latentVariable',` or `'ignored'}`."
   ]
  },
  {
   "cell_type": "code",
   "execution_count": null,
   "metadata": {},
   "outputs": [],
   "source": [
    "# Create ML configuration\n",
    "dv_builder = DataViewBuilder()\n",
    "dv_builder.dataset_ids(['172242']) # ID number for band gaps dataset\n",
    "\n",
    "# Define crystallinity descriptor\n",
    "crystallinity = ['Single crystalline', 'Polycrystalline', 'Amorphous'] # Obtained from dataset\n",
    "desc_crystal = CategoricalDescriptor(key='Property Crystallinity', \n",
    "                                     categories=crystallinity)\n",
    "dv_builder.add_descriptor(descriptor=desc_crystal, \n",
    "                          role='input')\n",
    "\n",
    "# Define chemical formula descriptor\n",
    "desc_formula = InorganicDescriptor(key='formula', \n",
    "                                   threshold=1.0)\n",
    "dv_builder.add_descriptor(descriptor=desc_formula, \n",
    "                          role='input')\n",
    "\n",
    "# Define band gap descriptor\n",
    "desc_bandgap = RealDescriptor(key='Property Band gap', \n",
    "                              lower_bound=0.0, \n",
    "                              upper_bound=1e3, \n",
    "                              units='eV')\n",
    "dv_builder.add_descriptor(descriptor=desc_bandgap, \n",
    "                          role='output')\n",
    "\n",
    "# Build the configuration once all the pieces are in place\n",
    "view_config = dv_builder.build()"
   ]
  },
  {
   "cell_type": "markdown",
   "metadata": {},
   "source": [
    "## DataViewsClient\n",
    "\n",
    "[Back to ToC](#Table-of-contents)\n",
    "\n",
    "After obtaining your customized configuration, you have to initialize a [`DataViewsClient`](http://citrineinformatics.github.io/python-citrination-client/modules/views/data_views_client.html) instance in order to create a data view from the configuration you built."
   ]
  },
  {
   "cell_type": "code",
   "execution_count": null,
   "metadata": {},
   "outputs": [],
   "source": [
    "# Instantiate the base CitrinationClient\n",
    "site = 'https://citrination.com'  # site you want to access; we'll use the public site\n",
    "client = CitrinationClient(api_key=environ.get('CITRINATION_API_KEY'), \n",
    "                           site=site)\n",
    "\n",
    "# Instantiate the DataViewsClient\n",
    "views_client = client.data_views\n",
    "views_client # reveal the methods"
   ]
  },
  {
   "cell_type": "markdown",
   "metadata": {},
   "source": [
    "The `create()` method for the `DataViewClient` takes as input:\n",
    "* `configuration`: A view configuration, like the template you created above.\n",
    "* `name`: A name for the data view (must be unique among your data views).\n",
    "* `description`: A description for the data view.\n",
    "\n",
    "and returns the ID for the data view, which you will need for subsequent analysis and retraining."
   ]
  },
  {
   "cell_type": "code",
   "execution_count": null,
   "metadata": {},
   "outputs": [],
   "source": [
    "# Create a data view using the above configuration and store the ID\n",
    "view_name = 'PyCC View ' + str(uuid4())[:6]  # random name to avoid clashes\n",
    "view_desc = 'This view was created by the PyCC API tutorial.'\n",
    "view_id = views_client.create(configuration=view_config, \n",
    "                              name=view_name, \n",
    "                              description=view_desc)\n",
    "print('Data view {} was successfully created.'.format(view_id))\n",
    "print('It can be accessed at {}/data_views/{}'.format(site, view_id))"
   ]
  },
  {
   "cell_type": "markdown",
   "metadata": {},
   "source": [
    "Clicking the above URL will take you to the data view you just created on your deployment of Citrination."
   ]
  },
  {
   "cell_type": "markdown",
   "metadata": {},
   "source": [
    "## Data view properties and analysis\n",
    "\n",
    "[Back to ToC](#Table-of-contents)\n",
    "\n",
    "Now that the view is on your Citrination site, you can use the ID to do a variety of analyses. For example, you can obtain the metadata in JSON format for easy extraction with the `get()` method."
   ]
  },
  {
   "cell_type": "code",
   "execution_count": null,
   "metadata": {},
   "outputs": [],
   "source": [
    "view_metadata = views_client.get(view_id)\n",
    "print('Name of view: {}'.format(view_metadata['name']))\n",
    "print('Column names: {}'.format(view_metadata['selected_columns']))\n",
    "print('Descriptor roles: {}'.format(view_metadata['configuration']['roles']))"
   ]
  },
  {
   "cell_type": "markdown",
   "metadata": {},
   "source": [
    "### Check status of services\n",
    "If there's a lot of data, training might take some time, and you might want to check when certain services are ready. Possible services enabled by data views include `predict`, `experimental_design`, `data_reports`, and `model_reports`."
   ]
  },
  {
   "cell_type": "code",
   "execution_count": null,
   "metadata": {},
   "outputs": [],
   "source": [
    "# Use a loop to monitor view status\n",
    "while True:\n",
    "    view_status = views_client.get_data_view_service_status(data_view_id=view_id)\n",
    "    \n",
    "    # Design and Predict are most important endpoints to check\n",
    "    if (view_status.experimental_design.ready and\n",
    "        view_status.predict.event.normalized_progress == 1.0):\n",
    "        print(\"Data view ready!\")\n",
    "        print(\"Data view URL: {}/data_views/{}\".format(site, view_id))\n",
    "        break\n",
    "    else:\n",
    "        print(\"Waiting for data view services...\")\n",
    "        sleep(10)"
   ]
  },
  {
   "cell_type": "markdown",
   "metadata": {},
   "source": [
    "### Deleting a view\n",
    "You can delete views very easily through the API, so handle with care!"
   ]
  },
  {
   "cell_type": "code",
   "execution_count": null,
   "metadata": {},
   "outputs": [],
   "source": [
    "# views_client.delete(id=view_id)"
   ]
  },
  {
   "cell_type": "markdown",
   "metadata": {},
   "source": [
    "## ModelsClient methods\n",
    "\n",
    "[Back to ToC](#Table-of-contents)\n",
    "\n",
    "The `ModelsClient` is now a [linked attribute](https://github.com/CitrineInformatics/python-citrination-client/blob/c1c34b6f848e8bfcdaf1bb5619ea54afe18220c2/citrination_client/views/client.py#L21) of the `DataViewsClient`, so methods such as `retrain()`, `predict()`, and `submit_design_run()` can be used with the `view_id` we just created."
   ]
  },
  {
   "cell_type": "code",
   "execution_count": null,
   "metadata": {},
   "outputs": [],
   "source": [
    "models_client = views_client.models # the original way is client.models; both return the same object"
   ]
  },
  {
   "cell_type": "markdown",
   "metadata": {},
   "source": [
    "We'll leave the tutorial for the `ModelsClient` and its associated methods as [a separate notebook](3_models_client_api_tutorial.ipynb)."
   ]
  },
  {
   "cell_type": "markdown",
   "metadata": {},
   "source": [
    "## Conclusion\n",
    "\n",
    "[Back to ToC](#Table-of-contents)\n",
    "\n",
    "To recap, this notebook went through the steps for creating a data view using the API.\n",
    "1. First, we used the `DataViewBuilder` object to specify the configuration.\n",
    "2. Then, we trained the model, which is simple as long as the configuration is correct.\n",
    "3. We showed how to monitor the status of various endpoints enabled by data views."
   ]
  },
  {
   "cell_type": "markdown",
   "metadata": {},
   "source": [
    "## Additional resources\n",
    "\n",
    "[Back to ToC](#Table-of-contents)\n",
    "\n",
    "It's now possible to conduct the major aspects of the Citrination workflow through the API, which should increase the speed and flexibility of informatics approaches. Some other topics that might interest you include:\n",
    "* [DataClient](http://citrineinformatics.github.io/python-citrination-client/tutorial/data_examples.html) - This allows you to create datasets and upload PIF data (only) using the API.\n",
    "  * There is also a corresponding [tutorial](1_data_client_api_tutorial.ipynb).\n",
    "* [SearchClient](http://citrineinformatics.github.io/python-citrination-client/tutorial/search_examples.html) - This gives you a flexible and fast way to access PIF data on Citrination.\n",
    "  * There is also a corresponding [tutorial](4_search_client_api_tutorial.ipynb).\n",
    "* [ModelsClient](http://citrineinformatics.github.io/python-citrination-client/tutorial/models_examples.html) - This allows you to submit predict and design runs using the API.\n",
    "  * There is also a corresponding [tutorial](3_models_client_api_tutorial.ipynb)."
   ]
  }
 ],
 "metadata": {
  "kernelspec": {
   "display_name": "Python 3",
   "language": "python",
   "name": "python3"
  },
  "language_info": {
   "codemirror_mode": {
    "name": "ipython",
    "version": 3
   },
   "file_extension": ".py",
   "mimetype": "text/x-python",
   "name": "python",
   "nbconvert_exporter": "python",
   "pygments_lexer": "ipython3",
   "version": "3.7.2"
  }
 },
 "nbformat": 4,
 "nbformat_minor": 2
}
