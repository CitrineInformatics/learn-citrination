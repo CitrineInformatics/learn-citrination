{
 "cells": [
  {
   "cell_type": "markdown",
   "metadata": {},
   "source": [
    "![Banner logo](https://raw.githubusercontent.com/CitrineInformatics/community-tools/master/templates/fig/citrine_banner_2.png)"
   ]
  },
  {
   "cell_type": "markdown",
   "metadata": {},
   "source": [
    "# PyCC Search Client Tutorial\n",
    "\n",
    "*Authors: Enze Chen, Max Hutchinson, Chris Borg*\n",
    "\n",
    "In this notebook, we will cover how to use the [Citrination API](http://citrineinformatics.github.io/python-citrination-client/) to search for and return PIF records on Citrination. The query language is quite sophisticated and allows users to apply complex sets of criteria; consequently, this guide will only cover a subset of its capabilities."
   ]
  },
  {
   "cell_type": "markdown",
   "metadata": {},
   "source": [
    "## Table of contents\n",
    "1. [Learning outcomes](#Learning-outcomes)\n",
    "1. [Background knowledge](#Background-knowledge)\n",
    "1. [Imports](#Python-package-imports)\n",
    "1. [Initialization](#Initialize-the-SearchClient)\n",
    "1. [Query structure](#Query-structure)\n",
    "1. [Filters](#Filters)\n",
    "1. [Datasets](#Dataset-search)\n",
    "1. [PIFs](#PIF-search)\n",
    "1. [Conclusion](#Conclusion)\n",
    "1. [Additional resources](#Additional-resources)"
   ]
  },
  {
   "cell_type": "markdown",
   "metadata": {},
   "source": [
    "## Learning outcomes\n",
    "\n",
    "[Back to ToC](#Table-of-contents)\n",
    "\n",
    "By the end of this tutorial, you will know how to:\n",
    "* Initialize the [`SearchClient`](http://citrineinformatics.github.io/python-citrination-client/modules/search/citrination_client.search.html) and search for datasets and PIF records.\n",
    "* Nest the various [`Query`](http://citrineinformatics.github.io/python-citrination-client/modules/search/core_query.html) objects to apply a set of search criteria.\n",
    "* Use [`Filter`](http://citrineinformatics.github.io/python-citrination-client/modules/search/core_query.html#module-citrination_client.search.core.query.filter) objects to match against data fields."
   ]
  },
  {
   "cell_type": "markdown",
   "metadata": {},
   "source": [
    "## Background knowledge\n",
    "\n",
    "[Back to ToC](#Table-of-contents)\n",
    "\n",
    "In order to get the most out of this tutorial, you should already be familiar with the following:\n",
    "* The Physical Information File (PIF) schema. \n",
    "  * [Documentation](http://citrineinformatics.github.io/pif-documentation/schema_definition/index.html)\n",
    "  * [Publication](https://www.cambridge.org/core/journals/mrs-bulletin/article/beyond-bulk-single-crystals-a-data-format-for-all-materials-structurepropertyprocessing-relationships/AADBAEDA62B0391D708CF02269989E8B)\n",
    "  * [Example](../tutorial_sequence/AdvancedPif.ipynb)\n",
    "* What the search [front-end UI](https://citrination.com/search/simple) looks like."
   ]
  },
  {
   "cell_type": "markdown",
   "metadata": {},
   "source": [
    "## Python package imports\n",
    "\n",
    "[Back to ToC](#Table-of-contents)"
   ]
  },
  {
   "cell_type": "code",
   "execution_count": null,
   "metadata": {},
   "outputs": [],
   "source": [
    "# Standard packages\n",
    "import os\n",
    "\n",
    "# Third-party packages\n",
    "from citrination_client import *\n",
    "from pypif import pif"
   ]
  },
  {
   "cell_type": "markdown",
   "metadata": {},
   "source": [
    "## Initialize the SearchClient\n",
    "\n",
    "[Back to ToC](#Table-of-contents)\n"
   ]
  },
  {
   "cell_type": "code",
   "execution_count": null,
   "metadata": {},
   "outputs": [],
   "source": [
    "# Initialize the base CitrinationClient\n",
    "site = \"https://citrination.com\" # site you want to access; we'll use the public site\n",
    "client = CitrinationClient(api_key=os.environ.get('CITRINATION_API_KEY'), \n",
    "                           site=site)\n",
    "\n",
    "# Access the SearchClient from the attribute\n",
    "search_client = client.search\n",
    "search_client # reveal the methods"
   ]
  },
  {
   "cell_type": "markdown",
   "metadata": {},
   "source": [
    "In this notebook, we will focus on the `pif_search()` and `dataset_search()` methods."
   ]
  },
  {
   "cell_type": "markdown",
   "metadata": {},
   "source": [
    "## Query structure\n",
    "\n",
    "[Back to ToC](#Table-of-contents)\n",
    "\n",
    "Before we discuss the specifics of each method, we'll provide a high-level discussion about the structure of [`Query`](https://github.com/CitrineInformatics/python-citrination-client/tree/64aab061500811fae4767491e5b069bb4a4af068/citrination_client/search/core/query) objects. There are two generic types of queries used by the `SearchClient`:\n",
    "\n",
    "1. `ReturningQuery` objects that actually return specific objects with data (e.g. PIFs, datasets).\n",
    "    * These are inputs to the search methods listed above.\n",
    "\n",
    "\n",
    "2. Other `Query` objects that just match for specific fields (e.g. datasets, formulas).\n",
    "    * Roughly speaking, there is a `Query` object corresponding to each PIF object ([see here](http://citrineinformatics.github.io/python-citrination-client/modules/search/pif_query_core.html))."
   ]
  },
  {
   "cell_type": "markdown",
   "metadata": {},
   "source": [
    "### Example\n",
    "![Query structure](../fig/query_structure.png \"Query structure\")\n",
    "\n",
    "At the top level, we have a `ReturningQuery` object that takes a variety of input parameters such as:\n",
    "* `size`: Total number of hits to return.\n",
    "* `query`: One or more [`DataQuery`](http://citrineinformatics.github.io/python-citrination-client/modules/search/core_query.html#module-citrination_client.search.core.query.data_query) objects with the query to run.\n",
    "\n",
    "The `DataQuery` object then contains more fine-grained fields for selecting specific `dataset`(s) and `system`(s), each with their specific [`DatasetQuery`](http://citrineinformatics.github.io/python-citrination-client/modules/search/dataset_query.html) and [`PifSystemQuery`](http://citrineinformatics.github.io/python-citrination-client/modules/search/pif_query.html) objects. Query objects are in orange and black in the above image."
   ]
  },
  {
   "cell_type": "markdown",
   "metadata": {},
   "source": [
    "## Filters\n",
    "\n",
    "[Back to ToC](#Table-of-contents)\n",
    "\n",
    "In the above example, you'll notice that each sub-query field ends with a [`Filter`](http://citrineinformatics.github.io/python-citrination-client/modules/search/core_query.html#module-citrination_client.search.core.query.filter) object highlighted in blue. The purpose of these objects is to contain the matching phrase (`equal`), along with any logic (`logic`, `exists`) and range (`min`, `max`) parameters. When constructing your own queries, remember to use a `Filter` when limiting the scope of each field.\n",
    "\n",
    "Note that the `chemical_formula` field takes a specialized `ChemicalFieldQuery` which has its own [`ChemicalFilter`](http://citrineinformatics.github.io/python-citrination-client/modules/search/pif_chemical_query.html#module-citrination_client.search.pif.query.chemical.chemical_filter) object."
   ]
  },
  {
   "cell_type": "markdown",
   "metadata": {},
   "source": [
    "### `extract_as`\n",
    "\n",
    "`extract_as` is a powerful keyword that facilitates the aggregation of data from multiple sources. It takes a `string` with the alias to save a field under, and is useful when different datasets use slightly different names to describe the same Property. \n",
    "\n",
    "It will return the PIF records and relevant field all under the same `extract_as` name. This flattens the data from the hierarchical PIF format to facilitate analysis. [See here](../tutorial_sequence/3_IntroQueries.ipynb) for an example and discussion."
   ]
  },
  {
   "cell_type": "markdown",
   "metadata": {},
   "source": [
    "## PIF search\n",
    "\n",
    "[Back to ToC](#Table-of-contents)\n",
    "\n",
    "The [`PifSystemReturningQuery`](http://citrineinformatics.github.io/python-citrination-client/modules/search/pif_query.html#module-citrination_client.search.pif.query.pif_system_returning_query) object in the example above is exactly the input for the [`pif_search()`](http://citrineinformatics.github.io/python-citrination-client/modules/search/citrination_client.search.html#citrination_client.search.client.SearchClient.pif_search) method. This method returns a [`PifSearchResult`](http://citrineinformatics.github.io/python-citrination-client/modules/search/pif_result.html#module-citrination_client.search.pif.result.pif_search_result) object with the following attributes:\n",
    "* `took`: Number of milliseconds the query took.\n",
    "* `total_num_hits`: The total number of PIF hits.\n",
    "* `hits`: List of [`PifSearchHit`](http://citrineinformatics.github.io/python-citrination-client/modules/search/pif_result.html#module-citrination_client.search.pif.result.pif_search_hit) objects.\n",
    "\n",
    "This method is useful when we want to obtain actual PIF data. For example, we can apply it to our example dataset from this tutorial sequence to obtain:"
   ]
  },
  {
   "cell_type": "code",
   "execution_count": null,
   "metadata": {},
   "outputs": [],
   "source": [
    "dataset_id = 172242 # change this to be your dataset id\n",
    "print(\"The dataset URL is: {}/datasets/{}\".format(site, dataset_id))\n",
    "\n",
    "system_query = PifSystemReturningQuery(\n",
    "    size=500,   # Returns the total number of matching hits without retrieving any data.\n",
    "    query=DataQuery(\n",
    "        dataset=DatasetQuery(\n",
    "            id=Filter(\n",
    "                equal=str(dataset_id)))))\n",
    "\n",
    "search_result = search_client.pif_search(system_query)\n",
    "print(\"Found {} PIFs in dataset {}.\".format(search_result.total_num_hits, dataset_id))"
   ]
  },
  {
   "cell_type": "markdown",
   "metadata": {},
   "source": [
    "Each [`PifSearchHit`](http://citrineinformatics.github.io/python-citrination-client/modules/search/pif_result.html#module-citrination_client.search.pif.result.pif_search_hit) object has `id` and `system` attributes to extract the ID and System data of the PIF record."
   ]
  },
  {
   "cell_type": "code",
   "execution_count": null,
   "metadata": {},
   "outputs": [],
   "source": [
    "print(\"The first PIF record is {}\".format(search_result.hits[0].id))\n",
    "print(pif.dumps(search_result.hits[0].system, indent=4))"
   ]
  },
  {
   "cell_type": "markdown",
   "metadata": {},
   "source": [
    "### Example: Filter a range of values\n",
    "Whereas the `.system` attribute above returned the entire PIF, we can use the `.extracted` attribute to return only the fields of interest specified in the query."
   ]
  },
  {
   "cell_type": "code",
   "execution_count": null,
   "metadata": {},
   "outputs": [],
   "source": [
    "system_query = PifSystemReturningQuery(\n",
    "    size=500,\n",
    "    query=DataQuery(\n",
    "        dataset=DatasetQuery(id=Filter(equal=dataset_id)),\n",
    "        system=PifSystemQuery(\n",
    "            chemical_formula=ChemicalFieldQuery(\n",
    "                extract_as='Chemical formula',\n",
    "                filter=ChemicalFilter(equal='?x?y')),\n",
    "            properties=PropertyQuery(\n",
    "                name=FieldQuery(\n",
    "                    filter=Filter(equal='Band gap')),\n",
    "                value=FieldQuery(\n",
    "                    filter=Filter(min=3.0, max=6.0),\n",
    "                    extract_as='Band gap')))))\n",
    "                    \n",
    "\n",
    "search_result = search_client.pif_search(system_query)\n",
    "print(\"Found {} PIFs in dataset {}.\".format(search_result.total_num_hits, dataset_id))\n",
    "print([x.extracted for x in search_result.hits][:2])"
   ]
  },
  {
   "cell_type": "markdown",
   "metadata": {},
   "source": [
    "### Example: Logic\n",
    "We can search for materials that `SHOULD` be oxides but `MUST NOT` have only 1 oxygen atom."
   ]
  },
  {
   "cell_type": "code",
   "execution_count": null,
   "metadata": {},
   "outputs": [],
   "source": [
    "query_size = 5\n",
    "query_logical = PifSystemReturningQuery(\n",
    "    size=query_size,\n",
    "    query=DataQuery(\n",
    "        dataset=DatasetQuery(\n",
    "            id=Filter(equal=str(dataset_id))),\n",
    "        system=PifSystemQuery(\n",
    "            chemical_formula=ChemicalFieldQuery(\n",
    "                extract_as='formula',\n",
    "                filter=[ChemicalFilter(equal='?xOy', logic=\"SHOULD\"),\n",
    "                        ChemicalFilter(equal='?xO1', logic=\"MUST_NOT\")]))))\n",
    "\n",
    "search_result = search_client.pif_search(query_logical)\n",
    "print(\"{} total hits, the first {} of which are:\".format(search_result.total_num_hits, query_size))\n",
    "for i in range(query_size):\n",
    "    print(pif.dumps(search_result.hits[i].extracted))"
   ]
  },
  {
   "cell_type": "markdown",
   "metadata": {},
   "source": [
    "## Dataset search\n",
    "\n",
    "[Back to ToC](#Table-of-contents)\n",
    "\n",
    "In other instances, we might be interested in knowing which datasets contain the information we want. While this can technically be done with a PIF search and then parsing through the dataset fields, there's also a [`DatasetReturningQuery`](http://citrineinformatics.github.io/python-citrination-client/modules/search/dataset_query.html#module-citrination_client.search.dataset.query.dataset_returning_query) that can be directly input into the `dataset_search()` method. The method returns a [`DatasetSearchResult`](http://citrineinformatics.github.io/python-citrination-client/modules/search/dataset_result.html#module-citrination_client.search.dataset.result.dataset_search_result) object with the following attributes:\n",
    "* `took`: Number of milliseconds the query took.\n",
    "* `total_num_hits`: The total number of dataset hits.\n",
    "* `hits`: List of [`DatasetSearchHit`](http://citrineinformatics.github.io/python-citrination-client/modules/search/dataset_result.html#module-citrination_client.search.dataset.result.dataset_search_hit) objects.\n",
    "\n",
    "An example for how this method works is as follows. We'll search for all datasets that contain a PIF with the chemical formula $\\text{As}_{2}\\text{S}_{3}$. We will randomize the results returned by passing the `random_results` flag to the `DatasetReturningQuery`."
   ]
  },
  {
   "cell_type": "code",
   "execution_count": null,
   "metadata": {},
   "outputs": [],
   "source": [
    "dataset_query = DatasetReturningQuery(\n",
    "    size=100,\n",
    "    random_results=True,\n",
    "    query=DataQuery(\n",
    "        system=PifSystemQuery(\n",
    "            chemical_formula=ChemicalFieldQuery(\n",
    "                filter=ChemicalFilter(\n",
    "                    equal='As2S3')))))\n",
    "\n",
    "search_result = search_client.dataset_search(dataset_query)\n",
    "print('{} datasets matched this query.'.format(search_result.total_num_hits))"
   ]
  },
  {
   "cell_type": "markdown",
   "metadata": {},
   "source": [
    "Each [`DatasetSearchHit`](http://citrineinformatics.github.io/python-citrination-client/modules/search/dataset_result.html#module-citrination_client.search.dataset.result.dataset_search_hit) object has many attributes that provide more context."
   ]
  },
  {
   "cell_type": "code",
   "execution_count": null,
   "metadata": {},
   "outputs": [],
   "source": [
    "first = search_result.hits[0]\n",
    "print('A matching dataset is \"{}\" with ID {}.\\nIt was made by {} at {}.'.format(\n",
    "    first.name, first.id, first.owner, first.updated_at))"
   ]
  },
  {
   "cell_type": "markdown",
   "metadata": {},
   "source": [
    "### Example: `get_datasets_by_owner`\n",
    "We will write and demonstrate a wrapper function takes in a `SearchClient` object and author name (`string`) and returns up to 1000 datasets created by that author. \n",
    "\n",
    "This example uses the `dataset_search()` method to obtain a list of datasets. It builds a [`FieldQuery`](http://citrineinformatics.github.io/python-citrination-client/modules/search/pif_query_core.html#module-citrination_client.search.pif.query.core.field_query) object to match against the owner's name."
   ]
  },
  {
   "cell_type": "code",
   "execution_count": null,
   "metadata": {},
   "outputs": [],
   "source": [
    "def get_datasets_by_owner(client, owner_name):\n",
    "    owner_query = FieldQuery(filter=Filter(equal=owner_name))\n",
    "    dataset_query = DatasetQuery(owner=owner_query)\n",
    "    query = DataQuery(dataset=dataset_query)\n",
    "    datasets = client.dataset_search(DatasetReturningQuery(query=query, size=1000))\n",
    "    return datasets\n",
    "\n",
    "owner = 'Enze Chen' # You can change the name here\n",
    "print('{} has {} datasets.'.format(owner, get_datasets_by_owner(search_client, owner).total_num_hits))"
   ]
  },
  {
   "cell_type": "markdown",
   "metadata": {},
   "source": [
    "## Conclusion\n",
    "\n",
    "[Back to ToC](#Table-of-contents)\n",
    "\n",
    "To recap, this notebook discussed how to search for data on Citrination using the `SearchClient`. The topics covered included:\n",
    "* How to properly initialize the SearchClient.\n",
    "* How to construct PIF queries.\n",
    "* How to construct Data queries.\n",
    "* How to Filter for values."
   ]
  },
  {
   "cell_type": "markdown",
   "metadata": {},
   "source": [
    "## Additional resources\n",
    "\n",
    "[Back to ToC](#Table-of-contents)\n",
    "\n",
    "Some other topics that might interest you include:\n",
    "* Other examples on [learn-citrination](https://github.com/CitrineInformatics/learn-citrination), including [Intro](../tutorial_sequence/3_IntroQueries.ipynb) and [Advanced](../tutorial_sequence/AdvancedQueries.ipynb) queries.\n",
    "* [DataClient](http://citrineinformatics.github.io/python-citrination-client/tutorial/data_examples.html) - This allows you to create datasets and upload PIF data (only) using the API.\n",
    "  * There is also a corresponding [tutorial](1_data_client_api_tutorial.ipynb)."
   ]
  }
 ],
 "metadata": {
  "kernelspec": {
   "display_name": "Python 3",
   "language": "python",
   "name": "python3"
  },
  "language_info": {
   "codemirror_mode": {
    "name": "ipython",
    "version": 3
   },
   "file_extension": ".py",
   "mimetype": "text/x-python",
   "name": "python",
   "nbconvert_exporter": "python",
   "pygments_lexer": "ipython3",
   "version": "3.7.2"
  }
 },
 "nbformat": 4,
 "nbformat_minor": 2
}
