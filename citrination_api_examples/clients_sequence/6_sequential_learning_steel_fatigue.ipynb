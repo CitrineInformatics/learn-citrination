{
 "cells": [
  {
   "cell_type": "markdown",
   "metadata": {},
   "source": [
    "![logo](https://github.com/CitrineInformatics/community-tools/blob/master/templates/fig/citrine_banner_2.png?raw=true)\n",
    "<link href=\"https://fonts.googleapis.com/css?family=Barlow+Semi+Condensed|Lusitana\" rel=\"stylesheet\">\n"
   ]
  },
  {
   "cell_type": "markdown",
   "metadata": {},
   "source": [
    "# Sequential Learning Workshop\n",
    "*Authors: Edward Kim, Enze Chen, Nils Persson*\n",
    "\n",
    "In this notebook, we will cover how to perform **sequential learning** (SL) using the [Citrination API](http://citrineinformatics.github.io/python-citrination-client/). [Sequential learning](https://citrine.io/platform/sequential-learning/) is the key workflow which allows machine learning algorithms and in-lab experiments to iteratively inform each other.\n",
    "\n",
    "To replace the need for an actual laboratory or simulation, this demo uses an existing dataset from the Open Citrination platform, with measurements of *steel fatigue strength across 437 experiments spanning 23 processing and formulation variables*. \n",
    "\n",
    "To simulate this experiment, we will redact the output measurement (Fatigue Strength) from all but 25 random experiments from the bottom quartile of performance. Each new experiment will be selected from the list of 412 other \"unmeasured\" points using the Citrination platform's design algorithm, with the goal of *maximizing Fatigue Strength*."
   ]
  },
  {
   "cell_type": "markdown",
   "metadata": {},
   "source": [
    "## Table of contents<a name=\"toc\"></a>\n",
    "1. [Setup](#1)\n",
    "1. [Get Training Data](#2)\n",
    "1. [Initial Measurements](#3)\n",
    "1. [Run Sequential Learning](#4)\n",
    "    1. [Design](#4.1)\n",
    "    1. [Measure (and re-train)](#4.2)\n",
    "    1. [Repeat](#4.3)\n",
    "1. [Conclusion](#5)"
   ]
  },
  {
   "cell_type": "markdown",
   "metadata": {},
   "source": [
    "## 1. Setup<a name=\"1\"></a>\n",
    "---\n",
    "[Back to TOC](#toc)\n",
    "\n",
    "This notebook uses some convenience functions to wrap several API endpoints. These are contained in the file `sequential_learning_wrappers_class.py` and imported below. Review the docstrings and code in that file to learn more."
   ]
  },
  {
   "cell_type": "code",
   "execution_count": null,
   "metadata": {},
   "outputs": [],
   "source": [
    "# IPython magic settings\n",
    "%matplotlib inline\n",
    "%load_ext autoreload\n",
    "%autoreload 2\n",
    "\n",
    "# Third-party packages\n",
    "from steel_fatigue_wrapper_class import *   # Helper functions to wrap several API endpoints together"
   ]
  },
  {
   "cell_type": "markdown",
   "metadata": {},
   "source": [
    "### Initialize the CitrinationClient\n",
    "\n",
    "Initializing a `CitrinationClient` requires two arguments, `api_key` and `site`.\n",
    "\n",
    "If the following cell runs successfully, you will see `Client created successfully!`"
   ]
  },
  {
   "cell_type": "code",
   "execution_count": null,
   "metadata": {},
   "outputs": [],
   "source": [
    "# Initialize the CitrinationClient with your API key and deployment\n",
    "site = \"https://citrination.com\"\n",
    "client = CitrinationClient(api_key=os.environ.get('CITRINATION_API_KEY'),\n",
    "                           site=site)\n",
    "verify_client(client)"
   ]
  },
  {
   "cell_type": "markdown",
   "metadata": {},
   "source": [
    "## 2. Get Training Data<a name=\"2\"></a>\n",
    "---\n",
    "[Back to TOC](#toc)\n",
    "\n",
    "Since we don't have access to an actual experiment or simulation, we will use data from an existing public dataset on steel fatigue."
   ]
  },
  {
   "cell_type": "code",
   "execution_count": null,
   "metadata": {},
   "outputs": [],
   "source": [
    "pd.set_option('display.max_columns', 500)\n",
    "orig_dataset_id = 150670    \n",
    "df_steel = get_steel_dataset(client, orig_dataset_id)\n",
    "ordered_cols = df_steel.columns.to_list()\n",
    "print(\"{} entries spanning {} dimensions.\".format(df_steel.shape[0], df_steel.shape[1]-5))\n",
    "df_steel.sample(4)"
   ]
  },
  {
   "cell_type": "markdown",
   "metadata": {},
   "source": [
    "### Plot histogram of Fatigue Strength values"
   ]
  },
  {
   "cell_type": "code",
   "execution_count": null,
   "metadata": {},
   "outputs": [],
   "source": [
    "plt.rcParams.update({'figure.figsize':(8, 7), 'font.size':14, 'lines.markersize':8})\n",
    "df_steel['Fatigue Strength'].hist(bins=20)\n",
    "plt.xlabel('Fatigue Strength (MPa)')\n",
    "plt.ylabel('Number of Entries')\n",
    "plt.show()"
   ]
  },
  {
   "cell_type": "markdown",
   "metadata": {},
   "source": [
    "### Analyze simple statistics"
   ]
  },
  {
   "cell_type": "code",
   "execution_count": null,
   "metadata": {},
   "outputs": [],
   "source": [
    "df_steel['Fatigue Strength'].describe()"
   ]
  },
  {
   "cell_type": "markdown",
   "metadata": {},
   "source": [
    "### Generate Training Set\n",
    "\n",
    "We will select 25 points from the bottom 25% of the dataset (in terms of Fatigue Strength) to simulate an initial experimental design space. We will have access to the Fatigue Strength of these 25 training points, but it will be redacted from the remaining 412. Thus, our initial model will be constructed on these below-average candidates.\n",
    "\n",
    "To \"measure\" a new candidate, we simply look up its Fatigue Strength from the original dataset. This process (the splitting and the \"measurement\") uses the functionality of our `SearchClient` under the hood."
   ]
  },
  {
   "cell_type": "code",
   "execution_count": null,
   "metadata": {},
   "outputs": [],
   "source": [
    "# Set a cutoff value for Fatigue Strength\n",
    "target_col = 'Fatigue Strength'\n",
    "target_max = np.percentile(df_steel['Fatigue Strength'], 25) # 50th percentile of fatigue strength\n",
    "\n",
    "# Split and redact original dataset\n",
    "all_pifs = split_dataset(client,\n",
    "                         orig_dataset_id,\n",
    "                         target_col,\n",
    "                         target_max,\n",
    "                         num_train=25)"
   ]
  },
  {
   "cell_type": "markdown",
   "metadata": {},
   "source": [
    "## 3. Initial Measurements<a name=\"3\"></a>\n",
    "---\n",
    "[Back to TOC](#toc)\n",
    "\n",
    "We'll now write our initial training data to a JSON file and upload it to Citrination using our `client`. This involves creating a new Dataset, then defining a DataView to run predict and design services.\n",
    "\n",
    "**Start from here if you want to start-over an SL run**."
   ]
  },
  {
   "cell_type": "code",
   "execution_count": null,
   "metadata": {},
   "outputs": [],
   "source": [
    "random_string = str(uuid4())[:6]\n",
    "meas_dataset_name = \"SL_demo_dataset_{}\".format(random_string)\n",
    "\n",
    "# Write to file\n",
    "if not os.path.exists('temp'):\n",
    "    os.makedirs('temp')\n",
    "dataset_file = os.path.join(\"temp\", meas_dataset_name+\".json\")\n",
    "with open(dataset_file, \"w\") as f:\n",
    "    f.write(pif.dumps(all_pifs, indent=4))\n",
    "\n",
    "# Upload to Citrination\n",
    "dataset_id = upload_data_and_get_id(client,\n",
    "                                    meas_dataset_name,\n",
    "                                    dataset_file,\n",
    "                                    create_new_version=True)\n",
    "\n",
    "print(\"Dataset created: {}/datasets/{}\".format(site, dataset_id))\n",
    "print('The name is \"{}.\"'.format(meas_dataset_name))"
   ]
  },
  {
   "cell_type": "markdown",
   "metadata": {},
   "source": [
    "### Create a DataView\n",
    "\n",
    "We now create a DataView to model our initial training data and run design services. We will select the `chemical formula` and the processing variables as inputs, and set the `Fatigue Strength` as an output."
   ]
  },
  {
   "cell_type": "code",
   "execution_count": null,
   "metadata": {},
   "outputs": [],
   "source": [
    "search_template_client = client.data_views.search_template_client\n",
    "avail_cols = search_template_client.get_available_columns(dataset_id)\n",
    "\n",
    "excluded_cols = \\\n",
    "    [col for col in avail_cols if ('Area Proportion' in col\n",
    "                                   or 'Reduction Ratio' in col\n",
    "                                   or 'composition' in col\n",
    "                                   or 'Fatigue Strength' in col\n",
    "                                   or 'Sample Number' in col)]\n",
    "\n",
    "input_cols = [col for col in avail_cols if col not in excluded_cols]\n",
    "\n",
    "print('Inputs:\\n{}'.format(input_cols))"
   ]
  },
  {
   "cell_type": "code",
   "execution_count": null,
   "metadata": {},
   "outputs": [],
   "source": [
    "# Make a data view on Citrination, return/print the ID\n",
    "\n",
    "view_name = \"SL_demo_view_{}\".format(random_string)\n",
    "\n",
    "view_id = build_view_and_get_id(client,\n",
    "                                dataset_id,\n",
    "                                view_name,\n",
    "                                view_desc='DataView for SL demo for Fatigue Strength.',\n",
    "                                input_keys=input_cols,\n",
    "                                output_keys=['Property Fatigue Strength',\n",
    "                                             'Property Sample Number'],\n",
    "                                model_type='default')\n",
    "\n",
    "print(\"Data view created: {}/data_views/{}\".format(site, view_id))\n",
    "print('The name is \"{}.\"'.format(view_name))"
   ]
  },
  {
   "cell_type": "markdown",
   "metadata": {},
   "source": [
    "While model training proceeds, we can explore the DataView we just created."
   ]
  },
  {
   "cell_type": "markdown",
   "metadata": {},
   "source": [
    "## 4. Run Sequential Learning<a name=\"4\"></a>\n",
    "---\n",
    "[Back to TOC](#toc)\n",
    "\n",
    "We're now ready to run sequential learning (SL). SL consists of three main phases:\n",
    "\n",
    "- **design**: generate new candidates to test in the lab (or *in silico*)\n",
    "- **measure**: test those new candidates and add the results to your dataset\n",
    "- **retrain**: re-train the machine learning model using the new measurements\n",
    "- **repeat**\n",
    "\n",
    "That's really all there is to it! We will manage the entire sequential learning process through an object called an `SL_run`, which has methods (`.design()` and `.measure()`) to run each of these steps. Let's instantiate one of those right now."
   ]
  },
  {
   "cell_type": "code",
   "execution_count": null,
   "metadata": {},
   "outputs": [],
   "source": [
    "meas_cols = ordered_cols+['iter']\n",
    "SLR = SL_run(client=client,\n",
    "    view_id=str(view_id),\n",
    "    dataset_id=str(dataset_id),\n",
    "    orig_dataset_id=orig_dataset_id,\n",
    "    all_dataset_cols=meas_cols,\n",
    "    target=[\"Property Fatigue Strength\", \"Max\"],\n",
    "    score_type=\"MLI\",\n",
    "    sampler='This view')\n",
    "\n",
    "SLR.measurements[meas_cols].head(3)"
   ]
  },
  {
   "cell_type": "markdown",
   "metadata": {},
   "source": [
    "### 4.1 Design<a name=\"4.1\"></a>"
   ]
  },
  {
   "cell_type": "code",
   "execution_count": null,
   "metadata": {
    "scrolled": true
   },
   "outputs": [],
   "source": [
    "design_effort = 10 # An integer between 1 and 30\n",
    "SLR.design(design_effort=design_effort)\n",
    "cand_cols = input_cols + ['Property Fatigue Strength', \n",
    "                          'Uncertainty in Property Fatigue Strength', \n",
    "                          'citrine_score']\n",
    "SLR.candidates[cand_cols]"
   ]
  },
  {
   "cell_type": "markdown",
   "metadata": {},
   "source": [
    "### 4.2 Measure (and re-train)<a name=\"4.2\"></a>"
   ]
  },
  {
   "cell_type": "code",
   "execution_count": null,
   "metadata": {},
   "outputs": [],
   "source": [
    "SLR.measure()\n",
    "SLR.measurements[meas_cols].tail(3)"
   ]
  },
  {
   "cell_type": "markdown",
   "metadata": {},
   "source": [
    "### 4.3 Repeat<a name=\"4.3\"></a>\n",
    "---\n",
    "[Back to TOC](#toc)\n",
    "\n",
    "From here on out, we can repeat this process as much as we want (and ultimately run until in converges to a specified tolerance). This basically consists of `.design()` and `.measure()` cycles. To wrap things up, we'll run a loop of a few more iterations."
   ]
  },
  {
   "cell_type": "code",
   "execution_count": null,
   "metadata": {
    "scrolled": false
   },
   "outputs": [],
   "source": [
    "repeat_iters = 6\n",
    "for i in range(repeat_iters):\n",
    "    SLR.design(design_effort=design_effort)\n",
    "    SLR.measure()\n",
    "    SLR.plot_sl_results();"
   ]
  },
  {
   "cell_type": "code",
   "execution_count": null,
   "metadata": {},
   "outputs": [],
   "source": [
    "# Inspect the new data in a DataFrame\n",
    "SLR.measurements[meas_cols].tail(repeat_iters+3)"
   ]
  },
  {
   "cell_type": "markdown",
   "metadata": {},
   "source": [
    "## Conclusion<a name=\"5\"></a>\n",
    "---\n",
    "[Back to ToC](#toc)\n",
    "\n",
    "After running this demo, you should have a sense for the steps involved in a sequential learning cycle, namely that it consists of **design** and **measure** phases. Design is run on the Citrination platform by training a model to fit your existing data, and returns candidates to measure. Measure is the phase where you (the experimentalist or computationalist) go and run your experiment!\n",
    "\n",
    "A few key takeaways from this demo:\n",
    "* Building a model on Citrination is as easy as defining inputs, outputs, and latent variables.\n",
    "* Design runs return candidates based on predicted output *and* uncertainty.\n",
    "* Well-calibrated prediction uncertainties are vital to this process."
   ]
  }
 ],
 "metadata": {
  "kernelspec": {
   "display_name": "Python 3",
   "language": "python",
   "name": "python3"
  },
  "language_info": {
   "codemirror_mode": {
    "name": "ipython",
    "version": 3
   },
   "file_extension": ".py",
   "mimetype": "text/x-python",
   "name": "python",
   "nbconvert_exporter": "python",
   "pygments_lexer": "ipython3",
   "version": "3.7.2"
  }
 },
 "nbformat": 4,
 "nbformat_minor": 2
}
