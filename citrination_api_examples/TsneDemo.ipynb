{
 "cells": [
  {
   "cell_type": "markdown",
   "metadata": {},
   "source": [
    "![Banner logo](https://raw.githubusercontent.com/CitrineInformatics/community-tools/master/templates/fig/citrine_banner_2.png)"
   ]
  },
  {
   "cell_type": "markdown",
   "metadata": {},
   "source": [
    "# Citrination t-SNE API\n",
    "\n",
    "*Authors: Erin Antono, Enze Chen*\n",
    "\n",
    "In this tutorial, we're going to learn to use Citrination to generate a useful data analysis called t-SNE. This data visualization technique enables you to represent a high dimensional set of data in fewer dimensions in a way that preserves the local structure of the data. In materials informatics, this allows you to create a two-dimensional plot of a set of materials where points corresponding to similar materials are grouped together in two-dimensional space. More information on t-SNE here: https://lvdmaaten.github.io/tsne/"
   ]
  },
  {
   "cell_type": "markdown",
   "metadata": {},
   "source": [
    "This tutorial will teach you to create and export a two-dimensional t-SNE plot for any data on Citrination. The first step is to create a [data view on Citrination](https://citrination.com/data_views). We have instructions for doing so through the [UI](../citrination_ui_examples/03_data_views.md) and [API](clients_sequence/2_data_views_client_api_tutorial.ipynb).\n",
    "\n",
    "We'll be using [this data view](https://citrination.com/data_views/4106) (view id `4106`) for this tutorial, which includes a model predicting experimental band gaps based on data compiled by W.H. Strehlow and E.L. Cook, which can be viewed in [this dataset](https://citrination.com/datasets/1160/show_search)."
   ]
  },
  {
   "cell_type": "markdown",
   "metadata": {},
   "source": [
    "## Python package imports"
   ]
  },
  {
   "cell_type": "code",
   "execution_count": 1,
   "metadata": {},
   "outputs": [],
   "source": [
    "# Standard packages\n",
    "import os\n",
    "\n",
    "# Third-party packages\n",
    "from IPython.display import display, HTML\n",
    "import numpy as np\n",
    "import pandas as pd\n",
    "import matplotlib.pyplot as plt\n",
    "%matplotlib inline\n",
    "\n",
    "from citrination_client import CitrinationClient"
   ]
  },
  {
   "cell_type": "markdown",
   "metadata": {},
   "source": [
    "## Get the t-SNE projections"
   ]
  },
  {
   "cell_type": "code",
   "execution_count": 2,
   "metadata": {},
   "outputs": [
    {
     "name": "stdout",
     "output_type": "stream",
     "text": [
      "dict_keys(['Property Color', 'Property Band gap'])\n"
     ]
    }
   ],
   "source": [
    "# Initialize the CitrinationClient \n",
    "client = CitrinationClient(\n",
    "    api_key=os.environ[\"CITRINATION_API_KEY\"],\n",
    "    site=\"https://citrination.com\" # public\n",
    ")\n",
    "\n",
    "tsne_view_id = \"4106\"\n",
    "tsne = client.models.tsne(tsne_view_id)\n",
    "\n",
    "print(tsne.projections())"
   ]
  },
  {
   "cell_type": "markdown",
   "metadata": {},
   "source": [
    "The `tsne` call returns a dictionary where the top level keys correspond to the properties that are being modeled. In this data view, the model inputs are `Chemical formula` and `Crystallinity`. Citrination represents a chemical formula by calculating over 50 material descriptors. The t-SNE plot reduces that into just 2 dimensions. Let's look at the t-SNE plot for `Band gap`."
   ]
  },
  {
   "cell_type": "code",
   "execution_count": 3,
   "metadata": {},
   "outputs": [
    {
     "data": {
      "text/plain": [
       "['responses', 'tags', 'uids', 'xs', 'ys']"
      ]
     },
     "execution_count": 3,
     "metadata": {},
     "output_type": "execute_result"
    }
   ],
   "source": [
    "[x for x in dir(tsne.get_projection(\"Property Band gap\")) if not x.startswith('_')]"
   ]
  },
  {
   "cell_type": "markdown",
   "metadata": {},
   "source": [
    "- `x` is the x component of the t-SNE plot\n",
    "- `y` is the y component of the t-SNE plot\n",
    "- `z` is the property value (Band gap in this example)\n",
    "- `uid` is the uid of the record on Citrination. You can find the record by going to https://citrination.com/pif/{uid}\n",
    "- `label` is the list of the values of the model inputs for the record"
   ]
  },
  {
   "cell_type": "markdown",
   "metadata": {},
   "source": [
    "## Plot the t-SNE projection"
   ]
  },
  {
   "cell_type": "code",
   "execution_count": 4,
   "metadata": {},
   "outputs": [
    {
     "data": {
      "image/png": "[encoded data removed]",
      "text/plain": [
       "<Figure size 540x360 with 2 Axes>"
      ]
     },
     "metadata": {
      "needs_background": "light"
     },
     "output_type": "display_data"
    }
   ],
   "source": [
    "gap_projection = tsne.get_projection(\"Property Band gap\")\n",
    "\n",
    "#plot results\n",
    "fig = plt.figure(dpi=90)\n",
    "ax = fig.subplots()\n",
    "\n",
    "plot = ax.scatter(gap_projection.xs, gap_projection.ys, c=gap_projection.responses)\n",
    "plt.colorbar(plot, label=\"Band gap (eV)\")\n",
    "\n",
    "#image formatting\n",
    "ax.tick_params(direction='in', pad=5)\n",
    "ax.set_xlabel(\"t-SNE Component 1\")\n",
    "ax.set_ylabel(\"t-SNE Component 2\")\n",
    "\n",
    "plt.show()"
   ]
  },
  {
   "cell_type": "markdown",
   "metadata": {},
   "source": [
    "When interpreting a t-SNE plot, keep in mind that the t-SNE components plotted on the $x$ and $y$ axes have no physical meaning. Since the t-SNE algorithm preserves the local structure of the data, we look at points that end up close together. Just from looking at the plot, we can see that there are a few clusters of materials; let's take a look at what those materials are.\n",
    "\n",
    "(Note: t-SNE is a non-deterministic algorithm, so the plot will change if the underlying Data View is retrained)"
   ]
  },
  {
   "cell_type": "markdown",
   "metadata": {},
   "source": [
    "## Inspect candidates of interest more closely"
   ]
  },
  {
   "cell_type": "code",
   "execution_count": 5,
   "metadata": {},
   "outputs": [],
   "source": [
    "# Load the coordinates and band gap values into a numpy array\n",
    "coordinates_and_bg = np.array(\n",
    "    [gap_projection.xs, gap_projection.ys, gap_projection.responses]\n",
    "    ).transpose()"
   ]
  },
  {
   "cell_type": "code",
   "execution_count": 6,
   "metadata": {},
   "outputs": [],
   "source": [
    "# Find the n materials closest to the target material, as specified by index\n",
    "# based on cartesian distance in the t-SNE coordinates\n",
    "def find_most_similar_materials(index, coordinates, n_materials=10):\n",
    "    distances = np.linalg.norm(coordinates_and_bg[:,0:2] - coordinates_and_bg[index,0:2], axis=1)\n",
    "    return np.argsort(distances)[1:n_materials+1]"
   ]
  },
  {
   "cell_type": "markdown",
   "metadata": {},
   "source": [
    "From inspecting this cluster of materials, we can see that the t-SNE plot has grouped highly ionic materials together, and that these materials have very high band gaps."
   ]
  },
  {
   "cell_type": "code",
   "execution_count": 7,
   "metadata": {},
   "outputs": [
    {
     "data": {
      "text/html": [
       "<table border=\"1\" class=\"dataframe\">\n",
       "  <thead>\n",
       "    <tr style=\"text-align: right;\">\n",
       "      <th></th>\n",
       "      <th>Material</th>\n",
       "      <th>Band Gap</th>\n",
       "      <th>URL</th>\n",
       "    </tr>\n",
       "  </thead>\n",
       "  <tbody>\n",
       "    <tr>\n",
       "      <th>Max</th>\n",
       "      <td>Yellow, Single crystalline, 12.0, InorganicChemicalFormula(LiF)</td>\n",
       "      <td>12.0</td>\n",
       "      <td><a target=\"_blank\" href=\"https://citrination.com/pif/1160/3/C6735F604282CD9A0BE759EDEA44E761\">link</a></td>\n",
       "    </tr>\n",
       "  </tbody>\n",
       "</table>"
      ],
      "text/plain": [
       "<IPython.core.display.HTML object>"
      ]
     },
     "metadata": {},
     "output_type": "display_data"
    },
    {
     "data": {
      "text/html": [
       "<table border=\"1\" class=\"dataframe\">\n",
       "  <thead>\n",
       "    <tr style=\"text-align: right;\">\n",
       "      <th></th>\n",
       "      <th>Material</th>\n",
       "      <th>Band Gap</th>\n",
       "      <th>URL</th>\n",
       "    </tr>\n",
       "  </thead>\n",
       "  <tbody>\n",
       "    <tr>\n",
       "      <th>0</th>\n",
       "      <td>10.5, InorganicChemicalFormula(NaF)</td>\n",
       "      <td>10.50</td>\n",
       "      <td><a target=\"_blank\" href=\"https://citrination.com/pif/1160/3/AFEFAAA91C3CB1155E05CD9C979A3FA4\">link</a></td>\n",
       "    </tr>\n",
       "    <tr>\n",
       "      <th>1</th>\n",
       "      <td>Yellow, Single crystalline, 10.0, InorganicChemicalFormula(CaF2)</td>\n",
       "      <td>10.00</td>\n",
       "      <td><a target=\"_blank\" href=\"https://citrination.com/pif/1160/3/012C3CF2A38EE5F613B4FA2C559D2007\">link</a></td>\n",
       "    </tr>\n",
       "    <tr>\n",
       "      <th>2</th>\n",
       "      <td>Red, Single crystalline, 9.06, InorganicChemicalFormula(BaF2)</td>\n",
       "      <td>9.06</td>\n",
       "      <td><a target=\"_blank\" href=\"https://citrination.com/pif/1160/3/60124122C825682FAE018D72622D3701\">link</a></td>\n",
       "    </tr>\n",
       "    <tr>\n",
       "      <th>3</th>\n",
       "      <td>Yellow, Single crystalline, 11.8, InorganicChemicalFormula(MgF2)</td>\n",
       "      <td>11.80</td>\n",
       "      <td><a target=\"_blank\" href=\"https://citrination.com/pif/1160/3/74C903395084511B0816D4D7F952E5E4\">link</a></td>\n",
       "    </tr>\n",
       "    <tr>\n",
       "      <th>4</th>\n",
       "      <td>Yellow, Single crystalline, 10.3, InorganicChemicalFormula(KF)</td>\n",
       "      <td>10.30</td>\n",
       "      <td><a target=\"_blank\" href=\"https://citrination.com/pif/1160/3/8D80F1F0EEABE93F1CDD3C5E229B323A\">link</a></td>\n",
       "    </tr>\n",
       "    <tr>\n",
       "      <th>5</th>\n",
       "      <td>Red, Single crystalline, 6.6, InorganicChemicalFormula(LaF3)</td>\n",
       "      <td>6.60</td>\n",
       "      <td><a target=\"_blank\" href=\"https://citrination.com/pif/1160/3/8AA7BD5AC1AF7B34BC654F8D2C5C7294\">link</a></td>\n",
       "    </tr>\n",
       "    <tr>\n",
       "      <th>6</th>\n",
       "      <td>Red, Single crystalline, 10.4, InorganicChemicalFormula(RbF)</td>\n",
       "      <td>10.40</td>\n",
       "      <td><a target=\"_blank\" href=\"https://citrination.com/pif/1160/3/2BF12FAA8A7E708B77B669A60E90CEA2\">link</a></td>\n",
       "    </tr>\n",
       "    <tr>\n",
       "      <th>7</th>\n",
       "      <td>Red, Single crystalline, 6.0, InorganicChemicalFormula(CdF2)</td>\n",
       "      <td>6.00</td>\n",
       "      <td><a target=\"_blank\" href=\"https://citrination.com/pif/1160/3/4A3A18780D90C56A1F397D7D90806DF2\">link</a></td>\n",
       "    </tr>\n",
       "    <tr>\n",
       "      <th>8</th>\n",
       "      <td>Red, Polycrystalline, 5.3, InorganicChemicalFormula(PrF3)</td>\n",
       "      <td>5.30</td>\n",
       "      <td><a target=\"_blank\" href=\"https://citrination.com/pif/1160/3/308A130DBCD8DB5FF8BC3D48004ADD47\">link</a></td>\n",
       "    </tr>\n",
       "    <tr>\n",
       "      <th>9</th>\n",
       "      <td>Red, Polycrystalline, 10.0, InorganicChemicalFormula(CsF)</td>\n",
       "      <td>10.00</td>\n",
       "      <td><a target=\"_blank\" href=\"https://citrination.com/pif/1160/3/35CE9B7EE50ABD66791231297FCD389B\">link</a></td>\n",
       "    </tr>\n",
       "  </tbody>\n",
       "</table>"
      ],
      "text/plain": [
       "<IPython.core.display.HTML object>"
      ]
     },
     "metadata": {},
     "output_type": "display_data"
    },
    {
     "data": {
      "image/png": "[encoded data removed]",
      "text/plain": [
       "<Figure size 540x360 with 2 Axes>"
      ]
     },
     "metadata": {
      "needs_background": "light"
     },
     "output_type": "display_data"
    }
   ],
   "source": [
    "# Get the index of the maximum band gap material\n",
    "max_bg_index = np.argmax(coordinates_and_bg, axis=0)[2]\n",
    "\n",
    "max_bg_material = HTML(pd.DataFrame({\n",
    "    \"Material\":gap_projection.tags[max_bg_index],\n",
    "    \"Band Gap\": gap_projection.responses[max_bg_index],\n",
    "    \"URL\": '<a target=\"_blank\" href=\"https://citrination.com/pif/{}\">link</a>'.format(gap_projection.uids[max_bg_index])\n",
    "    }, index=[\"Max\"]).to_html(escape=False))\n",
    "\n",
    "display(max_bg_material)\n",
    "\n",
    "indexes = [idx for idx in find_most_similar_materials(max_bg_index, coordinates_and_bg[:,0:2])]\n",
    "\n",
    "similar_bg_materials = HTML(pd.DataFrame({\n",
    "    \"Material\": [gap_projection.tags[idx] for idx in indexes],\n",
    "    \"Band Gap\": [gap_projection.responses[idx] for idx in indexes],\n",
    "    \"URL\": ['<a target=\"_blank\" href=\"https://citrination.com/pif/{}\">link</a>'.format(gap_projection.uids[idx]) for idx in indexes]\n",
    "    }).to_html(escape=False))\n",
    "\n",
    "display(similar_bg_materials)\n",
    "\n",
    "#plot results\n",
    "fig = plt.figure(dpi=90)\n",
    "ax = fig.subplots()\n",
    "\n",
    "gap_projections = ax.scatter(gap_projection.xs, gap_projection.ys, c=gap_projection.responses)\n",
    "plt.colorbar(gap_projections, label=\"Band gap (eV)\")\n",
    "\n",
    "max_gap_projection = ax.scatter(coordinates_and_bg[max_bg_index, 0], coordinates_and_bg[max_bg_index, 1],\n",
    "            marker=\"*\", c=\"r\", s=120)\n",
    "\n",
    "#image formatting\n",
    "ax.tick_params(direction='in', pad=5)\n",
    "ax.set_xlabel(\"t-SNE Component 1\")\n",
    "ax.set_ylabel(\"t-SNE Component 2\")\n",
    "\n",
    "plt.show()"
   ]
  },
  {
   "cell_type": "markdown",
   "metadata": {},
   "source": [
    "Now let's figure out what material the outlier point with the largest y-value corresponds to"
   ]
  },
  {
   "cell_type": "code",
   "execution_count": 13,
   "metadata": {},
   "outputs": [
    {
     "data": {
      "text/html": [
       "<table border=\"1\" class=\"dataframe\">\n",
       "  <thead>\n",
       "    <tr style=\"text-align: right;\">\n",
       "      <th></th>\n",
       "      <th>Material</th>\n",
       "      <th>Band Gap</th>\n",
       "      <th>URL</th>\n",
       "    </tr>\n",
       "  </thead>\n",
       "  <tbody>\n",
       "    <tr>\n",
       "      <th>Outlier</th>\n",
       "      <td>Red, Single crystalline, 4.9, InorganicChemicalFormula(PrB6)</td>\n",
       "      <td>4.9</td>\n",
       "      <td><a target=\"_blank\" href=\"https://citrination.com/pif/1160/3/6EC5E6AEE17EA9C88C9F723E594BCC51\">link</a></td>\n",
       "    </tr>\n",
       "  </tbody>\n",
       "</table>"
      ],
      "text/plain": [
       "<IPython.core.display.HTML object>"
      ]
     },
     "metadata": {},
     "output_type": "display_data"
    },
    {
     "data": {
      "image/png": "[encoded data removed]",
      "text/plain": [
       "<Figure size 540x360 with 2 Axes>"
      ]
     },
     "metadata": {
      "needs_background": "light"
     },
     "output_type": "display_data"
    }
   ],
   "source": [
    "outlier_index = np.argmax(coordinates_and_bg, axis=0)[1]\n",
    "\n",
    "outlier_material = HTML(pd.DataFrame({\n",
    "    \"Material\":gap_projection.tags[outlier_index],\n",
    "    \"Band Gap\": gap_projection.responses[outlier_index],\n",
    "    \"URL\": '<a target=\"_blank\" href=\"https://citrination.com/pif/{}\">link</a>'.format(gap_projection.uids[outlier_index])\n",
    "    }, index=[\"Outlier\"]).to_html(escape=False))\n",
    "\n",
    "display(outlier_material)\n",
    "\n",
    "#plot results\n",
    "fig = plt.figure(dpi=90)\n",
    "ax = fig.subplots()\n",
    "\n",
    "gap_projections = ax.scatter(gap_projection.xs, gap_projection.ys, c=gap_projection.responses)\n",
    "plt.colorbar(gap_projections, label=\"Band gap (eV)\")\n",
    "outlier_y = ax.scatter(coordinates_and_bg[outlier_index, 0], coordinates_and_bg[outlier_index, 1],\n",
    "            marker=\"*\", c=\"r\", s=120)\n",
    "\n",
    "#image formatting\n",
    "ax.tick_params(direction='in', pad=5)\n",
    "ax.set_xlabel(\"t-SNE Component 1\")\n",
    "ax.set_ylabel(\"t-SNE Component 2\")\n",
    "\n",
    "plt.show()"
   ]
  },
  {
   "cell_type": "markdown",
   "metadata": {},
   "source": [
    "We can also find materials that are similar to a given material in the dataset. Let's find materials similar to HgSe https://citrination.com/datasets/1160/version/3/pif/F7DF9D76620C95CD45BD41881D96E174. The uid comes in the format dataset_id/version/pif_id. For HgSe, the uid is 1160/3/F7DF9D76620C95CD45BD41881D96E174."
   ]
  },
  {
   "cell_type": "code",
   "execution_count": 10,
   "metadata": {},
   "outputs": [
    {
     "data": {
      "text/html": [
       "<table border=\"1\" class=\"dataframe\">\n",
       "  <thead>\n",
       "    <tr style=\"text-align: right;\">\n",
       "      <th></th>\n",
       "      <th>Material</th>\n",
       "      <th>Band Gap</th>\n",
       "      <th>URL</th>\n",
       "    </tr>\n",
       "  </thead>\n",
       "  <tbody>\n",
       "    <tr>\n",
       "      <th>$HgSe$</th>\n",
       "      <td>Red, Single crystalline, 0.07, InorganicChemicalFormula(HgSe)</td>\n",
       "      <td>0.07</td>\n",
       "      <td><a target=\"_blank\" href=\"https://citrination.com/pif/1160/3/F7DF9D76620C95CD45BD41881D96E174\">link</a></td>\n",
       "    </tr>\n",
       "  </tbody>\n",
       "</table>"
      ],
      "text/plain": [
       "<IPython.core.display.HTML object>"
      ]
     },
     "metadata": {},
     "output_type": "display_data"
    },
    {
     "data": {
      "text/html": [
       "<table border=\"1\" class=\"dataframe\">\n",
       "  <thead>\n",
       "    <tr style=\"text-align: right;\">\n",
       "      <th></th>\n",
       "      <th>Material</th>\n",
       "      <th>Band Gap</th>\n",
       "      <th>URL</th>\n",
       "    </tr>\n",
       "  </thead>\n",
       "  <tbody>\n",
       "    <tr>\n",
       "      <th>0</th>\n",
       "      <td>Gray, Single crystalline, 0.175, InorganicChemicalFormula(HgTe)</td>\n",
       "      <td>0.175</td>\n",
       "      <td><a target=\"_blank\" href=\"https://citrination.com/pif/1160/3/16883CF938CD382E12574C2E0FDDC182\">link</a></td>\n",
       "    </tr>\n",
       "    <tr>\n",
       "      <th>1</th>\n",
       "      <td>Gray, Single crystalline, 1.517, InorganicChemicalFormula(CdTe)</td>\n",
       "      <td>1.517</td>\n",
       "      <td><a target=\"_blank\" href=\"https://citrination.com/pif/1160/3/8D585D668961368A8C3B8526DF620983\">link</a></td>\n",
       "    </tr>\n",
       "    <tr>\n",
       "      <th>2</th>\n",
       "      <td>Yellow, Single crystalline, 1.865, InorganicChemicalFormula(CdSe)</td>\n",
       "      <td>1.865</td>\n",
       "      <td><a target=\"_blank\" href=\"https://citrination.com/pif/1160/3/E78F09CB898E68C3F7C707F1154FFDFB\">link</a></td>\n",
       "    </tr>\n",
       "    <tr>\n",
       "      <th>3</th>\n",
       "      <td>Red, Single crystalline, 2.095, InorganicChemicalFormula(HgS)</td>\n",
       "      <td>2.095</td>\n",
       "      <td><a target=\"_blank\" href=\"https://citrination.com/pif/1160/3/6B281A0D9782A3BD8276344332D0C499\">link</a></td>\n",
       "    </tr>\n",
       "    <tr>\n",
       "      <th>4</th>\n",
       "      <td>Red, Single crystalline, 2.34, InorganicChemicalFormula(ZnTe)</td>\n",
       "      <td>2.340</td>\n",
       "      <td><a target=\"_blank\" href=\"https://citrination.com/pif/1160/3/3BC1CED2DC384C900EF85A2F7DEA4445\">link</a></td>\n",
       "    </tr>\n",
       "    <tr>\n",
       "      <th>5</th>\n",
       "      <td>Gray, Single crystalline, 0.428, InorganicChemicalFormula(CdSb)</td>\n",
       "      <td>0.428</td>\n",
       "      <td><a target=\"_blank\" href=\"https://citrination.com/pif/1160/3/D0F726AF3D431E40E7AA25052F679356\">link</a></td>\n",
       "    </tr>\n",
       "    <tr>\n",
       "      <th>6</th>\n",
       "      <td>Red, Single crystalline, 2.37, InorganicChemicalFormula(Hg2I2)</td>\n",
       "      <td>2.370</td>\n",
       "      <td><a target=\"_blank\" href=\"https://citrination.com/pif/1160/3/E685FF1FE347D6F620D15CBBA9F38C21\">link</a></td>\n",
       "    </tr>\n",
       "    <tr>\n",
       "      <th>7</th>\n",
       "      <td>Yellow, Single crystalline, 2.67, InorganicChemicalFormula(ZnSe)</td>\n",
       "      <td>2.670</td>\n",
       "      <td><a target=\"_blank\" href=\"https://citrination.com/pif/1160/3/F725DA6F5814FA1B7E8776151E5B6029\">link</a></td>\n",
       "    </tr>\n",
       "    <tr>\n",
       "      <th>8</th>\n",
       "      <td>Red, Single crystalline, 0.59, InorganicChemicalFormula(ZnSb)</td>\n",
       "      <td>0.590</td>\n",
       "      <td><a target=\"_blank\" href=\"https://citrination.com/pif/1160/3/AE32DF58624BB2A91E3C24A28FCE8270\">link</a></td>\n",
       "    </tr>\n",
       "    <tr>\n",
       "      <th>9</th>\n",
       "      <td>Red, Single crystalline, 2.6, InorganicChemicalFormula(Hg2Br2)</td>\n",
       "      <td>2.600</td>\n",
       "      <td><a target=\"_blank\" href=\"https://citrination.com/pif/1160/3/5985CF023AD6887DC30E5825E1BCC454\">link</a></td>\n",
       "    </tr>\n",
       "  </tbody>\n",
       "</table>"
      ],
      "text/plain": [
       "<IPython.core.display.HTML object>"
      ]
     },
     "metadata": {},
     "output_type": "display_data"
    },
    {
     "data": {
      "image/png": "[encoded data removed]",
      "text/plain": [
       "<Figure size 540x360 with 2 Axes>"
      ]
     },
     "metadata": {
      "needs_background": "light"
     },
     "output_type": "display_data"
    }
   ],
   "source": [
    "uid = '1160/3/F7DF9D76620C95CD45BD41881D96E174'\n",
    "HgSe_index = gap_projection.uids.index(uid)\n",
    "\n",
    "HgSe = HTML(pd.DataFrame({\n",
    "    \"Material\":gap_projection.tags[HgSe_index],\n",
    "    \"Band Gap\": gap_projection.responses[HgSe_index],\n",
    "    \"URL\": '<a target=\"_blank\" href=\"https://citrination.com/pif/{}\">link</a>'.format(gap_projection.uids[HgSe_index])\n",
    "    }, index=[\"$HgSe$\"]).to_html(escape=False))\n",
    "\n",
    "display(HgSe)\n",
    "\n",
    "indexes = [idx for idx in find_most_similar_materials(HgSe_index, coordinates_and_bg[:,0:2])]\n",
    "\n",
    "similar_materials = HTML(pd.DataFrame({\n",
    "    \"Material\": [gap_projection.tags[idx] for idx in indexes],\n",
    "    \"Band Gap\": [gap_projection.responses[idx] for idx in indexes],\n",
    "    \"URL\": ['<a target=\"_blank\" href=\"https://citrination.com/pif/{}\">link</a>'.format(gap_projection.uids[idx]) for idx in indexes]\n",
    "    }).to_html(escape=False))\n",
    "\n",
    "display(similar_materials)\n",
    "\n",
    "#plot results\n",
    "fig = plt.figure(dpi=90)\n",
    "ax = fig.subplots()\n",
    "\n",
    "gap_projections = ax.scatter(gap_projection.xs, gap_projection.ys, c=gap_projection.responses)\n",
    "plt.colorbar(gap_projections, label=\"Band gap (eV)\")\n",
    "cr3se4_plot = ax.scatter(coordinates_and_bg[HgSe_index, 0], coordinates_and_bg[HgSe_index, 1],\n",
    "            marker=\"*\", c=\"r\", s=120)\n",
    "\n",
    "#image formatting\n",
    "ax.tick_params(direction='in', pad=5)\n",
    "ax.set_xlabel(\"t-SNE Component 1\")\n",
    "ax.set_ylabel(\"t-SNE Component 2\")\n",
    "\n",
    "plt.show()"
   ]
  },
  {
   "cell_type": "markdown",
   "metadata": {},
   "source": [
    "As we've seen here, t-SNE is a useful tool for understanding materials datasets and gaining new insights by visualizing and exploring a large, high-dimensional dataset in two dimensions. In this tutorial, we've seen how to examine outliers, find interesting clusters of similar materials, and find materials that are similar to a given material, which are only some of the cool things that you can do with t-SNE plots. The t-SNE analysis is available for all real-valued outputs specified in the Data Views creation process."
   ]
  },
  {
   "cell_type": "code",
   "execution_count": null,
   "metadata": {},
   "outputs": [],
   "source": []
  }
 ],
 "metadata": {
  "kernelspec": {
   "display_name": "Python 3",
   "language": "python",
   "name": "python3"
  },
  "language_info": {
   "codemirror_mode": {
    "name": "ipython",
    "version": 3
   },
   "file_extension": ".py",
   "mimetype": "text/x-python",
   "name": "python",
   "nbconvert_exporter": "python",
   "pygments_lexer": "ipython3",
   "version": "3.7.4"
  }
 },
 "nbformat": 4,
 "nbformat_minor": 2
}
