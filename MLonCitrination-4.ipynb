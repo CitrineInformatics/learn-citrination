{
 "cells": [
  {
   "cell_type": "code",
   "execution_count": 1,
   "metadata": {
    "slideshow": {
     "slide_type": "skip"
    }
   },
   "outputs": [],
   "source": [
    "from citrination_client import CitrinationClient\n",
    "from os import environ\n",
    "from pypif import pif\n",
    "\n",
    "\n",
    "from citrination_client import PifSystemQuery, PifSystemReturningQuery\n",
    "from citrination_client import FieldQuery, ValueQuery, NameQuery\n",
    "from citrination_client import PropertyQuery,DataQuery, DatasetQuery, ChemicalFieldQuery, Filter\n",
    "\n",
    "client = CitrinationClient(environ['CITRINATION_API_KEY'], 'https://citrination.com')"
   ]
  },
  {
   "cell_type": "markdown",
   "metadata": {
    "slideshow": {
     "slide_type": "slide"
    }
   },
   "source": [
    "# Machine learning on Citrination\n",
    "\n",
    "Citrination will automagically generate machine learning models when given sufficient meta-data:\n",
    " 1. A list of records (pifs)\n",
    " 1. Identification of columns as inputs or outputs\n",
    " 1. [Implicit] consistency of unlisted conditions"
   ]
  },
  {
   "cell_type": "markdown",
   "metadata": {
    "slideshow": {
     "slide_type": "subslide"
    }
   },
   "source": [
    "## CSV to Models\n",
    "\n",
    "User-defined machine learning is exposed via \"data views\":\n",
    " 1. Put data into a CSV\n",
    " 1. Upload as a dataset\n",
    " 1. Include in a view\n",
    " 1. ...\n",
    " 1. Models!\n",
    " \n",
    "In this tutorial, we'll generate a valid CSV from a query.  You can also use any CSV you might have laying around."
   ]
  },
  {
   "cell_type": "markdown",
   "metadata": {
    "slideshow": {
     "slide_type": "slide"
    }
   },
   "source": [
    "## Example: density from MaterialsProject\n",
    "\n",
    "We'll train a model from chemical formula to density using [data](https://citrination.com/search/simple?property=density&includedDatasets=150675) from the [materials project](https://materialsproject.org/)."
   ]
  },
  {
   "cell_type": "markdown",
   "metadata": {
    "slideshow": {
     "slide_type": "subslide"
    }
   },
   "source": [
    "Let's start with a simple query for the density that extracts it along with the formula"
   ]
  },
  {
   "cell_type": "code",
   "execution_count": 2,
   "metadata": {
    "slideshow": {
     "slide_type": "fragment"
    }
   },
   "outputs": [],
   "source": [
    "system_query=PifSystemQuery(\n",
    "                chemical_formula=ChemicalFieldQuery(\n",
    "                    extract_as=\"formula\"\n",
    "                ),\n",
    "                properties=PropertyQuery(\n",
    "                    name=FieldQuery(\n",
    "                        filter=[Filter(equal=\"Density\")]\n",
    "                    ),\n",
    "                    value=FieldQuery(\n",
    "                        extract_as=\"density\",\n",
    "                        extract_all=True)\n",
    "                    )\n",
    "                )"
   ]
  },
  {
   "cell_type": "markdown",
   "metadata": {
    "slideshow": {
     "slide_type": "subslide"
    }
   },
   "source": [
    "Material's project is big, so we'll just pull out 500 records for now.  If we don't draw them randomly, they'll all be `Al` and `As` and `Cs`."
   ]
  },
  {
   "cell_type": "code",
   "execution_count": 3,
   "metadata": {
    "slideshow": {
     "slide_type": "fragment"
    }
   },
   "outputs": [],
   "source": [
    "dataset_id = '150675'\n",
    "\n",
    "test_query = PifSystemReturningQuery(\n",
    "                size=500,\n",
    "                random_results=True,\n",
    "                query=DataQuery(\n",
    "                    dataset=DatasetQuery(\n",
    "                        id=[Filter(equal='150675')]\n",
    "                    ),\n",
    "                    system=system_query\n",
    "                ))"
   ]
  },
  {
   "cell_type": "markdown",
   "metadata": {
    "slideshow": {
     "slide_type": "subslide"
    }
   },
   "source": [
    "Let's see what we've got:"
   ]
  },
  {
   "cell_type": "code",
   "execution_count": 6,
   "metadata": {
    "scrolled": true,
    "slideshow": {
     "slide_type": "fragment"
    }
   },
   "outputs": [
    {
     "name": "stdout",
     "output_type": "stream",
     "text": [
      "We found 500 records\n",
      "[{'density': ['6.741920951056403'], 'formula': 'W25O73'}, {'density': ['4.035981296421682'], 'formula': 'Li4VCr3O8'}]\n"
     ]
    }
   ],
   "source": [
    "search_result = client.search.pif_search(test_query)\n",
    "print(\"We found {} records\".format(len(search_result.hits)))\n",
    "print([x.extracted for x in search_result.hits[0:2]])"
   ]
  },
  {
   "cell_type": "markdown",
   "metadata": {
    "slideshow": {
     "slide_type": "subslide"
    }
   },
   "source": [
    "Now we just need to format in a CSV. The csv needs headers that conform to our [CSV template](http://help.citrination.com/knowledgebase/articles/1188136-citrine-template-csv-csv)."
   ]
  },
  {
   "cell_type": "code",
   "execution_count": 7,
   "metadata": {
    "slideshow": {
     "slide_type": "fragment"
    }
   },
   "outputs": [],
   "source": [
    "def write_csv(name, rows):\n",
    "    with open(name, \"w\") as f:\n",
    "        f.write(\"FORMULA, PROPERTY: Density\\n\")\n",
    "        for row in rows:\n",
    "            f.write(\"{}, {}\\n\".format(row.get('formula'), row.get('density')))\n",
    "            \n",
    "write_csv('density.csv', [x.extracted for x in search_result.hits])"
   ]
  },
  {
   "cell_type": "markdown",
   "metadata": {
    "slideshow": {
     "slide_type": "fragment"
    }
   },
   "source": [
    "Upload that csv to the [new dataset page](https://citrination.com/datasets/new), making sure to use the `Citrine: Template CSV` from the dropdown menu, which will create a dataset of records with the chemical formula and density taken from the CSV."
   ]
  },
  {
   "cell_type": "markdown",
   "metadata": {
    "slideshow": {
     "slide_type": "subslide"
    }
   },
   "source": [
    "To train the models, we create a _data view_ based on the dataset we just created.  To create a data view:\n",
    " 1. Go to the [data views page](https://citrination.com/data_views) and click \"Create new dataset\"\n",
    " 1. Search for the property name \"Density\" and select the dataset you created before.  Advance with the \"NEXT >\" button in the top right corner\n",
    " 1. Select the \"Chemical formula\" and \"Density\" properties (or \"Include all\")\n",
    " 1. The Chemical formula should be recognized as an \"Inorganic Chemical Formula\" and \"Input\"; click the right arrow to advance to the next property\n",
    " 1. The density should be recognized as a \"Real\" and \"Output\".  Enter \"Infinity\" for the Max value\n",
    " 1. Review the annotations, click \"Next >\", name your data view, and click \"Save\""
   ]
  },
  {
   "cell_type": "markdown",
   "metadata": {
    "slideshow": {
     "slide_type": "fragment"
    }
   },
   "source": [
    "When the models are done training, you'll have access to predictions, model reports, and other analysis via the new data view."
   ]
  },
  {
   "cell_type": "markdown",
   "metadata": {
    "slideshow": {
     "slide_type": "subslide"
    }
   },
   "source": [
    "## Data science\n",
    "\n",
    "We can do better than that!  Many of the DFT records are unstable or meta-stable.  What we really want are densities of stable phases, so let's filter on the energy above the convex hull."
   ]
  },
  {
   "cell_type": "code",
   "execution_count": 8,
   "metadata": {
    "slideshow": {
     "slide_type": "fragment"
    }
   },
   "outputs": [],
   "source": [
    "stable_query = PifSystemQuery(\n",
    "                    chemical_formula=ChemicalFieldQuery(\n",
    "                        extract_as='formula'\n",
    "                    ),\n",
    "                    properties=[\n",
    "                        PropertyQuery(\n",
    "                            name=FieldQuery(\n",
    "                                filter=[Filter(equal=\"Density\")]),\n",
    "                            value=FieldQuery(\n",
    "                                extract_as=\"density\",\n",
    "                                logic=\"MUST\")\n",
    "                        ),\n",
    "                        PropertyQuery(\n",
    "                            name=FieldQuery(\n",
    "                                filter=[Filter(equal=\"Energy Above Convex Hull\")]),\n",
    "                            value=FieldQuery(\n",
    "                                extract_as=\"EACH\",\n",
    "                                filter=[Filter(max='0.000000001')],\n",
    "                                logic=\"MUST\")\n",
    "                        )]\n",
    ")\n",
    "\n"
   ]
  },
  {
   "cell_type": "markdown",
   "metadata": {
    "slideshow": {
     "slide_type": "subslide"
    }
   },
   "source": [
    "Let's re-run with this new query, saving to `better_density.csv`."
   ]
  },
  {
   "cell_type": "code",
   "execution_count": 10,
   "metadata": {
    "slideshow": {
     "slide_type": "fragment"
    }
   },
   "outputs": [
    {
     "name": "stdout",
     "output_type": "stream",
     "text": [
      "We found 5000 records\n",
      "[{'density': ['6.741920951056403'], 'formula': 'W25O73'}, {'density': ['4.035981296421682'], 'formula': 'Li4VCr3O8'}]\n"
     ]
    }
   ],
   "source": [
    "dataset_id = 150675\n",
    "query_size = 5000\n",
    "\n",
    "better_query = PifSystemReturningQuery(\n",
    "                size=query_size,\n",
    "                random_results=True,\n",
    "                query=DataQuery(\n",
    "                    dataset=DatasetQuery(\n",
    "                        id=[Filter(equal=str(dataset_id))]\n",
    "                    ),\n",
    "                    system=stable_query\n",
    "                ))\n",
    "\n",
    "\n",
    "better_result = client.search.pif_search(better_query)\n",
    "\n",
    "print(\"We found {} records\".format(len(better_result.hits)))\n",
    "print([x.extracted for x in search_result.hits[0:2]])\n",
    "write_csv('better_density.csv', [x.extracted for x in better_result.hits])"
   ]
  },
  {
   "cell_type": "markdown",
   "metadata": {
    "slideshow": {
     "slide_type": "slide"
    }
   },
   "source": [
    "## Applying the model\n",
    "\n",
    "We can use the model to make predictions through the client.  The `predict` method expects the ID number of the data view and a list of inputs, where each input is a map from property names to property values.\n",
    "\n",
    "The result is a dictionary with a `candidates` member that is a list of maps from property names to values.  However, the values here are pairs of the form `(expected value, uncertainty)`."
   ]
  },
  {
   "cell_type": "code",
   "execution_count": 22,
   "metadata": {
    "slideshow": {
     "slide_type": "fragment"
    }
   },
   "outputs": [
    {
     "name": "stdout",
     "output_type": "stream",
     "text": [
      "1 1\n",
      "We predict the density of AlCu to be 7.464366567871429 +/- 2.178253940554062\n"
     ]
    }
   ],
   "source": [
    "inputs = [{\"Chemical formula\": \"AlCu\"},]\n",
    "resp = client.models.predict(\"27\", inputs)\n",
    "print(len(inputs), len(resp))\n",
    "prediction = resp[0].get_value('Density')\n",
    "print(\"We predict the density of {} to be {} +/- {}\".format(inputs[0]['Chemical formula'], prediction.value, prediction.loss))"
   ]
  },
  {
   "cell_type": "markdown",
   "metadata": {
    "slideshow": {
     "slide_type": "subslide"
    }
   },
   "source": [
    "### Elemental properties\n",
    "\n",
    "The model uses average elemental properties, based on [magpie](https://bitbucket.org/wolverton/magpie), to featurize the chemical formula.  The predictions contain those and any other latent features as well: "
   ]
  },
  {
   "cell_type": "code",
   "execution_count": 40,
   "metadata": {
    "slideshow": {
     "slide_type": "fragment"
    }
   },
   "outputs": [
    {
     "name": "stdout",
     "output_type": "stream",
     "text": [
      "[['Min atomic radius plus max electronegativity difference for Chemical formula dopants', 0.0], ['mean of Elemental atomic volume for Chemical formula dopants', 0.0], ['mean of Non-dimensional work function for Chemical formula', 0.7004071932745081], ['mean of DFT volume ratio for Chemical formula dopants', 0.0], ['mean of Shear Modulus Melting Temp Product for Chemical formula dopants', 0.0]]\n"
     ]
    }
   ],
   "source": [
    "keys = list(resp[0].all_keys())\n",
    "print([[key, resp[0].get_value(key).value] for key in keys[0:5]])"
   ]
  },
  {
   "cell_type": "markdown",
   "metadata": {
    "slideshow": {
     "slide_type": "slide"
    }
   },
   "source": [
    "## Design\n",
    "\n",
    "Now that we have a model, we can optimize it over the space of materials.  Creating a good sampler is generally hard, so here we'll just screen our model over the compounds in ICSD."
   ]
  },
  {
   "cell_type": "code",
   "execution_count": 44,
   "metadata": {},
   "outputs": [
    {
     "name": "stdout",
     "output_type": "stream",
     "text": [
      "Highest density compound is Np1Al99 with rho=14.450434349941387 +/- 6.354853591092307\n"
     ]
    }
   ],
   "source": [
    "with open(\"./example_data/icsd.dat\", \"r\") as f:\n",
    "    compounds = [x.split()[0] for x in f.readlines()]\n",
    "inputs = [{\"Chemical formula\": x} for x in compounds[:1000]]\n",
    "resp = client.models.predict(\"27\", inputs)\n",
    "results = [{\"formula\": r.get_value('Chemical formula').value, \\\n",
    "      \"value\": r.get_value('Density').value, \\\n",
    "      \"loss\": r.get_value('Density').loss} for r in resp]\n",
    "best = sorted(results, key=lambda x: -x['value'])[0]\n",
    "print(\"Highest density compound is {} with rho={} +/- {}\".format(\n",
    "    best['formula'], best['value'], best['loss']\n",
    "))"
   ]
  },
  {
   "cell_type": "code",
   "execution_count": null,
   "metadata": {
    "collapsed": true
   },
   "outputs": [],
   "source": []
  }
 ],
 "metadata": {
  "anaconda-cloud": {},
  "celltoolbar": "Slideshow",
  "kernelspec": {
   "display_name": "Python 3",
   "language": "python",
   "name": "python3"
  },
  "language_info": {
   "codemirror_mode": {
    "name": "ipython",
    "version": 3
   },
   "file_extension": ".py",
   "mimetype": "text/x-python",
   "name": "python",
   "nbconvert_exporter": "python",
   "pygments_lexer": "ipython3",
   "version": "3.6.4"
  }
 },
 "nbformat": 4,
 "nbformat_minor": 2
}
