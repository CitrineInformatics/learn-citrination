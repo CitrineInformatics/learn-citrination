{
 "cells": [
  {
   "cell_type": "markdown",
   "metadata": {
    "collapsed": true,
    "slideshow": {
     "slide_type": "slide"
    }
   },
   "source": [
    "## Query structure mirrors pif structure\n",
    "* You can query subsystems, processing steps, properties, conditions of properties etc. by creating a query that matches the object hierarchy to the section you want to query\n"
   ]
  },
  {
   "cell_type": "code",
   "execution_count": 1,
   "metadata": {},
   "outputs": [],
   "source": [
    "from citrination_client import CitrinationClient\n",
    "from citrination_client import PifSystemReturningQuery, PifSystemQuery, FieldQuery, ValueQuery\n",
    "from citrination_client import PropertyQuery, DataQuery, DatasetQuery, ChemicalFieldQuery, ChemicalFilter, Filter\n",
    "\n",
    "from os import environ\n",
    "from pypif import pif\n",
    "\n",
    "client = CitrinationClient(environ['CITRINATION_API_KEY'], 'https://citrination.com')"
   ]
  },
  {
   "cell_type": "markdown",
   "metadata": {
    "collapsed": true,
    "slideshow": {
     "slide_type": "slide"
    }
   },
   "source": [
    "## Flattening the PIF structure\n",
    "\n",
    "extract_as creates a flattened dictionary structure mapping user supplied keys to objects in the PIF that match within the query\n",
    "\n",
    "extract_all is an option for extract_as that pulls a list of all objects at the level in the hierarchy that match the query\n",
    "\n",
    "Let's search for the \"Enthalpy of Formation\" property:"
   ]
  },
  {
   "cell_type": "code",
   "execution_count": 5,
   "metadata": {},
   "outputs": [
    {
     "name": "stdout",
     "output_type": "stream",
     "text": [
      "69640 hits\n",
      "\n",
      "Extracted fields:\n",
      "{\n",
      "  \"formation_enthalpy\": [\n",
      "    \"0.0\"\n",
      "  ]\n",
      "}\n",
      "{\n",
      "  \"formation_enthalpy\": [\n",
      "    \"0.1074050600000005\"\n",
      "  ]\n",
      "}\n"
     ]
    }
   ],
   "source": [
    "dataset_id = 150675\n",
    "query_size = 10\n",
    "\n",
    "query = PifSystemReturningQuery(\n",
    "            size=query_size,\n",
    "            query=DataQuery(\n",
    "                dataset=DatasetQuery(\n",
    "                    id=[Filter(equal=str(dataset_id))]\n",
    "                ),\n",
    "                chemical_formula=ChemicalFieldQuery(\n",
    "                    extract_as='formula',\n",
    "                    filter=ChemicalFilter(\n",
    "                            equal='CdTe')),\n",
    "                system=PifSystemQuery(\n",
    "                    properties=PropertyQuery(\n",
    "                        extract_all=True,\n",
    "                        name=FieldQuery(\n",
    "                            filter=[Filter(equal=\"Enthalpy of Formation\")]),\n",
    "                        value=FieldQuery(\n",
    "                            extract_as=\"formation_enthalpy\",\n",
    "                            extract_all=True)\n",
    "                    )\n",
    "                )\n",
    "            ))\n",
    "\n",
    "query_result = client.search.pif_search(query)\n",
    "print( \"{} hits\\n\".format(query_result.total_num_hits))\n",
    "print( \"Extracted fields:\")\n",
    "for i in range(2):\n",
    "    print( pif.dumps(query_result.hits[i].extracted, indent=2))"
   ]
  },
  {
   "cell_type": "markdown",
   "metadata": {
    "collapsed": true,
    "slideshow": {
     "slide_type": "slide"
    }
   },
   "source": [
    "## Chemical formula search\n",
    "Citrine has developed specialized search functionality specifically for chemical formulas. The analyser parses the search string and recognizes chemical entities such as elements and stoichiometries to find chemically relevant results.\n",
    "\n",
    "1. You can use a `simple_chemical_search` with a simple search string like \"PbSe\" or,\n",
    "2. You can structure a `PifSystemReturningQuery` with more detailed elemental and stoichiometric strings.\n",
    "\n",
    "Let's search over the Materials Project dataset using ```mp_dataset_id = 150675``` as the dataset_id."
   ]
  },
  {
   "cell_type": "code",
   "execution_count": 22,
   "metadata": {},
   "outputs": [
    {
     "name": "stdout",
     "output_type": "stream",
     "text": [
      "Citrination Client Warning - Query size greater than max system size - only 10000 results will be returned\n",
      "4 hits \n",
      "\n",
      "{\"property_units\": \"g/cm$^3$\", \"name\": \"Lead selenide - HP\", \"property_value\": \"8.767862185821011\", \"chemical_formula\": \"PbSe\", \"property_name\": \"Density\"}\n",
      "\n",
      "\n",
      "{\"property_units\": \"g/cm$^3$\", \"name\": \"Lead selenide\", \"property_value\": \"4.062929739915243\", \"chemical_formula\": \"PbSe\", \"property_name\": \"Density\"}\n",
      "\n",
      "\n",
      "{\"property_units\": \"g/cm$^3$\", \"name\": \"Clausthalite\", \"property_value\": \"7.872521935843158\", \"chemical_formula\": \"PbSe\", \"property_name\": \"Density\"}\n",
      "\n",
      "\n",
      "{\"property_units\": \"g/cm$^3$\", \"name\": \"Nickel lead selenide (3/2/2)\", \"property_value\": \"9.207453481307569\", \"chemical_formula\": \"Ni3(PbSe)2\", \"property_name\": \"Density\"}\n",
      "\n",
      "\n"
     ]
    }
   ],
   "source": [
    "mp_dataset_id = 150675\n",
    "query = client.search.generate_simple_chemical_query(chemical_formula=\"PbSe\", include_datasets=[mp_dataset_id])\n",
    "search_result = client.search.pif_search(query)\n",
    "print( \"{} hits \\n\".format(search_result.total_num_hits))\n",
    "\n",
    "for i in range(search_result.total_num_hits):\n",
    "    print( pif.dumps(search_result.hits[i].extracted))\n",
    "    print(\"\\n\")"
   ]
  },
  {
   "cell_type": "markdown",
   "metadata": {},
   "source": [
    "Now let's explore the different filters we can apply to chemical formulas."
   ]
  },
  {
   "cell_type": "code",
   "execution_count": 27,
   "metadata": {},
   "outputs": [
    {
     "name": "stdout",
     "output_type": "stream",
     "text": [
      "69640 hits\n",
      "{\"formula\": [\"Na(FeO2)2\"]}\n",
      "{\"formula\": [\"CaV(SiO3)2\"]}\n",
      "{\"formula\": [\"LuAgSn\"]}\n",
      "{\"formula\": [\"La4C2Cl5\"]}\n",
      "{\"formula\": [\"Li3V3(BO5)2\"]}\n",
      "23 hits\n",
      "{\"formula\": [\"Ga(MoSe2)4\"]}\n",
      "{\"formula\": [\"Ga(MoSe2)4\"]}\n",
      "{\"formula\": [\"Ga\"]}\n",
      "{\"formula\": [\"GaS\"]}\n",
      "{\"formula\": [\"Ga\"]}\n",
      "33017 hits\n",
      "{\"formula\": [\"Pr2NCl3\"]}\n",
      "{\"formula\": [\"K7TaAs4\"]}\n",
      "{\"formula\": [\"Er(MnGe)2\"]}\n",
      "{\"formula\": [\"GdMnGe\"]}\n",
      "{\"formula\": [\"Rb(MoS)3\"]}\n",
      "1577 hits\n",
      "{\"formula\": [\"CuO\"]}\n",
      "{\"formula\": [\"ZrO2\"]}\n",
      "{\"formula\": [\"SiO2\"]}\n",
      "{\"formula\": [\"Fe3O4\"]}\n",
      "{\"formula\": [\"SiO2\"]}\n",
      "121 hits\n",
      "{\"formula\": [\"CuO\"]}\n",
      "{\"formula\": [\"NbO\"]}\n",
      "{\"formula\": [\"FeO\"]}\n",
      "{\"formula\": [\"RbO\"]}\n",
      "{\"formula\": [\"TiO\"]}\n"
     ]
    }
   ],
   "source": [
    "\n",
    "query = PifSystemReturningQuery(\n",
    "            size=5,\n",
    "            random_results=True,\n",
    "            query=DataQuery(\n",
    "                dataset=DatasetQuery(\n",
    "                    id=[Filter(equal=str(mp_dataset_id))]\n",
    "                ),\n",
    "                system=PifSystemQuery(\n",
    "                    chemical_formula=ChemicalFieldQuery(\n",
    "                        extract_all=True,\n",
    "                        extract_as='formula'),\n",
    "                    )\n",
    "                )\n",
    "            )\n",
    "\n",
    "search_result = client.search.pif_search(query)\n",
    "print( \"{} hits\".format(search_result.total_num_hits))\n",
    "for i in range(5):\n",
    "    print( pif.dumps(search_result.hits[i].extracted))\n",
    "    \n",
    "\n",
    "query = PifSystemReturningQuery(\n",
    "            size=5,\n",
    "            random_results=True,\n",
    "            query=DataQuery(\n",
    "                dataset=DatasetQuery(\n",
    "                    id=[Filter(equal=str(mp_dataset_id))]\n",
    "                ),\n",
    "                system=PifSystemQuery(\n",
    "                    chemical_formula=ChemicalFieldQuery(\n",
    "                        extract_all=True,\n",
    "                        extract_as='formula',\n",
    "                        filter=ChemicalFilter(\n",
    "                            equal='Ga')\n",
    "                    )\n",
    "                )\n",
    "            )\n",
    "        )\n",
    "\n",
    "search_result = client.search.pif_search(query)\n",
    "print( \"{} hits\".format(search_result.total_num_hits))\n",
    "for i in range(5):\n",
    "    print( pif.dumps(search_result.hits[i].extracted))\n",
    "\n",
    "\n",
    "query = PifSystemReturningQuery(\n",
    "            size=5,\n",
    "            random_results=True,\n",
    "            query=DataQuery(\n",
    "                dataset=DatasetQuery(\n",
    "                    id=[Filter(equal=str(mp_dataset_id))]\n",
    "                ),\n",
    "                system=PifSystemQuery(\n",
    "                    chemical_formula=ChemicalFieldQuery(\n",
    "                        extract_all=True,\n",
    "                        extract_as='formula',\n",
    "                        filter=ChemicalFilter(\n",
    "                            equal='?x?y?z')\n",
    "                    )\n",
    "                )\n",
    "            )\n",
    "        )\n",
    "\n",
    "search_result = client.search.pif_search(query)\n",
    "print( \"{} hits\".format(search_result.total_num_hits))\n",
    "for i in range(5):\n",
    "    print( pif.dumps(search_result.hits[i].extracted))\n",
    "\n",
    "\n",
    "query = PifSystemReturningQuery(\n",
    "            size=5,\n",
    "            random_results=True,\n",
    "            query=DataQuery(\n",
    "                dataset=DatasetQuery(\n",
    "                    id=[Filter(equal=str(mp_dataset_id))]\n",
    "                ),\n",
    "                system=PifSystemQuery(\n",
    "                    chemical_formula=ChemicalFieldQuery(\n",
    "                        extract_all=True,\n",
    "                        extract_as='formula',\n",
    "                        filter=ChemicalFilter(\n",
    "                            equal='?xOy')\n",
    "                    )\n",
    "                )\n",
    "            )\n",
    "        )\n",
    "\n",
    "search_result = client.search.pif_search(query)\n",
    "print( \"{} hits\".format(search_result.total_num_hits))\n",
    "for i in range(5):\n",
    "    print( pif.dumps(search_result.hits[i].extracted))\n",
    "    \n",
    "\n",
    "query = PifSystemReturningQuery(\n",
    "            size=5,\n",
    "            random_results=True,\n",
    "            query=DataQuery(\n",
    "                dataset=DatasetQuery(\n",
    "                    id=[Filter(equal=str(mp_dataset_id))]\n",
    "                ),\n",
    "                system=PifSystemQuery(\n",
    "                    chemical_formula=ChemicalFieldQuery(\n",
    "                        extract_all=True,\n",
    "                        extract_as='formula',\n",
    "                        filter=ChemicalFilter(\n",
    "                            equal='?1O1')\n",
    "                    )\n",
    "                )\n",
    "            )\n",
    "        )\n",
    "\n",
    "search_result = client.search.pif_search(query)\n",
    "print( \"{} hits\".format(search_result.total_num_hits))\n",
    "for i in range(5):\n",
    "    print( pif.dumps(search_result.hits[i].extracted))"
   ]
  },
  {
   "cell_type": "markdown",
   "metadata": {
    "collapsed": true,
    "slideshow": {
     "slide_type": "slide"
    }
   },
   "source": [
    "## Logical operations\n",
    "\n",
    "We can also include the following logical operations on the filters: `SHOULD, MUST, OPTIONAL, MUST_NOT`"
   ]
  },
  {
   "cell_type": "code",
   "execution_count": 28,
   "metadata": {
    "slideshow": {
     "slide_type": "subslide"
    }
   },
   "outputs": [
    {
     "name": "stdout",
     "output_type": "stream",
     "text": [
      "1456 hits\n",
      "\n",
      "{\"formula\": \"Tb5O9\"}\n",
      "{\"formula\": \"TiO2\"}\n",
      "{\"formula\": \"HoO3\"}\n",
      "{\"formula\": \"VO2\"}\n",
      "{\"formula\": \"P2O3\"}\n",
      "69640 hits\n",
      "\n",
      "{\n",
      "  \"crystal system\": \"trigonal\",\n",
      "  \"bandgap\": \"3.5443000000000002\",\n",
      "  \"formula\": \"Si2Mo4P6O25\",\n",
      "  \"H_f\": \"-2.6705706557609394\"\n",
      "}\n",
      "{\n",
      "  \"crystal system\": \"triclinic\",\n",
      "  \"bandgap\": \"0.6514000000000006\",\n",
      "  \"formula\": \"KSbO3\",\n",
      "  \"H_f\": \"-1.39231271975\"\n",
      "}\n",
      "{\n",
      "  \"crystal system\": \"monoclinic\",\n",
      "  \"bandgap\": \"2.2218\",\n",
      "  \"formula\": \"Mg3(HO3)2\",\n",
      "  \"H_f\": \"-1.8332794854309091\"\n",
      "}\n",
      "{\n",
      "  \"crystal system\": \"orthorhombic\",\n",
      "  \"bandgap\": \"0.6036000000000001\",\n",
      "  \"formula\": \"PdS2\",\n",
      "  \"H_f\": \"-0.7156774493750001\"\n",
      "}\n",
      "{\n",
      "  \"crystal system\": \"monoclinic\",\n",
      "  \"bandgap\": \"0.8796999999999999\",\n",
      "  \"formula\": \"Li2Co(PO3)5\",\n",
      "  \"H_f\": \"-2.5019288754011386\"\n",
      "}\n"
     ]
    }
   ],
   "source": [
    "query = PifSystemReturningQuery(\n",
    "            size=5,\n",
    "            random_results=True,\n",
    "            query=DataQuery(\n",
    "                dataset=DatasetQuery(\n",
    "                    id=[Filter(equal=str(mp_dataset_id))]\n",
    "                ),\n",
    "                system=PifSystemQuery(\n",
    "                    chemical_formula=[\n",
    "                        ChemicalFieldQuery(\n",
    "                            extract_as='formula',\n",
    "                            filter=ChemicalFilter(\n",
    "                                equal='?1O1'),\n",
    "                            logic=\"MUST_NOT\"),\n",
    "                        ChemicalFieldQuery(\n",
    "                        extract_as='formula',\n",
    "                            filter=ChemicalFilter(\n",
    "                                equal='?xOy')\n",
    "                        )]\n",
    "                )\n",
    "            )\n",
    "        )\n",
    "\n",
    "search_result = client.search.pif_search(query)\n",
    "print( \"{} hits\\n\".format(search_result.total_num_hits))\n",
    "for i in range(5):\n",
    "    print( pif.dumps(search_result.hits[i].extracted))\n",
    "\n",
    "\n",
    "    \n",
    "query = PifSystemReturningQuery(\n",
    "            size=5,\n",
    "            random_results=True,\n",
    "            query=DataQuery(\n",
    "                dataset=DatasetQuery(\n",
    "                    id=[Filter(equal=str(mp_dataset_id))]\n",
    "                ),\n",
    "                system=PifSystemQuery(\n",
    "                    chemical_formula=ChemicalFieldQuery(\n",
    "                        extract_as='formula'\n",
    "                    ),\n",
    "                    properties=[\n",
    "                        PropertyQuery(\n",
    "                            name=FieldQuery(\n",
    "                                filter=[Filter(equal=\"Enthalpy of Formation\")]),\n",
    "                            value=FieldQuery(\n",
    "                                extract_as=\"H_f\",\n",
    "                                logic=\"MUST\")\n",
    "                        ),\n",
    "                        PropertyQuery(\n",
    "                            name=FieldQuery(\n",
    "                                filter=[Filter(equal=\"Band Gap\")]),\n",
    "                            value=FieldQuery(\n",
    "                                filter=[Filter(min=1E-5)],\n",
    "                                extract_as=\"bandgap\",\n",
    "                                logic=\"MUST\")\n",
    "                        ),\n",
    "                         PropertyQuery(\n",
    "                            name=FieldQuery(\n",
    "                                filter=[Filter(equal=\"Crystal System\")]),\n",
    "                            value=FieldQuery(\n",
    "                                extract_as=\"crystal system\",\n",
    "                                logic=\"SHOULD\")\n",
    "                        )]\n",
    "                )\n",
    "            )\n",
    "        )\n",
    "\n",
    "search_result = client.search.pif_search(query)\n",
    "print( \"{} hits\\n\".format(search_result.total_num_hits))\n",
    "for i in range(5):\n",
    "    print( pif.dumps(search_result.hits[i].extracted, indent=2))"
   ]
  },
  {
   "cell_type": "code",
   "execution_count": null,
   "metadata": {
    "collapsed": true
   },
   "outputs": [],
   "source": []
  }
 ],
 "metadata": {
  "celltoolbar": "Slideshow",
  "kernelspec": {
   "display_name": "Python 3",
   "language": "python",
   "name": "python3"
  },
  "language_info": {
   "codemirror_mode": {
    "name": "ipython",
    "version": 3
   },
   "file_extension": ".py",
   "mimetype": "text/x-python",
   "name": "python",
   "nbconvert_exporter": "python",
   "pygments_lexer": "ipython3",
   "version": "3.6.4"
  }
 },
 "nbformat": 4,
 "nbformat_minor": 2
}
