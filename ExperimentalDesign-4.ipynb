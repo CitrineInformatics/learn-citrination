{
 "cells": [
  {
   "cell_type": "code",
   "execution_count": 1,
   "metadata": {
    "slideshow": {
     "slide_type": "skip"
    }
   },
   "outputs": [],
   "source": [
    "from citrination_client import CitrinationClient\n",
    "from os import environ\n",
    "\n",
    "from citrination_client import PifSystemQuery, PifSystemReturningQuery\n",
    "from citrination_client import FieldQuery, ValueQuery, NameQuery\n",
    "from citrination_client import PropertyQuery,DataQuery, DatasetQuery, ChemicalFieldQuery, Filter\n",
    "client = CitrinationClient(environ['CITRINATION_API_KEY'], 'https://citrination.com')"
   ]
  },
  {
   "cell_type": "markdown",
   "metadata": {
    "slideshow": {
     "slide_type": "slide"
    }
   },
   "source": [
    "# Experimental design with Citrination\n",
    "\n",
    "In this notebook, we demonstrate how to use Citrination to select experiments (or simulations, or literature searches) to maximize the impact on an optimization problem."
   ]
  },
  {
   "cell_type": "markdown",
   "metadata": {
    "slideshow": {
     "slide_type": "subslide"
    }
   },
   "source": [
    "## Case study: thermoelectrics\n",
    "\n",
    "Given a list of thermoelectric candidates, how many experiments do we need to find the best one?"
   ]
  },
  {
   "cell_type": "markdown",
   "metadata": {
    "slideshow": {
     "slide_type": "fragment"
    }
   },
   "source": [
    "Here, _best_ will be with respect to the thermoelecric figure of merit, ZT:\n",
    "    $$ ZT = \\frac{\\sigma S^2 T}{\\lambda}, $$\n",
    "where $\\sigma$ is the electrical conductivity, $S$ is the Seebeck coefficient, $T$ is the temperature, and $\\lambda$ is the thermal conductivity.  Higher is better."
   ]
  },
  {
   "cell_type": "markdown",
   "metadata": {
    "slideshow": {
     "slide_type": "slide"
    }
   },
   "source": [
    "# Getting the data\n",
    "\n",
    "We begin by querying for the thermoelectric dataset, which is on Citrination [here](https://citrination.com/datasets/150888).  We want the formula and zT"
   ]
  },
  {
   "cell_type": "code",
   "execution_count": 2,
   "metadata": {
    "slideshow": {
     "slide_type": "fragment"
    }
   },
   "outputs": [],
   "source": [
    "dataset_id = 150888\n",
    "\n",
    "system_query = PifSystemQuery(\n",
    "    chemical_formula=ChemicalFieldQuery(\n",
    "        extract_as=\"formula\"\n",
    "    ),\n",
    "    properties=PropertyQuery(\n",
    "        name=FieldQuery(\n",
    "            filter=[Filter(equal=\"ZT\")]\n",
    "        ),\n",
    "        value=FieldQuery(\n",
    "            extract_as=\"ZT\"\n",
    "        )\n",
    "    )\n",
    ")\n",
    "thermoelectric_query = PifSystemReturningQuery(\n",
    "                        random_seed=0,\n",
    "                        query=DataQuery(\n",
    "                            dataset=DatasetQuery(\n",
    "                                id=[Filter(equal='150888')]\n",
    "                            ),\n",
    "                        system=system_query))"
   ]
  },
  {
   "cell_type": "markdown",
   "metadata": {
    "slideshow": {
     "slide_type": "subslide"
    }
   },
   "source": [
    "Let's run it and see what we get:"
   ]
  },
  {
   "cell_type": "code",
   "execution_count": 3,
   "metadata": {
    "slideshow": {
     "slide_type": "fragment"
    }
   },
   "outputs": [
    {
     "name": "stdout",
     "output_type": "stream",
     "text": [
      "Citrination Client Warning - Query size greater than max system size - only 10000 results will be returned\n",
      "We found 165 records\n",
      "[{'formula': 'La0.98Sr0.02CoO3', 'ZT': '0.026234732'}, {'formula': 'Zr0.4Hf0.4Ti0.2NiSn', 'ZT': '0.030958179'}]\n"
     ]
    }
   ],
   "source": [
    "search_result = client.search.pif_search(thermoelectric_query)\n",
    "print(\"We found {} records\".format(search_result.total_num_hits))\n",
    "print([x.extracted for x in search_result.hits[0:2]])"
   ]
  },
  {
   "cell_type": "markdown",
   "metadata": {
    "slideshow": {
     "slide_type": "subslide"
    }
   },
   "source": [
    "This dataset has all the ZT values already, so we want to drop most of them before trying to design an experiment:"
   ]
  },
  {
   "cell_type": "code",
   "execution_count": 4,
   "metadata": {
    "slideshow": {
     "slide_type": "fragment"
    }
   },
   "outputs": [],
   "source": [
    "from random import shuffle, seed\n",
    "seed(1)\n",
    "full_data = [x.extracted.copy() for x in search_result.hits]\n",
    "shuffle(full_data)\n",
    "known_subset = full_data[:20]\n",
    "unknown_subset = full_data[20:]\n",
    "for x in unknown_subset: \n",
    "    del x['ZT']"
   ]
  },
  {
   "cell_type": "markdown",
   "metadata": {
    "slideshow": {
     "slide_type": "fragment"
    }
   },
   "source": [
    "Our goal is to pick the best material to measure next from `unknown_subset`."
   ]
  },
  {
   "cell_type": "markdown",
   "metadata": {
    "slideshow": {
     "slide_type": "slide"
    }
   },
   "source": [
    "# Training a model on known data"
   ]
  },
  {
   "cell_type": "markdown",
   "metadata": {
    "slideshow": {
     "slide_type": "fragment"
    }
   },
   "source": [
    "We train a model using the csv -> dataset -> data_view workflow described in the [modeling tutorial](https://github.com/CitrineInformatics/learn-citrination/blob/master/MLonCitrination.ipynb)."
   ]
  },
  {
   "cell_type": "markdown",
   "metadata": {
    "slideshow": {
     "slide_type": "subslide"
    }
   },
   "source": [
    "## Create a csv\n",
    "\n",
    "The csv needs headers that conform to our [CSV template](http://help.citrination.com/knowledgebase/articles/1188136-citrine-template-csv-csv)."
   ]
  },
  {
   "cell_type": "code",
   "execution_count": 5,
   "metadata": {
    "slideshow": {
     "slide_type": "fragment"
    }
   },
   "outputs": [],
   "source": [
    "def write_csv(name, rows):\n",
    "    with open(name, \"w\") as f:\n",
    "        f.write(\"FORMULA, PROPERTY: ZT \\n\")\n",
    "        for row in rows:\n",
    "            f.write(\"{formula:s}, {ZT:s}\\n\".format(**row))\n",
    "write_csv('known_thermoelectrics.csv', known_subset)"
   ]
  },
  {
   "cell_type": "markdown",
   "metadata": {
    "slideshow": {
     "slide_type": "subslide"
    }
   },
   "source": [
    "The rest of the model building process is on the website:\n",
    " 1. Go to the [Add Datasets](https://citrination.com/add_data) page and upload `known_thermoelectrics.csv` using the `Citrine: Template CSV` ingester from the drop down menu.\n",
    " 1. Go to the [data views page](https://citrination.com/data_views) and click \"Create new data view\"\n",
    " 1. Search for the property name \"ZT\" and select the dataset you created before.  Advance with the \"NEXT >\" button in the top right corner\n",
    " 1. Follow the guide to create a data view that has `formula` as an input and `ZT` as an output"
   ]
  },
  {
   "cell_type": "markdown",
   "metadata": {
    "slideshow": {
     "slide_type": "slide"
    }
   },
   "source": [
    "# Apply the model to unknown data"
   ]
  },
  {
   "cell_type": "markdown",
   "metadata": {
    "slideshow": {
     "slide_type": "fragment"
    }
   },
   "source": [
    "First, we'll use the trained model to make predictions via the API.  Change the `view_id` below to point to your view."
   ]
  },
  {
   "cell_type": "code",
   "execution_count": 9,
   "metadata": {
    "slideshow": {
     "slide_type": "fragment"
    }
   },
   "outputs": [
    {
     "name": "stdout",
     "output_type": "stream",
     "text": [
      "TiO2\n",
      "We predict the ZT of TiO2 (@ 300K) to be <citrination_client.models.predicted_value.PredictedValue object at 0x10883c390> +/- <citrination_client.models.predicted_value.PredictedValue object at 0x10883c390>\n"
     ]
    }
   ],
   "source": [
    "view_id = \"3904\"\n",
    "\n",
    "inputs = [{\"formula\": \"TiO2\"}]\n",
    "prediction = client.models.predict(view_id, inputs, method=\"scalar\")\n",
    "\n",
    "print(inputs[0]['formula'])\n",
    "print(\"We predict the ZT of {} (@ 300K) to be {} +/- {}\".format(inputs[0]['formula'], prediction[0].get_value('Property ZT'), prediction[0].get_value('Property ZT')))\n"
   ]
  },
  {
   "cell_type": "markdown",
   "metadata": {
    "slideshow": {
     "slide_type": "subslide"
    }
   },
   "source": [
    "## Maximum likelihood of improvement\n",
    "\n",
    "This tutorial is about _experimental design_, so we need to pick a criterion for experimental selection.\n",
    "\n",
    "There are many, but a straight forward and powerful one is \"maximum likelihood of improvement\", which is easy to compute if we assume the output distribution is normal."
   ]
  },
  {
   "cell_type": "code",
   "execution_count": 10,
   "metadata": {
    "slideshow": {
     "slide_type": "fragment"
    }
   },
   "outputs": [],
   "source": [
    "from scipy.special import erf\n",
    "from math import sqrt\n",
    "\n",
    "def probability_improvement(mean, sigma, baseline):\n",
    "    return float(0.5 * (1.0 + erf((mean - baseline) / (sigma * sqrt(2.0)))))"
   ]
  },
  {
   "cell_type": "markdown",
   "metadata": {
    "slideshow": {
     "slide_type": "subslide"
    }
   },
   "source": [
    "What is the baseline?  The largest value in the known data:"
   ]
  },
  {
   "cell_type": "code",
   "execution_count": 11,
   "metadata": {
    "slideshow": {
     "slide_type": "fragment"
    }
   },
   "outputs": [
    {
     "name": "stdout",
     "output_type": "stream",
     "text": [
      "The highest ZT value in the known subset is 0.424000225\n"
     ]
    }
   ],
   "source": [
    "baseline_ZT = max(float(x['ZT']) for x in known_subset)\n",
    "print(\"The highest ZT value in the known subset is {}\".format(baseline_ZT))"
   ]
  },
  {
   "cell_type": "markdown",
   "metadata": {
    "slideshow": {
     "slide_type": "subslide"
    }
   },
   "source": [
    "Now let's screen the unknown materials for likelihood of improvement:"
   ]
  },
  {
   "cell_type": "code",
   "execution_count": 36,
   "metadata": {
    "slideshow": {
     "slide_type": "fragment"
    }
   },
   "outputs": [],
   "source": [
    "predictions = client.models.predict(view_id, unknown_subset)\n",
    "for p in predictions:\n",
    "    p_value = p.get_value('Property ZT')\n",
    "    p.add_value('LI', probability_improvement(float(p_value.value), float(p_value.loss), baseline_ZT))"
   ]
  },
  {
   "cell_type": "markdown",
   "metadata": {
    "slideshow": {
     "slide_type": "subslide"
    }
   },
   "source": [
    "Pandas can help us look at the result.  The top values for \"LI\" are the ones we should try next."
   ]
  },
  {
   "cell_type": "code",
   "execution_count": 46,
   "metadata": {},
   "outputs": [
    {
     "name": "stdout",
     "output_type": "stream",
     "text": [
      "            formula                                 Property ZT        LI\n",
      "0             WO2.9  [0.15556628550000007, 0.11014407093559876]  0.007402\n",
      "1         CeFe4Sb12  [0.20955596754687503, 0.10286526296804725]  0.018548\n",
      "2           WO2.722  [0.15561337937500003, 0.10955761375265435]  0.007148\n",
      "3     In0.25Co4Sb12    [0.29919832456250023, 0.125702231635684]  0.160395\n",
      "4       LaFe3CoSb12          [0.195377252, 0.09730643457811816]  0.009399\n",
      "5      In0.3Co4Sb12    [0.29919832456250023, 0.125702231635684]  0.160395\n",
      "6      In0.1Co4Sb12      [0.2129342765625, 0.07349687579251576]  0.002041\n",
      "7  CeFe3.5Co0.5Sb12  [0.20955596754687503, 0.10286526296804725]  0.018548\n",
      "8       CeFe3CoSb12  [0.20955596754687503, 0.10286526296804725]  0.018548\n",
      "9      In0.2Co4Sb12    [0.29919832456250023, 0.125702231635684]  0.160395\n"
     ]
    },
    {
     "data": {
      "text/html": [
       "<div>\n",
       "<style scoped>\n",
       "    .dataframe tbody tr th:only-of-type {\n",
       "        vertical-align: middle;\n",
       "    }\n",
       "\n",
       "    .dataframe tbody tr th {\n",
       "        vertical-align: top;\n",
       "    }\n",
       "\n",
       "    .dataframe thead th {\n",
       "        text-align: right;\n",
       "    }\n",
       "</style>\n",
       "<table border=\"1\" class=\"dataframe\">\n",
       "  <thead>\n",
       "    <tr style=\"text-align: right;\">\n",
       "      <th></th>\n",
       "      <th>formula</th>\n",
       "      <th>Property ZT</th>\n",
       "      <th>LI</th>\n",
       "    </tr>\n",
       "  </thead>\n",
       "  <tbody>\n",
       "    <tr>\n",
       "      <th>3</th>\n",
       "      <td>In0.25Co4Sb12</td>\n",
       "      <td>0.30 +/-  0.13</td>\n",
       "      <td>0.160</td>\n",
       "    </tr>\n",
       "    <tr>\n",
       "      <th>5</th>\n",
       "      <td>In0.3Co4Sb12</td>\n",
       "      <td>0.30 +/-  0.13</td>\n",
       "      <td>0.160</td>\n",
       "    </tr>\n",
       "    <tr>\n",
       "      <th>9</th>\n",
       "      <td>In0.2Co4Sb12</td>\n",
       "      <td>0.30 +/-  0.13</td>\n",
       "      <td>0.160</td>\n",
       "    </tr>\n",
       "    <tr>\n",
       "      <th>1</th>\n",
       "      <td>CeFe4Sb12</td>\n",
       "      <td>0.21 +/-  0.10</td>\n",
       "      <td>0.019</td>\n",
       "    </tr>\n",
       "    <tr>\n",
       "      <th>7</th>\n",
       "      <td>CeFe3.5Co0.5Sb12</td>\n",
       "      <td>0.21 +/-  0.10</td>\n",
       "      <td>0.019</td>\n",
       "    </tr>\n",
       "  </tbody>\n",
       "</table>\n",
       "</div>"
      ],
      "text/plain": [
       "            formula      Property ZT     LI\n",
       "3     In0.25Co4Sb12   0.30 +/-  0.13  0.160\n",
       "5      In0.3Co4Sb12   0.30 +/-  0.13  0.160\n",
       "9      In0.2Co4Sb12   0.30 +/-  0.13  0.160\n",
       "1         CeFe4Sb12   0.21 +/-  0.10  0.019\n",
       "7  CeFe3.5Co0.5Sb12   0.21 +/-  0.10  0.019"
      ]
     },
     "execution_count": 46,
     "metadata": {},
     "output_type": "execute_result"
    }
   ],
   "source": [
    "import pandas as pd\n",
    "\n",
    "top_predictions = []\n",
    "for p in predictions:\n",
    "    li, form, zt = p.get_value('LI'), p.get_value('formula'), p.get_value('Property ZT')\n",
    "    if li > 1e-03:\n",
    "        top_predictions.append((form.value, [zt.value, zt.loss], li))\n",
    "        \n",
    "df = pd.DataFrame(top_predictions, columns=['formula', 'Property ZT', 'LI'])\n",
    "print(df)\n",
    "df['Property ZT'] = df['Property ZT'].map(lambda x: \"{:5.2f} +/- {:5.2f}\".format(*x))\n",
    "df['LI'] = df['LI'].map(lambda x: \"{:5.3f}\".format(x))\n",
    "\n",
    "df.sort_values('LI', axis=0, ascending=False)[0:5]\n"
   ]
  },
  {
   "cell_type": "markdown",
   "metadata": {
    "slideshow": {
     "slide_type": "fragment"
    }
   },
   "source": [
    "These materials have a likelihood of improvement below 50%, i.e. their expected ZT value is below the highest value in the dataset.  Therefore, they are biased towards materials with high model uncertainty as well."
   ]
  }
 ],
 "metadata": {
  "anaconda-cloud": {},
  "celltoolbar": "Slideshow",
  "kernelspec": {
   "display_name": "Python 3",
   "language": "python",
   "name": "python3"
  },
  "language_info": {
   "codemirror_mode": {
    "name": "ipython",
    "version": 3
   },
   "file_extension": ".py",
   "mimetype": "text/x-python",
   "name": "python",
   "nbconvert_exporter": "python",
   "pygments_lexer": "ipython3",
   "version": "3.6.4"
  }
 },
 "nbformat": 4,
 "nbformat_minor": 2
}
